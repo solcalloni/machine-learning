{
 "cells": [
  {
   "cell_type": "code",
   "execution_count": 94,
   "metadata": {},
   "outputs": [],
   "source": [
    "import numpy as np\n",
    "import pandas as pd\n",
    "import matplotlib.pyplot as plt\n",
    "import random\n",
    "from sklearn import model_selection"
   ]
  },
  {
   "cell_type": "markdown",
   "metadata": {},
   "source": [
    "[![Open In Colab](https://colab.research.google.com/assets/colab-badge.svg)](https://colab.research.google.com/github/aprendizaje-automatico-dc-uba-ar/material/blob/main/tp/01_aprendizaje_supervisado/tp01-enunciado.ipynb)\n",
    "\n",
    "# Trabajo Práctico -  Aprendizaje supervisado\n",
    "### Clasificación de expresiones genómicas\n",
    "\n",
    "<span style=\"color: red;\">**Fecha de entrega: 01 de Mayo del 2024 - hasta las 23:55hs.**\n",
    "\n",
    "<span style=\"color: red;\">**Fecha de entrega intermedia: 25 de Abril del 2024 - hasta las 23:55hs.**\n",
    "</span>\n",
    "\n",
    "## Introducción\n",
    "\n",
    "En el mundo actual, distintas disciplinas científicas empiezan, cada vez más, a interactuar con el fin de potenciar sus descubrimientos. En este caso dos grupos de investigación de [CONICET](https://www.conicet.gov.ar/) se embarcan en la combinación entre biología y informática para abordar la detección temprana y el pronóstico preciso de enfermedades como el cáncer. Este proyecto combina las tecnologías de secuenciación de nueva generación ([_NGS_](https://es.wikipedia.org/wiki/Secuenciaci%C3%B3n_paralela_masiva), por sus siglas en inglés) con la potencia de la inteligencia artificial. El enfoque se centra en un dataset único que abarca mediciones de [_ARN_](https://es.wikipedia.org/wiki/ARN_mensajero) de 200 [_genes_](https://es.wikipedia.org/wiki/Gen), recopiladas de pacientes con lesiones [_pre-tumorales_](https://en.wikipedia.org/wiki/Hyperplasia). Este conjunto de datos se convierte en una valiosa fuente de información para entender cómo las células en estado de hiperplasia pueden evolucionar hacia [_tumores malignos_](https://en.wikipedia.org/wiki/Neoplasm), una transformación que ha desconcertado a la ciencia durante décadas.\n",
    "\n",
    "La hiperplasia, es un fenómeno en el que las células experimentan un crecimiento anormal y descontrolado, es un punto de partida crucial en nuestro análisis. ¿Cómo y por qué algunas células que experimentan hiperplasia se convierten en células cancerosas, mientras que otras no? Esta pregunta es el corazón de nuestra investigación. Para responderla se realizo un estudio donde se obtuvieron muestras de distintos tipos de hiperplasias de pacientes con antecedentes familiares y lesiones pre tumorales. Este grupo de pacientes, o cohorte, fue monitoreado periodicamente durante los siguientes 5 años buscando indicios de neoplasias o nuevas hiperplasias más agresivas. Con las muestras obtenidas en este estudio se realizo un [_biobanco_](https://en.wikipedia.org/wiki/Biobank) con las mediciones que habitualmente se hacen en la construccion de este tipo de [_plataformas_](https://xena.ucsc.edu/). Cada muestra fue etiquetada como **_buen pronostico_**, si no hubo indicios de nuevas hiperplasias o similares; contrariamente se etiquetaron como de **_mal pronostico_** si hubo una recaida.\n",
    "\n",
    "Este trabajo se concentra en un panel de genes, especificamente en la expresion de 200 genes que se creen tienen un papel crucial en la transformacion tumoral y su etiqueta correspondiente.\n",
    "\n",
    "En concreto:\n",
    "\n",
    "Tendrán un archivo `.csv` en donde se almacenan:\n",
    "  - una matriz de datos `X` de $500$ filas en donde cada fila $x^{(i)}$ representa un vector de $200$ características de cada instancia. Es decir, $\\textbf{x}^{(i)} = x_1^{(i)}, \\dots, x_{200}^{(i)}$ con $i$ entre $1$ y $500$.\n",
    "  - una columna llamada `target` que representa un vector de $500$ posiciones con dos posibles valores: `True` (ó 1, es decir, tiene buen pronostico) y `False` (ó 0, tiene mal pronostico).\n",
    "\n",
    "Los datos están en esta [carpeta](https://github.com/aprendizaje-automatico-dc-uba-ar/material/tree/main/tp/01_aprendizaje_supervisado/datos).\n",
    "\n",
    "Por otra parte, tendrán disponibles un conjunto de instancias sin etiquetas, que utilizaremos para comprobar la calidad de sus resultados (ver Ejercicio 5). \n",
    "\n",
    "**Recomendamos fuertemente leer primero todo el enunciado del trabajo antes de empezar a trabajar sobre el problema propuesto.**\n",
    "\n",
    "---\n",
    "\n",
    "### Sobre el informe\n",
    "\n",
    "Para este trabajo deberán entregar, además del código de las pruebas y experimentos que realicen, un informe en el que deberan seleccionar, para cada apartado, sus resultados acompañado de un texto que explique, reflexione, justifique y conluya dicho contenido. \n",
    "\n",
    "Cada ejercicio indica el largo máximo del texto que se puede incluir. Los gráficos no están contados en dicho espacio. \n",
    "Cada gráfico incluido debe contar con:\n",
    "  \n",
    "  - nombres de los ejes,\n",
    "  - título,\n",
    "  - leyenda autocontenida,\n",
    "  - debe ser referenciado desde el texto, ya que su inclusión se da porque aporta a la discusión del trabajo.\n",
    "\n",
    "---"
   ]
  },
  {
   "cell_type": "markdown",
   "metadata": {},
   "source": [
    "## Ejercicio 1 \n",
    "\n",
    "### Separación de datos (máximo 2 carillas del informe)\n",
    "\n",
    "Contarán con una cantidad limitada de datos, por lo cual es importante tomar una buena decisión en el momento de empezar a utilizarlos. \n",
    "\n",
    "Evaluar y justificar cómo separarán sus datos para desarrollo y para evaluación. \n",
    "\n",
    "**Importante**: en este punto no está permitido dividir la base de datos utilizando la función `train_test_split` de sklearn. Deben decidir e implementar la separación."
   ]
  },
  {
   "cell_type": "markdown",
   "metadata": {},
   "source": [
    "Primero cargamos los datos:"
   ]
  },
  {
   "cell_type": "code",
   "execution_count": 95,
   "metadata": {},
   "outputs": [],
   "source": [
    "df = pd.read_csv(\"data.csv\")"
   ]
  },
  {
   "cell_type": "markdown",
   "metadata": {},
   "source": [
    "Veamos la proporción de datos que tienen target = 1 y de los que tienen target = 0."
   ]
  },
  {
   "cell_type": "code",
   "execution_count": 96,
   "metadata": {},
   "outputs": [
    {
     "data": {
      "text/plain": [
       "target\n",
       "0    0.686\n",
       "1    0.314\n",
       "Name: proportion, dtype: float64"
      ]
     },
     "execution_count": 96,
     "metadata": {},
     "output_type": "execute_result"
    }
   ],
   "source": [
    "df[\"target\"].value_counts(normalize=True)"
   ]
  },
  {
   "cell_type": "markdown",
   "metadata": {},
   "source": [
    "Elegimos separar los datos con la idea de stratified, es decir, separar los datos pero asegurarnos de que las clases queden balanceadas. Elegimos separar el 85% de los datos para desarrollo (425 datos) y el 15% de los datos (75 datos) para evaluación."
   ]
  },
  {
   "cell_type": "code",
   "execution_count": 97,
   "metadata": {},
   "outputs": [
    {
     "data": {
      "text/plain": [
       "int"
      ]
     },
     "execution_count": 97,
     "metadata": {},
     "output_type": "execute_result"
    }
   ],
   "source": [
    "type(round(df[\"target\"].value_counts()[0]*0.85))"
   ]
  },
  {
   "cell_type": "markdown",
   "metadata": {},
   "source": [
    "Implementamos una función que nos separe según lo que queremos:"
   ]
  },
  {
   "cell_type": "code",
   "execution_count": 98,
   "metadata": {},
   "outputs": [],
   "source": [
    "def stratified_split(df,prop=0.85):\n",
    "    cant_0 = df[\"target\"].value_counts()[0]\n",
    "    cant_1 = df[\"target\"].value_counts()[1]\n",
    "    df_0_indices = df[df[\"target\"]==0].index.to_list() #me quedo con los indices de los que tienen target = 0\n",
    "    df_1_indices = df[df[\"target\"]==1].index.to_list() #me quedo con los indices de los que tienen target = 1\n",
    "\n",
    "    random.seed(4)\n",
    "    prop_df_0 = random.sample(df_0_indices,round(cant_0*prop))\n",
    "    menos_prop_df_0 = [idx for idx in df_0_indices if idx not in prop_df_0] \n",
    "    prop_df_1 = random.sample(df_1_indices,round(cant_1*prop))\n",
    "    menos_prop_df_1 = [idx for idx in df_1_indices if idx not in prop_df_1]\n",
    "\n",
    "    desarrollo_indices = prop_df_0+prop_df_1\n",
    "    evaluacion_indices = menos_prop_df_0+menos_prop_df_1\n",
    "\n",
    "    desarrollo = df.loc[desarrollo_indices]\n",
    "    evaluacion = df.loc[evaluacion_indices]\n",
    "    return desarrollo,evaluacion\n"
   ]
  },
  {
   "cell_type": "markdown",
   "metadata": {},
   "source": [
    "Llamamos a la función para dividir los datos:"
   ]
  },
  {
   "cell_type": "code",
   "execution_count": 99,
   "metadata": {},
   "outputs": [
    {
     "name": "stdout",
     "output_type": "stream",
     "text": [
      "Cantidad de datos en el dataset de desarrollo: 425\n",
      "Cantidad de datos en el dataset de evaluación: 75\n"
     ]
    }
   ],
   "source": [
    "dev, eval = stratified_split(df)\n",
    "print(\"Cantidad de datos en el dataset de desarrollo:\", len(dev))\n",
    "print(\"Cantidad de datos en el dataset de evaluación:\",len(eval))"
   ]
  },
  {
   "cell_type": "markdown",
   "metadata": {},
   "source": [
    "Ahora veamos que se respeta la proporción original en cada uno de los datasets:"
   ]
  },
  {
   "cell_type": "code",
   "execution_count": 100,
   "metadata": {},
   "outputs": [
    {
     "name": "stdout",
     "output_type": "stream",
     "text": [
      "Proporción de datos del dataset de desarrollo: \n",
      "          proportion\n",
      "target            \n",
      "0         0.687059\n",
      "1         0.312941\n",
      "Proporción de datos del dataset de evaluación: \n",
      "          proportion\n",
      "target            \n",
      "0             0.68\n",
      "1             0.32\n"
     ]
    }
   ],
   "source": [
    "print(\"Proporción de datos del dataset de desarrollo: \\n \" , pd.DataFrame(dev[\"target\"].value_counts(normalize=True)))\n",
    "print(\"Proporción de datos del dataset de evaluación: \\n \", pd.DataFrame(eval[\"target\"].value_counts(normalize=True)))"
   ]
  },
  {
   "cell_type": "markdown",
   "metadata": {},
   "source": [
    "Guardamos los datos de desarrollo y evaluación en un nuevo archivo."
   ]
  },
  {
   "cell_type": "code",
   "execution_count": 101,
   "metadata": {},
   "outputs": [],
   "source": [
    "eval.to_csv(\"evaluacion.csv\",index=False)\n",
    "dev.to_csv(\"desarrollo.csv\",index=False)"
   ]
  },
  {
   "cell_type": "markdown",
   "metadata": {},
   "source": [
    "## Ejercicio 2\n",
    "\n",
    "\n",
    "### Construcción de modelos (máximo 2 carillas del informe)\n",
    "\n",
    "Para este punto, la tarea consiste en construir y evaluar modelos de tipo **árbol de decisión**. Además, obtener una **estimación realista de la performance** de los mismos.\n",
    "\n",
    "1. Entrenar un árbol de decisión con altura máxima 3 y el resto de los hiperparámetros en default.\n",
    "\n",
    "1. Estimar la performance del modelo utilizando _K-fold cross validation_ con `K=5`, con las métricas _Accuracy_, _Area Under the Precision-Recall Curve (AUPRC)_., _Area Under the Receiver Operating Characteristic Curve (AUCROC)_. \n",
    "\n",
    "   En esta oportunidad se va a pedir además de calcular las métricas para cada fold por separado y su promedio, que hagan el cálculo del score global (como vimos en clase), sólo para los folds de validación.\n",
    "   \n",
    "   Reportar el resultado en una tabla similar a:\n",
    "\n",
    "      <table>\n",
    "      <thead>\n",
    "      <tr>\n",
    "      <th align=\"center\">Permutación</th>\n",
    "      <th>Accuracy (training)</th>\n",
    "      <th>Accuracy (validación)</th>\n",
    "      <th>AUPRC (training)</th>\n",
    "      <th>AUPRC (validación)</th>\n",
    "      <th>AUC ROC (training)</th>\n",
    "      <th>AUC ROC (validación)</th>\n",
    "      </tr>\n",
    "      </thead>\n",
    "      <tbody>\n",
    "      <tr>\n",
    "      <td align=\"center\">1</td>\n",
    "      <td></td>\n",
    "      <td></td>\n",
    "      <td></td>\n",
    "      <td></td>\n",
    "      <td></td>\n",
    "      <td></td>\n",
    "      </tr>\n",
    "      <tr>\n",
    "      <td align=\"center\">2</td>\n",
    "      <td></td>\n",
    "      <td></td>\n",
    "      <td></td>\n",
    "      <td></td>\n",
    "      <td></td>\n",
    "      <td></td>\n",
    "      </tr>\n",
    "      <tr>\n",
    "      <td align=\"center\">3</td>\n",
    "      <td></td>\n",
    "      <td></td>\n",
    "      <td></td>\n",
    "      <td></td>\n",
    "      <td></td>\n",
    "      <td></td>\n",
    "      </tr>\n",
    "      <tr>\n",
    "      <td align=\"center\">4</td>\n",
    "      <td></td>\n",
    "      <td></td>\n",
    "      <td></td>\n",
    "      <td></td>\n",
    "      <td></td>\n",
    "      <td></td>\n",
    "      </tr>\n",
    "      <tr>\n",
    "      <td align=\"center\">5</td>\n",
    "      <td></td>\n",
    "      <td></td>\n",
    "      <td></td>\n",
    "      <td></td>\n",
    "      <td></td>\n",
    "      <td></td>\n",
    "      </tr>\n",
    "      <tr>\n",
    "      <td align=\"center\">Promedios</td>\n",
    "      <td></td>\n",
    "      <td></td>\n",
    "      <td></td>\n",
    "      <td></td>\n",
    "      <td></td>\n",
    "      <td></td>\n",
    "      </tr>\n",
    "      <td align=\"center\">Global</td>\n",
    "      <td>(NO) </td>\n",
    "      <td></td>\n",
    "      <td>(NO) </td>\n",
    "      <td></td>\n",
    "      <td>(NO) </td>\n",
    "      <td></td>\n",
    "      </tr>\n",
    "      </tbody>\n",
    "      </table>    \n",
    "  \n",
    "   **Importante**: de acá en más sólamente utilizaremos el score promedio cuando hagamos _K-fold cross-validation_.\n",
    " \n",
    "1. Explorar las siguientes combinaciones de parámetros para  árboles de decisión (siguiendo con $k-fold$ con $k=5$) utilizando [ParameterGrid](https://scikit-learn.org/stable/modules/generated/sklearn.model_selection.ParameterGrid.html) de _scikit learn_. No está permitido utilizar `GridSearchCV` en este ejercicio.\n",
    "\n",
    "   <table>\n",
    "   <thead>\n",
    "   <tr>\n",
    "   <th align=\"center\">Altura máxima</th>\n",
    "   <th align=\"center\">Criterio de corte</th>\n",
    "   <th>Accuracy (training)</th>\n",
    "   <th>Accuracy (validación)</th>\n",
    "   </tr>\n",
    "   </thead>\n",
    "   <tbody><tr>\n",
    "   <td align=\"center\">3</td>\n",
    "   <td align=\"center\">Gini</td>\n",
    "   <td></td>\n",
    "   <td></td>\n",
    "   </tr>\n",
    "   <tr>\n",
    "   <td align=\"center\">5</td>\n",
    "   <td align=\"center\">Gini</td>\n",
    "   <td></td>\n",
    "   <td></td>\n",
    "   </tr>\n",
    "   <tr>\n",
    "   <td align=\"center\">Infinito</td>\n",
    "   <td align=\"center\">Gini</td>\n",
    "   <td></td>\n",
    "   <td></td>\n",
    "   </tr>\n",
    "   <tr>\n",
    "   <td align=\"center\">3</td>\n",
    "   <td align=\"center\">Entropía</td>\n",
    "   <td></td>\n",
    "   <td></td>\n",
    "   </tr>\n",
    "   <tr>\n",
    "   <td align=\"center\">5</td>\n",
    "   <td align=\"center\">Entropía</td>\n",
    "   <td></td>\n",
    "   <td></td>\n",
    "   </tr>\n",
    "   <tr>\n",
    "   <td align=\"center\">Infinito</td>\n",
    "   <td align=\"center\">Entropía</td>\n",
    "   <td></td>\n",
    "   <td></td>\n",
    "   </tr>\n",
    "   </tbody></table>\n",
    "\n",
    "\n",
    "1. ¿Qué conclusiones se pueden sacar de estas tablas?  "
   ]
  },
  {
   "cell_type": "markdown",
   "metadata": {},
   "source": [
    "#### 1. Entrenamos un árbol de decisión con altura máxima 3 y el resto de los hiperparámetros en default."
   ]
  },
  {
   "cell_type": "code",
   "execution_count": 102,
   "metadata": {},
   "outputs": [],
   "source": [
    "from sklearn.tree import DecisionTreeClassifier"
   ]
  },
  {
   "cell_type": "markdown",
   "metadata": {},
   "source": [
    "Separamos los datos de desarollo en train y test."
   ]
  },
  {
   "cell_type": "code",
   "execution_count": 103,
   "metadata": {},
   "outputs": [],
   "source": [
    "data = pd.read_csv(\"desarrollo.csv\")\n",
    "\n",
    "x_train, x_test, y_train, y_test = model_selection.train_test_split(\n",
    "                    data[data.columns.difference(['target'])],\n",
    "                    data['target'],\n",
    "                    random_state=4,\n",
    "                    test_size=0.1)"
   ]
  },
  {
   "cell_type": "markdown",
   "metadata": {},
   "source": [
    "Entrenamos y vemos la performance del modelo"
   ]
  },
  {
   "cell_type": "code",
   "execution_count": 104,
   "metadata": {},
   "outputs": [
    {
     "data": {
      "text/html": [
       "<style>#sk-container-id-2 {color: black;}#sk-container-id-2 pre{padding: 0;}#sk-container-id-2 div.sk-toggleable {background-color: white;}#sk-container-id-2 label.sk-toggleable__label {cursor: pointer;display: block;width: 100%;margin-bottom: 0;padding: 0.3em;box-sizing: border-box;text-align: center;}#sk-container-id-2 label.sk-toggleable__label-arrow:before {content: \"▸\";float: left;margin-right: 0.25em;color: #696969;}#sk-container-id-2 label.sk-toggleable__label-arrow:hover:before {color: black;}#sk-container-id-2 div.sk-estimator:hover label.sk-toggleable__label-arrow:before {color: black;}#sk-container-id-2 div.sk-toggleable__content {max-height: 0;max-width: 0;overflow: hidden;text-align: left;background-color: #f0f8ff;}#sk-container-id-2 div.sk-toggleable__content pre {margin: 0.2em;color: black;border-radius: 0.25em;background-color: #f0f8ff;}#sk-container-id-2 input.sk-toggleable__control:checked~div.sk-toggleable__content {max-height: 200px;max-width: 100%;overflow: auto;}#sk-container-id-2 input.sk-toggleable__control:checked~label.sk-toggleable__label-arrow:before {content: \"▾\";}#sk-container-id-2 div.sk-estimator input.sk-toggleable__control:checked~label.sk-toggleable__label {background-color: #d4ebff;}#sk-container-id-2 div.sk-label input.sk-toggleable__control:checked~label.sk-toggleable__label {background-color: #d4ebff;}#sk-container-id-2 input.sk-hidden--visually {border: 0;clip: rect(1px 1px 1px 1px);clip: rect(1px, 1px, 1px, 1px);height: 1px;margin: -1px;overflow: hidden;padding: 0;position: absolute;width: 1px;}#sk-container-id-2 div.sk-estimator {font-family: monospace;background-color: #f0f8ff;border: 1px dotted black;border-radius: 0.25em;box-sizing: border-box;margin-bottom: 0.5em;}#sk-container-id-2 div.sk-estimator:hover {background-color: #d4ebff;}#sk-container-id-2 div.sk-parallel-item::after {content: \"\";width: 100%;border-bottom: 1px solid gray;flex-grow: 1;}#sk-container-id-2 div.sk-label:hover label.sk-toggleable__label {background-color: #d4ebff;}#sk-container-id-2 div.sk-serial::before {content: \"\";position: absolute;border-left: 1px solid gray;box-sizing: border-box;top: 0;bottom: 0;left: 50%;z-index: 0;}#sk-container-id-2 div.sk-serial {display: flex;flex-direction: column;align-items: center;background-color: white;padding-right: 0.2em;padding-left: 0.2em;position: relative;}#sk-container-id-2 div.sk-item {position: relative;z-index: 1;}#sk-container-id-2 div.sk-parallel {display: flex;align-items: stretch;justify-content: center;background-color: white;position: relative;}#sk-container-id-2 div.sk-item::before, #sk-container-id-2 div.sk-parallel-item::before {content: \"\";position: absolute;border-left: 1px solid gray;box-sizing: border-box;top: 0;bottom: 0;left: 50%;z-index: -1;}#sk-container-id-2 div.sk-parallel-item {display: flex;flex-direction: column;z-index: 1;position: relative;background-color: white;}#sk-container-id-2 div.sk-parallel-item:first-child::after {align-self: flex-end;width: 50%;}#sk-container-id-2 div.sk-parallel-item:last-child::after {align-self: flex-start;width: 50%;}#sk-container-id-2 div.sk-parallel-item:only-child::after {width: 0;}#sk-container-id-2 div.sk-dashed-wrapped {border: 1px dashed gray;margin: 0 0.4em 0.5em 0.4em;box-sizing: border-box;padding-bottom: 0.4em;background-color: white;}#sk-container-id-2 div.sk-label label {font-family: monospace;font-weight: bold;display: inline-block;line-height: 1.2em;}#sk-container-id-2 div.sk-label-container {text-align: center;}#sk-container-id-2 div.sk-container {/* jupyter's `normalize.less` sets `[hidden] { display: none; }` but bootstrap.min.css set `[hidden] { display: none !important; }` so we also need the `!important` here to be able to override the default hidden behavior on the sphinx rendered scikit-learn.org. See: https://github.com/scikit-learn/scikit-learn/issues/21755 */display: inline-block !important;position: relative;}#sk-container-id-2 div.sk-text-repr-fallback {display: none;}</style><div id=\"sk-container-id-2\" class=\"sk-top-container\"><div class=\"sk-text-repr-fallback\"><pre>DecisionTreeClassifier(max_depth=3)</pre><b>In a Jupyter environment, please rerun this cell to show the HTML representation or trust the notebook. <br />On GitHub, the HTML representation is unable to render, please try loading this page with nbviewer.org.</b></div><div class=\"sk-container\" hidden><div class=\"sk-item\"><div class=\"sk-estimator sk-toggleable\"><input class=\"sk-toggleable__control sk-hidden--visually\" id=\"sk-estimator-id-2\" type=\"checkbox\" checked><label for=\"sk-estimator-id-2\" class=\"sk-toggleable__label sk-toggleable__label-arrow\">DecisionTreeClassifier</label><div class=\"sk-toggleable__content\"><pre>DecisionTreeClassifier(max_depth=3)</pre></div></div></div></div></div>"
      ],
      "text/plain": [
       "DecisionTreeClassifier(max_depth=3)"
      ]
     },
     "execution_count": 104,
     "metadata": {},
     "output_type": "execute_result"
    }
   ],
   "source": [
    "arbol = DecisionTreeClassifier(max_depth=3)\n",
    "arbol.fit(x_train, y_train)"
   ]
  },
  {
   "cell_type": "code",
   "execution_count": 105,
   "metadata": {},
   "outputs": [
    {
     "name": "stdout",
     "output_type": "stream",
     "text": [
      "El accuracy para el conjunto de datos de entrenamiento es: 0.7905759162303665\n",
      "El accuracy para el conjunto de datos de test es: 0.5813953488372093\n"
     ]
    }
   ],
   "source": [
    "print(\"El accuracy para el conjunto de datos de entrenamiento es:\", arbol.score(x_train, y_train))\n",
    "print(\"El accuracy para el conjunto de datos de test es:\" , arbol.score(x_test, y_test))"
   ]
  },
  {
   "cell_type": "markdown",
   "metadata": {},
   "source": [
    "#### 2. Estimamos la performance del modelo utilizando _K-fold cross validation_ con `K=5`, con las métricas _Accuracy_, _Area Under the Precision-Recall Curve (AUPRC)_., _Area Under the Receiver Operating Characteristic Curve (AUCROC)_. "
   ]
  },
  {
   "cell_type": "code",
   "execution_count": 106,
   "metadata": {},
   "outputs": [],
   "source": [
    "from sklearn.model_selection import StratifiedKFold\n",
    "from sklearn.metrics import accuracy_score, auc, precision_recall_curve, roc_auc_score"
   ]
  },
  {
   "cell_type": "markdown",
   "metadata": {},
   "source": [
    "Definimos las funciones para entrenar, predecir y medir la performance para un árbol de decisión"
   ]
  },
  {
   "cell_type": "code",
   "execution_count": 107,
   "metadata": {},
   "outputs": [],
   "source": [
    "def train_tree(X_tr: np.ndarray, y_tr: np.ndarray, tree_params={}) -> DecisionTreeClassifier:\n",
    "    arbol = DecisionTreeClassifier(**tree_params) #crea el árbol con los hiperparametros deseados\n",
    "    arbol.fit(X_tr, y_tr)\n",
    "\n",
    "    return arbol\n",
    "\n",
    "def tree_predict(ab: DecisionTreeClassifier, X_test: np.ndarray) -> np.ndarray:\n",
    "    predictions = ab.predict(X_test) #recibe el árbol ya entrenado y te devuelve las predicciones\n",
    "    return predictions\n",
    "\n",
    "def metricas_seleccionadas(y_pred, y_real): # calcula las métricas deseadas\n",
    "    precision, recall, _ = precision_recall_curve(y_real,y_pred) \n",
    "    return accuracy_score(y_real, y_pred), auc(precision, recall), roc_auc_score(y_real, y_pred)"
   ]
  },
  {
   "cell_type": "markdown",
   "metadata": {},
   "source": [
    "A partir de ahora vamos a usar todos los datos que tenemos para entrenar, unimos los que habíamos separado en el ejercicio 2.1."
   ]
  },
  {
   "cell_type": "code",
   "execution_count": 108,
   "metadata": {},
   "outputs": [],
   "source": [
    "x = pd.concat([x_train, x_test])\n",
    "y = pd.concat([y_train, y_test])"
   ]
  },
  {
   "cell_type": "markdown",
   "metadata": {},
   "source": [
    "Hacemos stratified K-fold cross-validation con K=5, donde devolvemos las métricas pedidas."
   ]
  },
  {
   "cell_type": "code",
   "execution_count": 109,
   "metadata": {},
   "outputs": [],
   "source": [
    "y_pred = np.empty(y.shape) #creamos el vector para las predicciones globales\n",
    "y_pred.fill(np.nan)\n",
    "accuracy_folds_train = np.array([])\n",
    "aupcr_folds_train = np.array([])\n",
    "aucroc_folds_train = np.array([])\n",
    "accuracy_folds_test = np.array([])\n",
    "aupcr_folds_test = np.array([])\n",
    "aucroc_folds_test = np.array([])\n",
    "\n",
    "skf = StratifiedKFold(n_splits=5, shuffle=True, random_state=4)\n",
    "\n",
    "for train_index, test_index in skf.split(x, y):\n",
    "    #en train_index estan los indices de los datos que estan en los 5 folds que pertenecen a training\n",
    "    #en test_index estan los indices de los datos que estan en el unico fold que es el test\n",
    "    \n",
    "    #separamos el fold que no uso para entrenar como fold de test\n",
    "    kf_X_train, kf_X_test = x.iloc[train_index], x.iloc[test_index]\n",
    "    kf_y_train, kf_y_test = y.iloc[train_index], y.iloc[test_index]\n",
    "\n",
    "    current_tree = train_tree(kf_X_train, kf_y_train,\n",
    "                                tree_params={\"max_depth\":3})\n",
    "    predictions_train = tree_predict(current_tree, kf_X_train)\n",
    "    predictions_test = tree_predict(current_tree, kf_X_test)\n",
    "    y_pred[test_index] = predictions_test #quedan algunos vacios (con NAs) en cada iteracion pero finalmente se llena todo\n",
    "    \n",
    "    accuracy_fold_train, aupcr_fold_train, aucroc_fold_train = metricas_seleccionadas(predictions_train, kf_y_train)\n",
    "    accuracy_fold_test, aupcr_fold_test, aucroc_fold_test = metricas_seleccionadas(predictions_test, kf_y_test)\n",
    "    \n",
    "    accuracy_folds_train = np.append(accuracy_folds_train, accuracy_fold_train)\n",
    "    accuracy_folds_test = np.append(accuracy_folds_test,accuracy_fold_test)\n",
    "    aupcr_folds_train = np.append(aupcr_folds_train, aupcr_fold_train)\n",
    "    aupcr_folds_test = np.append(aupcr_folds_test,aupcr_fold_test)\n",
    "    aucroc_folds_train = np.append(aucroc_folds_train, aucroc_fold_train) \n",
    "    aucroc_folds_test = np.append(aucroc_folds_test, aucroc_fold_test)\n",
    "\n",
    "accuracy_global, aupcr_global, aucroc_global = metricas_seleccionadas(y_pred, y) #calculo las metricas deseadas"
   ]
  },
  {
   "cell_type": "markdown",
   "metadata": {},
   "source": [
    "Creamos un dataframe para conseguir la tabla con las distintas las metricas"
   ]
  },
  {
   "cell_type": "code",
   "execution_count": 110,
   "metadata": {},
   "outputs": [
    {
     "data": {
      "text/html": [
       "<div>\n",
       "<style scoped>\n",
       "    .dataframe tbody tr th:only-of-type {\n",
       "        vertical-align: middle;\n",
       "    }\n",
       "\n",
       "    .dataframe tbody tr th {\n",
       "        vertical-align: top;\n",
       "    }\n",
       "\n",
       "    .dataframe thead th {\n",
       "        text-align: right;\n",
       "    }\n",
       "</style>\n",
       "<table border=\"1\" class=\"dataframe\">\n",
       "  <thead>\n",
       "    <tr style=\"text-align: right;\">\n",
       "      <th></th>\n",
       "      <th>fold</th>\n",
       "      <th>accuracy_train</th>\n",
       "      <th>accuracy_test</th>\n",
       "      <th>aupcr_train</th>\n",
       "      <th>aupcr_test</th>\n",
       "      <th>aucroc_train</th>\n",
       "      <th>aucroc_test</th>\n",
       "    </tr>\n",
       "  </thead>\n",
       "  <tbody>\n",
       "    <tr>\n",
       "      <th>0</th>\n",
       "      <td>1</td>\n",
       "      <td>0.835294</td>\n",
       "      <td>0.682353</td>\n",
       "      <td>0.460067</td>\n",
       "      <td>0.24724</td>\n",
       "      <td>0.78633</td>\n",
       "      <td>0.6206</td>\n",
       "    </tr>\n",
       "    <tr>\n",
       "      <th>1</th>\n",
       "      <td>2</td>\n",
       "      <td>0.835294</td>\n",
       "      <td>0.635294</td>\n",
       "      <td>0.460067</td>\n",
       "      <td>0.144322</td>\n",
       "      <td>0.78633</td>\n",
       "      <td>0.543677</td>\n",
       "    </tr>\n",
       "    <tr>\n",
       "      <th>2</th>\n",
       "      <td>3</td>\n",
       "      <td>0.826471</td>\n",
       "      <td>0.694118</td>\n",
       "      <td>0.446895</td>\n",
       "      <td>0.242079</td>\n",
       "      <td>0.775883</td>\n",
       "      <td>0.617497</td>\n",
       "    </tr>\n",
       "    <tr>\n",
       "      <th>3</th>\n",
       "      <td>4</td>\n",
       "      <td>0.841176</td>\n",
       "      <td>0.705882</td>\n",
       "      <td>0.469634</td>\n",
       "      <td>0.245316</td>\n",
       "      <td>0.786567</td>\n",
       "      <td>0.61622</td>\n",
       "    </tr>\n",
       "    <tr>\n",
       "      <th>4</th>\n",
       "      <td>5</td>\n",
       "      <td>0.838235</td>\n",
       "      <td>0.741176</td>\n",
       "      <td>0.464955</td>\n",
       "      <td>0.349095</td>\n",
       "      <td>0.794751</td>\n",
       "      <td>0.711367</td>\n",
       "    </tr>\n",
       "    <tr>\n",
       "      <th>5</th>\n",
       "      <td>promedio</td>\n",
       "      <td>0.835294</td>\n",
       "      <td>0.691765</td>\n",
       "      <td>0.460324</td>\n",
       "      <td>0.24561</td>\n",
       "      <td>0.785972</td>\n",
       "      <td>0.621872</td>\n",
       "    </tr>\n",
       "    <tr>\n",
       "      <th>6</th>\n",
       "      <td>global</td>\n",
       "      <td>NaN</td>\n",
       "      <td>0.691765</td>\n",
       "      <td>NaN</td>\n",
       "      <td>0.247725</td>\n",
       "      <td>NaN</td>\n",
       "      <td>0.622155</td>\n",
       "    </tr>\n",
       "  </tbody>\n",
       "</table>\n",
       "</div>"
      ],
      "text/plain": [
       "       fold accuracy_train accuracy_test aupcr_train aupcr_test aucroc_train  \\\n",
       "0         1       0.835294      0.682353    0.460067    0.24724      0.78633   \n",
       "1         2       0.835294      0.635294    0.460067   0.144322      0.78633   \n",
       "2         3       0.826471      0.694118    0.446895   0.242079     0.775883   \n",
       "3         4       0.841176      0.705882    0.469634   0.245316     0.786567   \n",
       "4         5       0.838235      0.741176    0.464955   0.349095     0.794751   \n",
       "5  promedio       0.835294      0.691765    0.460324    0.24561     0.785972   \n",
       "6    global            NaN      0.691765         NaN   0.247725          NaN   \n",
       "\n",
       "  aucroc_test  \n",
       "0      0.6206  \n",
       "1    0.543677  \n",
       "2    0.617497  \n",
       "3     0.61622  \n",
       "4    0.711367  \n",
       "5    0.621872  \n",
       "6    0.622155  "
      ]
     },
     "execution_count": 110,
     "metadata": {},
     "output_type": "execute_result"
    }
   ],
   "source": [
    "df_metrics = pd.DataFrame({\n",
    "    \"fold\": np.arange(1,6),\n",
    "    \"accuracy_train\": accuracy_folds_train,\n",
    "    \"accuracy_test\": accuracy_folds_test,\n",
    "    \"aupcr_train\": aupcr_folds_train,\n",
    "    \"aupcr_test\": aupcr_folds_test,\n",
    "    \"aucroc_train\": aucroc_folds_train,\n",
    "    \"aucroc_test\": aucroc_folds_test\n",
    "})\n",
    "\n",
    "promedios = np.array([\"promedio\"])\n",
    "for column in df_metrics.columns[1:]:\n",
    "    promedio = df_metrics[column].mean()\n",
    "    promedios = np.append(promedios, round(promedio,6))\n",
    "\n",
    "\n",
    "df_metrics.loc[5] = promedios\n",
    "#agregar las metricas globales\n",
    "df_metrics.loc[6] = [\"global\", np.nan, accuracy_global, np.nan, aupcr_global, np.nan, aucroc_global]\n",
    "\n",
    "df_metrics"
   ]
  },
  {
   "cell_type": "markdown",
   "metadata": {},
   "source": [
    "#### 3. Exploramos las siguientes combinaciones de parámetros para árboles de decisión (siguiendo con $k-fold$ con $k$=5) utilizando [ParameterGrid](https://scikit-learn.org/stable/modules/generated/sklearn.model_selection.ParameterGrid.html) de _scikit learn_."
   ]
  },
  {
   "cell_type": "code",
   "execution_count": 111,
   "metadata": {},
   "outputs": [],
   "source": [
    "from sklearn.model_selection import ParameterGrid"
   ]
  },
  {
   "cell_type": "markdown",
   "metadata": {},
   "source": [
    "Definimos la función SF_Cross_Validation que recibe un diccionario con todos los parametros con los que deseamos entrenar el arbol."
   ]
  },
  {
   "cell_type": "code",
   "execution_count": 112,
   "metadata": {},
   "outputs": [],
   "source": [
    "def SF_Cross_Validation(params):\n",
    "    y_pred = np.empty(y.shape) \n",
    "    y_pred.fill(np.nan)\n",
    "    accuracy_folds_train = np.array([])\n",
    "    accuracy_folds_test = np.array([])\n",
    "    \n",
    "    skf = StratifiedKFold(n_splits=5, shuffle=True, random_state=4)\n",
    "\n",
    "    for train_index, test_index in skf.split(x, y):\n",
    "        #en train_index estan los indices de los datos que estan en los 5 folds que pertenecen a training\n",
    "        #en test_index estan los indices de los datos que estan en el unico fold que es el test\n",
    "        \n",
    "        #saco el fold que no uso para entrenar\n",
    "        kf_X_train, kf_X_test = x.iloc[train_index], x.iloc[test_index]\n",
    "        kf_y_train, kf_y_test = y.iloc[train_index], y.iloc[test_index]\n",
    "\n",
    "        current_tree = train_tree(kf_X_train, kf_y_train,\n",
    "                                    tree_params=params)\n",
    "        predictions_train = tree_predict(current_tree, kf_X_train)\n",
    "        predictions_test = tree_predict(current_tree, kf_X_test)\n",
    "        y_pred[test_index] = predictions_test #quedan algunos vacios (con NAs) en cada iteracion pero finalmente se llena todo\n",
    "        \n",
    "        accuracy_fold_train = accuracy_score(kf_y_train, predictions_train)\n",
    "        accuracy_fold_test = accuracy_score(kf_y_test, predictions_test)\n",
    "        \n",
    "        accuracy_folds_train = np.append(accuracy_folds_train, accuracy_fold_train)\n",
    "        accuracy_folds_test = np.append(accuracy_folds_test,accuracy_fold_test)\n",
    "    return np.mean(accuracy_folds_train), np.mean(accuracy_folds_test)"
   ]
  },
  {
   "cell_type": "markdown",
   "metadata": {},
   "source": [
    "Creamos un dataframe para conseguir la tabla con los distintos hiperparámetros que analizamos"
   ]
  },
  {
   "cell_type": "code",
   "execution_count": 113,
   "metadata": {},
   "outputs": [],
   "source": [
    "profundidades = [3,5,None]\n",
    "metricas = [\"gini\", \"entropy\"]\n",
    "\n",
    "def crear_grilla(profundidades, metricas):\n",
    "    parametros = {\n",
    "        'max_depth': profundidades,\n",
    "        'criterion': metricas\n",
    "    }\n",
    "    grilla = list(ParameterGrid(parametros))\n",
    "    return grilla\n",
    "\n",
    "grilla_parametros = crear_grilla(profundidades, metricas)\n",
    "\n",
    "\n",
    "# Crear un DataFrame para almacenar los resultados\n",
    "resultados = pd.DataFrame(columns=['Altura máxima', 'Criterio de corte', 'Accuracy (training)', 'Accuracy (validación)'])\n",
    "i = 1\n",
    "for params in grilla_parametros:\n",
    "    max_depth = params['max_depth']\n",
    "    criterion = params['criterion']\n",
    "    accuracy_train, accuracy_val = SF_Cross_Validation(params)\n",
    "    resultados.loc[i, 'Altura máxima'] = str(max_depth) if max_depth is not None else 'Infinito'\n",
    "    resultados.loc[i, 'Criterio de corte'] = criterion.capitalize()\n",
    "    resultados.loc[i, 'Accuracy (training)'] = accuracy_train\n",
    "    resultados.loc[i, 'Accuracy (validación)'] = accuracy_val\n",
    "    i = i + 1"
   ]
  },
  {
   "cell_type": "code",
   "execution_count": 114,
   "metadata": {},
   "outputs": [
    {
     "data": {
      "text/html": [
       "<div>\n",
       "<style scoped>\n",
       "    .dataframe tbody tr th:only-of-type {\n",
       "        vertical-align: middle;\n",
       "    }\n",
       "\n",
       "    .dataframe tbody tr th {\n",
       "        vertical-align: top;\n",
       "    }\n",
       "\n",
       "    .dataframe thead th {\n",
       "        text-align: right;\n",
       "    }\n",
       "</style>\n",
       "<table border=\"1\" class=\"dataframe\">\n",
       "  <thead>\n",
       "    <tr style=\"text-align: right;\">\n",
       "      <th></th>\n",
       "      <th>Altura máxima</th>\n",
       "      <th>Criterio de corte</th>\n",
       "      <th>Accuracy (training)</th>\n",
       "      <th>Accuracy (validación)</th>\n",
       "    </tr>\n",
       "  </thead>\n",
       "  <tbody>\n",
       "    <tr>\n",
       "      <th>1</th>\n",
       "      <td>3</td>\n",
       "      <td>Gini</td>\n",
       "      <td>0.835294</td>\n",
       "      <td>0.691765</td>\n",
       "    </tr>\n",
       "    <tr>\n",
       "      <th>2</th>\n",
       "      <td>5</td>\n",
       "      <td>Gini</td>\n",
       "      <td>0.937647</td>\n",
       "      <td>0.658824</td>\n",
       "    </tr>\n",
       "    <tr>\n",
       "      <th>3</th>\n",
       "      <td>Infinito</td>\n",
       "      <td>Gini</td>\n",
       "      <td>1.0</td>\n",
       "      <td>0.632941</td>\n",
       "    </tr>\n",
       "    <tr>\n",
       "      <th>4</th>\n",
       "      <td>3</td>\n",
       "      <td>Entropy</td>\n",
       "      <td>0.805882</td>\n",
       "      <td>0.689412</td>\n",
       "    </tr>\n",
       "    <tr>\n",
       "      <th>5</th>\n",
       "      <td>5</td>\n",
       "      <td>Entropy</td>\n",
       "      <td>0.9</td>\n",
       "      <td>0.677647</td>\n",
       "    </tr>\n",
       "    <tr>\n",
       "      <th>6</th>\n",
       "      <td>Infinito</td>\n",
       "      <td>Entropy</td>\n",
       "      <td>1.0</td>\n",
       "      <td>0.68</td>\n",
       "    </tr>\n",
       "  </tbody>\n",
       "</table>\n",
       "</div>"
      ],
      "text/plain": [
       "  Altura máxima Criterio de corte Accuracy (training) Accuracy (validación)\n",
       "1             3              Gini            0.835294              0.691765\n",
       "2             5              Gini            0.937647              0.658824\n",
       "3      Infinito              Gini                 1.0              0.632941\n",
       "4             3           Entropy            0.805882              0.689412\n",
       "5             5           Entropy                 0.9              0.677647\n",
       "6      Infinito           Entropy                 1.0                  0.68"
      ]
     },
     "execution_count": 114,
     "metadata": {},
     "output_type": "execute_result"
    }
   ],
   "source": [
    "resultados"
   ]
  },
  {
   "cell_type": "markdown",
   "metadata": {},
   "source": [
    "## Ejercicio 3\n",
    "\n",
    "### Comparación de algoritmos \n",
    "\n",
    "Se pide explorar distintas combinaciones de algoritmos de aprendizaje con diferentes configuraciones con el objetivo de encontrar el mejor modelo de cada familia de buscar la performance óptima. Para este ejercicio realizar una experimentación utilizando [`RandomizedSearchCV`](https://scikit-learn.org/stable/modules/generated/sklearn.model_selection.RandomizedSearchCV.html). Como métrica de performance usar AUCROC resultante de 5-fold cross-validation. \n",
    "\n",
    "Algoritmos a probar: \n",
    "  - Árboles de decisión\n",
    "  - KNN (k-vecinos más cercanos)\n",
    "  - SVM (Support vector machine)\n",
    "  - LDA (Linear discriminant analysis)\n",
    "  - Naïve Bayes\n",
    "  \n",
    "_Hiperparámetros_: Revisar la documentación de cada uno para la búsqueda de combinaciones prometedoras. \n",
    "\n",
    "Documentación extra sobre [`Tuning hyper-parameters`](https://scikit-learn.org/stable/modules/grid_search.html), leer hasta 3.2.2.\n",
    "\n",
    "Para este ejercicio se pide generar un reporte que contenga: \n",
    "\n",
    "1. Una descripción de las distintas combinaciones consideradas y su performance asociada (las que consideren relevantes, con al menos la mejor combinación para cada algoritmo). \n",
    "\n",
    "1. Una breve explicación de los factores que creen que produjeron dicho resultado. \n",
    "\n",
    "Para cada método pueden incluir hasta media carilla de texto y los gráficos que considere relevantes."
   ]
  },
  {
   "cell_type": "code",
   "execution_count": 115,
   "metadata": {},
   "outputs": [],
   "source": [
    "from sklearn.model_selection import RandomizedSearchCV\n",
    "from sklearn.neighbors import KNeighborsClassifier\n",
    "from sklearn import svm\n",
    "from sklearn.discriminant_analysis import LinearDiscriminantAnalysis\n",
    "from sklearn.naive_bayes import GaussianNB\n",
    "from scipy.stats import uniform, randint"
   ]
  },
  {
   "cell_type": "markdown",
   "metadata": {},
   "source": [
    "Definimos los diccionarios con hiperparámetros para los distintos modelos"
   ]
  },
  {
   "cell_type": "code",
   "execution_count": 116,
   "metadata": {},
   "outputs": [],
   "source": [
    "# árbol de decisión\n",
    "arbol = DecisionTreeClassifier()\n",
    "dic_arbol = {\n",
    "    'max_depth': randint(1, 10), #distribucion uniforme entera entre 1 y 10\n",
    "    'criterion': ['gini', 'entropy', 'log_loss']\n",
    "}\n",
    "\n",
    "# k neighbors n\n",
    "knn_classifier = KNeighborsClassifier()\n",
    "dic_knn = {\n",
    "    'n_neighbors': randint(1, 20), #numero de vecinos\n",
    "    'weights': ['uniform', 'distance'], #pesos: cuando hacen la votación pueden tener todos el mismo peso = uniforme, \n",
    "                                        #o tener pesos distintos en función de la distancia = distance\n",
    "    'p': [1, 2] #distancia de minkowski (como se mide la distancia) p = 1 = manhattan y p = 2 = ecuclidiana \n",
    "}\n",
    "\n",
    "#support vector machine\n",
    "svm_classifier = svm.SVC()\n",
    "dic_svm = {\n",
    "    'C': uniform(0, 6), #el C restringe las instancias que pueden caer en el lado incorrecto\n",
    "    'kernel': ['linear', 'poly', 'rbf', 'sigmoid'], #el kernel con el que cambiamos la dimension\n",
    "                                                    #lineal\n",
    "                                                    #poly: abajo aclaramos el grado\n",
    "                                                    #rbf: radial (el de los circulos)\n",
    "                                                    #sigmoid \n",
    "    'degree': randint(2, 11) #aclara el grado del polinomico, sino lo ignora\n",
    "}\n",
    "\n",
    "\n",
    "#linear discriminant analysis\n",
    "lda_classifier = LinearDiscriminantAnalysis() #no tiene parametros\n",
    "dic_lda = {\n",
    "}\n",
    "\n",
    "#naive bayes\n",
    "naive_bayes_classifier = GaussianNB()\n",
    "dic_naive_bayes = { \n",
    "    'var_smoothing': uniform(0.000001, 0.001) , #suaviza la matriz de covarianza\n",
    "    'priors': np.array([[0.68,0.32],[0.32,0.68],[0.85,0.15],[0.5,0.5],[0.15,0.85],[0.7,0.3],[0.3,0.7]]) #probabilidades a priori\n",
    "    }"
   ]
  },
  {
   "cell_type": "code",
   "execution_count": 117,
   "metadata": {},
   "outputs": [],
   "source": [
    "def randomized_search(modelo, parametros,x,y, iter):\n",
    "    random_search = RandomizedSearchCV(estimator=modelo, param_distributions=parametros, n_iter=iter,\n",
    "                                    scoring='roc_auc', cv=StratifiedKFold(n_splits=5, shuffle=True, random_state=42), \n",
    "                                    verbose=0, random_state=41, n_jobs=-1)\n",
    "    return random_search.fit(x, y)"
   ]
  },
  {
   "cell_type": "markdown",
   "metadata": {},
   "source": [
    "Llamamos a la función para cada modelo"
   ]
  },
  {
   "cell_type": "code",
   "execution_count": 118,
   "metadata": {},
   "outputs": [],
   "source": [
    "modelos = [arbol, knn_classifier, svm_classifier, lda_classifier, naive_bayes_classifier]\n",
    "dic = [dic_arbol, dic_knn, dic_svm, dic_lda, dic_naive_bayes]\n",
    "cantidad_iteraciones = [15, 30, 40, 1, 20]\n",
    "\n",
    "top5 = pd.DataFrame(columns=[\"Modelo\", \"mean_AUROC\", \"parametros\"])\n",
    "\n",
    "for i in range(0,5):\n",
    "    resultados = randomized_search(modelos[i], dic[i], x, y, cantidad_iteraciones[i])\n",
    "    parametros_probados = pd.DataFrame(resultados.cv_results_)\n",
    "    parametros_probados = parametros_probados[['params', 'mean_test_score']]\n",
    "    parametros_ordenados = parametros_probados.sort_values(by='mean_test_score', ascending=False)\n",
    "    parametros_seleccionados = parametros_ordenados.head(5).copy()  # Crear una copia del DataFrame\n",
    "    \n",
    "    parametros_seleccionados[\"Modelo\"] = str(modelos[i])\n",
    "    parametros_seleccionados = parametros_seleccionados.rename(columns={\"mean_test_score\": \"mean_AUROC\", \"params\": \"parametros\"})\n",
    "\n",
    "    top5 = pd.concat([top5, parametros_seleccionados], ignore_index=True)  # Usar ignore_index=True para reindexar el DataFrame resultante\n"
   ]
  },
  {
   "cell_type": "markdown",
   "metadata": {},
   "source": [
    "Veamos para cada modelo los 5 que tuvieron mejor valor de área bajo la curva roc"
   ]
  },
  {
   "cell_type": "code",
   "execution_count": 119,
   "metadata": {},
   "outputs": [
    {
     "data": {
      "text/html": [
       "<div>\n",
       "<style scoped>\n",
       "    .dataframe tbody tr th:only-of-type {\n",
       "        vertical-align: middle;\n",
       "    }\n",
       "\n",
       "    .dataframe tbody tr th {\n",
       "        vertical-align: top;\n",
       "    }\n",
       "\n",
       "    .dataframe thead th {\n",
       "        text-align: right;\n",
       "    }\n",
       "</style>\n",
       "<table border=\"1\" class=\"dataframe\">\n",
       "  <thead>\n",
       "    <tr style=\"text-align: right;\">\n",
       "      <th></th>\n",
       "      <th>Modelo</th>\n",
       "      <th>mean_AUROC</th>\n",
       "      <th>parametros</th>\n",
       "    </tr>\n",
       "  </thead>\n",
       "  <tbody>\n",
       "    <tr>\n",
       "      <th>0</th>\n",
       "      <td>DecisionTreeClassifier()</td>\n",
       "      <td>0.646762</td>\n",
       "      <td>{'criterion': 'entropy', 'max_depth': 3}</td>\n",
       "    </tr>\n",
       "    <tr>\n",
       "      <th>1</th>\n",
       "      <td>DecisionTreeClassifier()</td>\n",
       "      <td>0.646762</td>\n",
       "      <td>{'criterion': 'entropy', 'max_depth': 3}</td>\n",
       "    </tr>\n",
       "    <tr>\n",
       "      <th>2</th>\n",
       "      <td>DecisionTreeClassifier()</td>\n",
       "      <td>0.624257</td>\n",
       "      <td>{'criterion': 'gini', 'max_depth': 2}</td>\n",
       "    </tr>\n",
       "    <tr>\n",
       "      <th>3</th>\n",
       "      <td>DecisionTreeClassifier()</td>\n",
       "      <td>0.623148</td>\n",
       "      <td>{'criterion': 'log_loss', 'max_depth': 2}</td>\n",
       "    </tr>\n",
       "    <tr>\n",
       "      <th>4</th>\n",
       "      <td>DecisionTreeClassifier()</td>\n",
       "      <td>0.622302</td>\n",
       "      <td>{'criterion': 'gini', 'max_depth': 3}</td>\n",
       "    </tr>\n",
       "    <tr>\n",
       "      <th>5</th>\n",
       "      <td>KNeighborsClassifier()</td>\n",
       "      <td>0.842864</td>\n",
       "      <td>{'n_neighbors': 6, 'p': 1, 'weights': 'distance'}</td>\n",
       "    </tr>\n",
       "    <tr>\n",
       "      <th>6</th>\n",
       "      <td>KNeighborsClassifier()</td>\n",
       "      <td>0.839378</td>\n",
       "      <td>{'n_neighbors': 7, 'p': 1, 'weights': 'uniform'}</td>\n",
       "    </tr>\n",
       "    <tr>\n",
       "      <th>7</th>\n",
       "      <td>KNeighborsClassifier()</td>\n",
       "      <td>0.830942</td>\n",
       "      <td>{'n_neighbors': 5, 'p': 1, 'weights': 'distance'}</td>\n",
       "    </tr>\n",
       "    <tr>\n",
       "      <th>8</th>\n",
       "      <td>KNeighborsClassifier()</td>\n",
       "      <td>0.829063</td>\n",
       "      <td>{'n_neighbors': 16, 'p': 1, 'weights': 'uniform'}</td>\n",
       "    </tr>\n",
       "    <tr>\n",
       "      <th>9</th>\n",
       "      <td>KNeighborsClassifier()</td>\n",
       "      <td>0.829063</td>\n",
       "      <td>{'n_neighbors': 16, 'p': 1, 'weights': 'uniform'}</td>\n",
       "    </tr>\n",
       "    <tr>\n",
       "      <th>10</th>\n",
       "      <td>SVC()</td>\n",
       "      <td>0.891996</td>\n",
       "      <td>{'C': 4.344, 'degree': 4, 'kernel': 'rbf'}</td>\n",
       "    </tr>\n",
       "    <tr>\n",
       "      <th>11</th>\n",
       "      <td>SVC()</td>\n",
       "      <td>0.891876</td>\n",
       "      <td>{'C': 4.088, 'degree': 7, 'kernel': 'rbf'}</td>\n",
       "    </tr>\n",
       "    <tr>\n",
       "      <th>12</th>\n",
       "      <td>SVC()</td>\n",
       "      <td>0.891727</td>\n",
       "      <td>{'C': 5.686, 'degree': 8, 'kernel': 'rbf'}</td>\n",
       "    </tr>\n",
       "    <tr>\n",
       "      <th>13</th>\n",
       "      <td>SVC()</td>\n",
       "      <td>0.891490</td>\n",
       "      <td>{'C': 3.983, 'degree': 4, 'kernel': 'rbf'}</td>\n",
       "    </tr>\n",
       "    <tr>\n",
       "      <th>14</th>\n",
       "      <td>SVC()</td>\n",
       "      <td>0.879929</td>\n",
       "      <td>{'C': 1.686, 'degree': 6, 'kernel': 'rbf'}</td>\n",
       "    </tr>\n",
       "    <tr>\n",
       "      <th>15</th>\n",
       "      <td>LinearDiscriminantAnalysis()</td>\n",
       "      <td>0.753419</td>\n",
       "      <td>{}</td>\n",
       "    </tr>\n",
       "    <tr>\n",
       "      <th>16</th>\n",
       "      <td>GaussianNB()</td>\n",
       "      <td>0.822782</td>\n",
       "      <td>{'priors': [0.5, 0.5], 'var_smoothing': 0.0009...</td>\n",
       "    </tr>\n",
       "    <tr>\n",
       "      <th>17</th>\n",
       "      <td>GaussianNB()</td>\n",
       "      <td>0.820462</td>\n",
       "      <td>{'priors': [0.68, 0.32], 'var_smoothing': 0.00...</td>\n",
       "    </tr>\n",
       "    <tr>\n",
       "      <th>18</th>\n",
       "      <td>GaussianNB()</td>\n",
       "      <td>0.819687</td>\n",
       "      <td>{'priors': [0.15, 0.85], 'var_smoothing': 0.00...</td>\n",
       "    </tr>\n",
       "    <tr>\n",
       "      <th>19</th>\n",
       "      <td>GaussianNB()</td>\n",
       "      <td>0.818144</td>\n",
       "      <td>{'priors': [0.85, 0.15], 'var_smoothing': 0.00...</td>\n",
       "    </tr>\n",
       "    <tr>\n",
       "      <th>20</th>\n",
       "      <td>GaussianNB()</td>\n",
       "      <td>0.818144</td>\n",
       "      <td>{'priors': [0.15, 0.85], 'var_smoothing': 0.00...</td>\n",
       "    </tr>\n",
       "  </tbody>\n",
       "</table>\n",
       "</div>"
      ],
      "text/plain": [
       "                          Modelo  mean_AUROC  \\\n",
       "0       DecisionTreeClassifier()    0.646762   \n",
       "1       DecisionTreeClassifier()    0.646762   \n",
       "2       DecisionTreeClassifier()    0.624257   \n",
       "3       DecisionTreeClassifier()    0.623148   \n",
       "4       DecisionTreeClassifier()    0.622302   \n",
       "5         KNeighborsClassifier()    0.842864   \n",
       "6         KNeighborsClassifier()    0.839378   \n",
       "7         KNeighborsClassifier()    0.830942   \n",
       "8         KNeighborsClassifier()    0.829063   \n",
       "9         KNeighborsClassifier()    0.829063   \n",
       "10                         SVC()    0.891996   \n",
       "11                         SVC()    0.891876   \n",
       "12                         SVC()    0.891727   \n",
       "13                         SVC()    0.891490   \n",
       "14                         SVC()    0.879929   \n",
       "15  LinearDiscriminantAnalysis()    0.753419   \n",
       "16                  GaussianNB()    0.822782   \n",
       "17                  GaussianNB()    0.820462   \n",
       "18                  GaussianNB()    0.819687   \n",
       "19                  GaussianNB()    0.818144   \n",
       "20                  GaussianNB()    0.818144   \n",
       "\n",
       "                                           parametros  \n",
       "0            {'criterion': 'entropy', 'max_depth': 3}  \n",
       "1            {'criterion': 'entropy', 'max_depth': 3}  \n",
       "2               {'criterion': 'gini', 'max_depth': 2}  \n",
       "3           {'criterion': 'log_loss', 'max_depth': 2}  \n",
       "4               {'criterion': 'gini', 'max_depth': 3}  \n",
       "5   {'n_neighbors': 6, 'p': 1, 'weights': 'distance'}  \n",
       "6    {'n_neighbors': 7, 'p': 1, 'weights': 'uniform'}  \n",
       "7   {'n_neighbors': 5, 'p': 1, 'weights': 'distance'}  \n",
       "8   {'n_neighbors': 16, 'p': 1, 'weights': 'uniform'}  \n",
       "9   {'n_neighbors': 16, 'p': 1, 'weights': 'uniform'}  \n",
       "10         {'C': 4.344, 'degree': 4, 'kernel': 'rbf'}  \n",
       "11         {'C': 4.088, 'degree': 7, 'kernel': 'rbf'}  \n",
       "12         {'C': 5.686, 'degree': 8, 'kernel': 'rbf'}  \n",
       "13         {'C': 3.983, 'degree': 4, 'kernel': 'rbf'}  \n",
       "14         {'C': 1.686, 'degree': 6, 'kernel': 'rbf'}  \n",
       "15                                                 {}  \n",
       "16  {'priors': [0.5, 0.5], 'var_smoothing': 0.0009...  \n",
       "17  {'priors': [0.68, 0.32], 'var_smoothing': 0.00...  \n",
       "18  {'priors': [0.15, 0.85], 'var_smoothing': 0.00...  \n",
       "19  {'priors': [0.85, 0.15], 'var_smoothing': 0.00...  \n",
       "20  {'priors': [0.15, 0.85], 'var_smoothing': 0.00...  "
      ]
     },
     "execution_count": 119,
     "metadata": {},
     "output_type": "execute_result"
    }
   ],
   "source": [
    "#Primero redondeamos el valor de C\n",
    "for i in range(0,21):\n",
    "    if top5.at[i, \"Modelo\"] == \"SVC()\":\n",
    "        parameter = top5.loc[i, \"parametros\"]\n",
    "        top5.at[i, \"parametros\"] = {'C': round(parameter[\"C\"],3) , 'degree' : parameter[\"degree\"],'kernel' : parameter['kernel']}\n",
    "\n",
    "top5"
   ]
  },
  {
   "cell_type": "markdown",
   "metadata": {},
   "source": [
    "Veamos el orden de los modelos según su area bajo la curva roc"
   ]
  },
  {
   "cell_type": "code",
   "execution_count": 120,
   "metadata": {},
   "outputs": [
    {
     "data": {
      "text/html": [
       "<div>\n",
       "<style scoped>\n",
       "    .dataframe tbody tr th:only-of-type {\n",
       "        vertical-align: middle;\n",
       "    }\n",
       "\n",
       "    .dataframe tbody tr th {\n",
       "        vertical-align: top;\n",
       "    }\n",
       "\n",
       "    .dataframe thead th {\n",
       "        text-align: right;\n",
       "    }\n",
       "</style>\n",
       "<table border=\"1\" class=\"dataframe\">\n",
       "  <thead>\n",
       "    <tr style=\"text-align: right;\">\n",
       "      <th></th>\n",
       "      <th>Modelo</th>\n",
       "      <th>mean_AUROC</th>\n",
       "      <th>parametros</th>\n",
       "    </tr>\n",
       "  </thead>\n",
       "  <tbody>\n",
       "    <tr>\n",
       "      <th>10</th>\n",
       "      <td>SVC()</td>\n",
       "      <td>0.891996</td>\n",
       "      <td>{'C': 4.344, 'degree': 4, 'kernel': 'rbf'}</td>\n",
       "    </tr>\n",
       "    <tr>\n",
       "      <th>11</th>\n",
       "      <td>SVC()</td>\n",
       "      <td>0.891876</td>\n",
       "      <td>{'C': 4.088, 'degree': 7, 'kernel': 'rbf'}</td>\n",
       "    </tr>\n",
       "    <tr>\n",
       "      <th>12</th>\n",
       "      <td>SVC()</td>\n",
       "      <td>0.891727</td>\n",
       "      <td>{'C': 5.686, 'degree': 8, 'kernel': 'rbf'}</td>\n",
       "    </tr>\n",
       "    <tr>\n",
       "      <th>13</th>\n",
       "      <td>SVC()</td>\n",
       "      <td>0.891490</td>\n",
       "      <td>{'C': 3.983, 'degree': 4, 'kernel': 'rbf'}</td>\n",
       "    </tr>\n",
       "    <tr>\n",
       "      <th>14</th>\n",
       "      <td>SVC()</td>\n",
       "      <td>0.879929</td>\n",
       "      <td>{'C': 1.686, 'degree': 6, 'kernel': 'rbf'}</td>\n",
       "    </tr>\n",
       "    <tr>\n",
       "      <th>5</th>\n",
       "      <td>KNeighborsClassifier()</td>\n",
       "      <td>0.842864</td>\n",
       "      <td>{'n_neighbors': 6, 'p': 1, 'weights': 'distance'}</td>\n",
       "    </tr>\n",
       "    <tr>\n",
       "      <th>6</th>\n",
       "      <td>KNeighborsClassifier()</td>\n",
       "      <td>0.839378</td>\n",
       "      <td>{'n_neighbors': 7, 'p': 1, 'weights': 'uniform'}</td>\n",
       "    </tr>\n",
       "    <tr>\n",
       "      <th>7</th>\n",
       "      <td>KNeighborsClassifier()</td>\n",
       "      <td>0.830942</td>\n",
       "      <td>{'n_neighbors': 5, 'p': 1, 'weights': 'distance'}</td>\n",
       "    </tr>\n",
       "    <tr>\n",
       "      <th>8</th>\n",
       "      <td>KNeighborsClassifier()</td>\n",
       "      <td>0.829063</td>\n",
       "      <td>{'n_neighbors': 16, 'p': 1, 'weights': 'uniform'}</td>\n",
       "    </tr>\n",
       "    <tr>\n",
       "      <th>9</th>\n",
       "      <td>KNeighborsClassifier()</td>\n",
       "      <td>0.829063</td>\n",
       "      <td>{'n_neighbors': 16, 'p': 1, 'weights': 'uniform'}</td>\n",
       "    </tr>\n",
       "    <tr>\n",
       "      <th>16</th>\n",
       "      <td>GaussianNB()</td>\n",
       "      <td>0.822782</td>\n",
       "      <td>{'priors': [0.5, 0.5], 'var_smoothing': 0.0009...</td>\n",
       "    </tr>\n",
       "    <tr>\n",
       "      <th>17</th>\n",
       "      <td>GaussianNB()</td>\n",
       "      <td>0.820462</td>\n",
       "      <td>{'priors': [0.68, 0.32], 'var_smoothing': 0.00...</td>\n",
       "    </tr>\n",
       "    <tr>\n",
       "      <th>18</th>\n",
       "      <td>GaussianNB()</td>\n",
       "      <td>0.819687</td>\n",
       "      <td>{'priors': [0.15, 0.85], 'var_smoothing': 0.00...</td>\n",
       "    </tr>\n",
       "    <tr>\n",
       "      <th>19</th>\n",
       "      <td>GaussianNB()</td>\n",
       "      <td>0.818144</td>\n",
       "      <td>{'priors': [0.85, 0.15], 'var_smoothing': 0.00...</td>\n",
       "    </tr>\n",
       "    <tr>\n",
       "      <th>20</th>\n",
       "      <td>GaussianNB()</td>\n",
       "      <td>0.818144</td>\n",
       "      <td>{'priors': [0.15, 0.85], 'var_smoothing': 0.00...</td>\n",
       "    </tr>\n",
       "    <tr>\n",
       "      <th>15</th>\n",
       "      <td>LinearDiscriminantAnalysis()</td>\n",
       "      <td>0.753419</td>\n",
       "      <td>{}</td>\n",
       "    </tr>\n",
       "    <tr>\n",
       "      <th>1</th>\n",
       "      <td>DecisionTreeClassifier()</td>\n",
       "      <td>0.646762</td>\n",
       "      <td>{'criterion': 'entropy', 'max_depth': 3}</td>\n",
       "    </tr>\n",
       "    <tr>\n",
       "      <th>0</th>\n",
       "      <td>DecisionTreeClassifier()</td>\n",
       "      <td>0.646762</td>\n",
       "      <td>{'criterion': 'entropy', 'max_depth': 3}</td>\n",
       "    </tr>\n",
       "    <tr>\n",
       "      <th>2</th>\n",
       "      <td>DecisionTreeClassifier()</td>\n",
       "      <td>0.624257</td>\n",
       "      <td>{'criterion': 'gini', 'max_depth': 2}</td>\n",
       "    </tr>\n",
       "    <tr>\n",
       "      <th>3</th>\n",
       "      <td>DecisionTreeClassifier()</td>\n",
       "      <td>0.623148</td>\n",
       "      <td>{'criterion': 'log_loss', 'max_depth': 2}</td>\n",
       "    </tr>\n",
       "    <tr>\n",
       "      <th>4</th>\n",
       "      <td>DecisionTreeClassifier()</td>\n",
       "      <td>0.622302</td>\n",
       "      <td>{'criterion': 'gini', 'max_depth': 3}</td>\n",
       "    </tr>\n",
       "  </tbody>\n",
       "</table>\n",
       "</div>"
      ],
      "text/plain": [
       "                          Modelo  mean_AUROC  \\\n",
       "10                         SVC()    0.891996   \n",
       "11                         SVC()    0.891876   \n",
       "12                         SVC()    0.891727   \n",
       "13                         SVC()    0.891490   \n",
       "14                         SVC()    0.879929   \n",
       "5         KNeighborsClassifier()    0.842864   \n",
       "6         KNeighborsClassifier()    0.839378   \n",
       "7         KNeighborsClassifier()    0.830942   \n",
       "8         KNeighborsClassifier()    0.829063   \n",
       "9         KNeighborsClassifier()    0.829063   \n",
       "16                  GaussianNB()    0.822782   \n",
       "17                  GaussianNB()    0.820462   \n",
       "18                  GaussianNB()    0.819687   \n",
       "19                  GaussianNB()    0.818144   \n",
       "20                  GaussianNB()    0.818144   \n",
       "15  LinearDiscriminantAnalysis()    0.753419   \n",
       "1       DecisionTreeClassifier()    0.646762   \n",
       "0       DecisionTreeClassifier()    0.646762   \n",
       "2       DecisionTreeClassifier()    0.624257   \n",
       "3       DecisionTreeClassifier()    0.623148   \n",
       "4       DecisionTreeClassifier()    0.622302   \n",
       "\n",
       "                                           parametros  \n",
       "10         {'C': 4.344, 'degree': 4, 'kernel': 'rbf'}  \n",
       "11         {'C': 4.088, 'degree': 7, 'kernel': 'rbf'}  \n",
       "12         {'C': 5.686, 'degree': 8, 'kernel': 'rbf'}  \n",
       "13         {'C': 3.983, 'degree': 4, 'kernel': 'rbf'}  \n",
       "14         {'C': 1.686, 'degree': 6, 'kernel': 'rbf'}  \n",
       "5   {'n_neighbors': 6, 'p': 1, 'weights': 'distance'}  \n",
       "6    {'n_neighbors': 7, 'p': 1, 'weights': 'uniform'}  \n",
       "7   {'n_neighbors': 5, 'p': 1, 'weights': 'distance'}  \n",
       "8   {'n_neighbors': 16, 'p': 1, 'weights': 'uniform'}  \n",
       "9   {'n_neighbors': 16, 'p': 1, 'weights': 'uniform'}  \n",
       "16  {'priors': [0.5, 0.5], 'var_smoothing': 0.0009...  \n",
       "17  {'priors': [0.68, 0.32], 'var_smoothing': 0.00...  \n",
       "18  {'priors': [0.15, 0.85], 'var_smoothing': 0.00...  \n",
       "19  {'priors': [0.85, 0.15], 'var_smoothing': 0.00...  \n",
       "20  {'priors': [0.15, 0.85], 'var_smoothing': 0.00...  \n",
       "15                                                 {}  \n",
       "1            {'criterion': 'entropy', 'max_depth': 3}  \n",
       "0            {'criterion': 'entropy', 'max_depth': 3}  \n",
       "2               {'criterion': 'gini', 'max_depth': 2}  \n",
       "3           {'criterion': 'log_loss', 'max_depth': 2}  \n",
       "4               {'criterion': 'gini', 'max_depth': 3}  "
      ]
     },
     "execution_count": 120,
     "metadata": {},
     "output_type": "execute_result"
    }
   ],
   "source": [
    "top5.sort_values(by='mean_AUROC', ascending=False)"
   ]
  },
  {
   "cell_type": "markdown",
   "metadata": {},
   "source": [
    "## Ejercicio 4: \n",
    "### Diagnóstico Sesgo-Varianza.\n",
    "\n",
    "<span style=\"color: red;\">(no realizar hasta la clase _Sesgo y Varianza_)</span>\n",
    "\n",
    "En este punto, se pide inspeccionar **tres** de sus mejores modelos encontrados hasta ahora de cada familia de modelos: la mejor configuración para el árbol de decisión, la mejor configuración para LDA y la mejor configuración para SVM. Para ello:\n",
    "\n",
    "1. Graficar curvas de complejidad para cada modelo (excepto para LDA), variando la profundidad en el caso de árboles, y el hiperparámetro C en el caso de SVM. Diagnosticar cómo afectan al sesgo y a la varianza esos dos hiperparámetros.\n",
    "2. Graficar curvas de aprendizaje para cada modelo. En base a estas curvas, sacar conclusiones sobre si los algoritmos parecen haber alcanzado su límite, o bien si aumentar la cantidad de datos debería ayudar.\n",
    "3. Construir un modelo **RandomForest** con 200 árboles. Explorar para qué sirve el hiperparámetro max_features y cómo afecta a la performance del algoritmo mediante una curva de complejidad. Explicar por qué creen que se dieron los resultados obtenidos. Por último, graficar una curva de aprendizaje sobre los parámetros elegidos para determinar si sería útil o no conseguir más datos.\n",
    "\n",
    "\n",
    "**Atención**: Tener en cuenta que debemos seguir utilizando AUC ROC como métrica para estas curvas.\n",
    "\n",
    "Para cada método pueden incluir hasta una carilla de texto y los gráficos que considere relevantes.\n"
   ]
  },
  {
   "cell_type": "markdown",
   "metadata": {},
   "source": [
    "#### 1. Graficamos curvas de complejidad para cada modelo (excepto para LDA), variando la profundidad en el caso de árboles, y el hiperparámetro C en el caso de SVM. "
   ]
  },
  {
   "cell_type": "code",
   "execution_count": 121,
   "metadata": {},
   "outputs": [],
   "source": [
    "from sklearn.model_selection import cross_validate"
   ]
  },
  {
   "cell_type": "markdown",
   "metadata": {},
   "source": [
    "Nos quedamos con el mejor modelo de cada familia"
   ]
  },
  {
   "cell_type": "code",
   "execution_count": 122,
   "metadata": {},
   "outputs": [
    {
     "data": {
      "text/html": [
       "<div>\n",
       "<style scoped>\n",
       "    .dataframe tbody tr th:only-of-type {\n",
       "        vertical-align: middle;\n",
       "    }\n",
       "\n",
       "    .dataframe tbody tr th {\n",
       "        vertical-align: top;\n",
       "    }\n",
       "\n",
       "    .dataframe thead th {\n",
       "        text-align: right;\n",
       "    }\n",
       "</style>\n",
       "<table border=\"1\" class=\"dataframe\">\n",
       "  <thead>\n",
       "    <tr style=\"text-align: right;\">\n",
       "      <th></th>\n",
       "      <th>Modelo</th>\n",
       "      <th>mean_AUROC</th>\n",
       "      <th>parametros</th>\n",
       "    </tr>\n",
       "  </thead>\n",
       "  <tbody>\n",
       "    <tr>\n",
       "      <th>0</th>\n",
       "      <td>SVC()</td>\n",
       "      <td>0.891996</td>\n",
       "      <td>{'C': 4.344, 'degree': 4, 'kernel': 'rbf'}</td>\n",
       "    </tr>\n",
       "    <tr>\n",
       "      <th>1</th>\n",
       "      <td>DecisionTreeClassifier()</td>\n",
       "      <td>0.646762</td>\n",
       "      <td>{'criterion': 'entropy', 'max_depth': 3}</td>\n",
       "    </tr>\n",
       "    <tr>\n",
       "      <th>2</th>\n",
       "      <td>LinearDiscriminantAnalysis()</td>\n",
       "      <td>0.753419</td>\n",
       "      <td>{}</td>\n",
       "    </tr>\n",
       "  </tbody>\n",
       "</table>\n",
       "</div>"
      ],
      "text/plain": [
       "                         Modelo  mean_AUROC  \\\n",
       "0                         SVC()    0.891996   \n",
       "1      DecisionTreeClassifier()    0.646762   \n",
       "2  LinearDiscriminantAnalysis()    0.753419   \n",
       "\n",
       "                                   parametros  \n",
       "0  {'C': 4.344, 'degree': 4, 'kernel': 'rbf'}  \n",
       "1    {'criterion': 'entropy', 'max_depth': 3}  \n",
       "2                                          {}  "
      ]
     },
     "execution_count": 122,
     "metadata": {},
     "output_type": "execute_result"
    }
   ],
   "source": [
    "mejor_modelo_arbol = top5[0:1]\n",
    "mejor_modelo_svm = top5[10:11] \n",
    "mejor_modelo_knn = top5[5:6]\n",
    "mejor_modelo_bayes = top5[16:17]\n",
    "mejor_modelo_lda = top5[15:16] \n",
    "\n",
    "mejor_modelo = pd.concat([mejor_modelo_svm,mejor_modelo_arbol,mejor_modelo_lda], ignore_index=True)\n",
    "mejor_modelo"
   ]
  },
  {
   "cell_type": "markdown",
   "metadata": {},
   "source": [
    "Definimos la función auroc_complejidad que recibe un modelo y sus parametros y devuelve el auc roc."
   ]
  },
  {
   "cell_type": "code",
   "execution_count": 123,
   "metadata": {},
   "outputs": [],
   "source": [
    "def auroc_complejidad(modelo, params):\n",
    "    model = modelo(**params)\n",
    "    result = cross_validate(model, x, y, cv=StratifiedKFold(n_splits=5, shuffle=True, random_state=4),scoring='roc_auc',return_train_score=True)\n",
    "    result_train = np.mean(result[\"train_score\"])\n",
    "    result_test = np.mean(result[\"test_score\"])\n",
    "\n",
    "    return result_train, result_test"
   ]
  },
  {
   "cell_type": "markdown",
   "metadata": {},
   "source": [
    "##### Graficamos las curvas de complejidad para cada uno de los modelos deseados."
   ]
  },
  {
   "cell_type": "markdown",
   "metadata": {},
   "source": [
    "##### Árbol de decisión"
   ]
  },
  {
   "cell_type": "code",
   "execution_count": 124,
   "metadata": {},
   "outputs": [
    {
     "data": {
      "image/png": "[encoded data removed]",
      "text/plain": [
       "<Figure size 1000x600 with 1 Axes>"
      ]
     },
     "metadata": {},
     "output_type": "display_data"
    }
   ],
   "source": [
    "max_depth_values = range(1, 21)\n",
    "\n",
    "# Inicializamos listas para almacenar las puntuaciones de entrenamiento y prueba\n",
    "train_auroc = []\n",
    "test_auroc = []\n",
    "\n",
    "# Calculamos puntuaciones para cada valor de profundidad máxima\n",
    "for max_depth in max_depth_values:\n",
    "    auroc_promedio_train, auroc_promedio_test = auroc_complejidad(DecisionTreeClassifier, {\"max_depth\": max_depth, \"criterion\": \"entropy\", \"random_state\": 4})\n",
    "    train_auroc.append(auroc_promedio_train)\n",
    "    test_auroc.append(auroc_promedio_test)\n",
    "\n",
    "\n",
    "# Graficamos las curvas de complejidad\n",
    "plt.figure(figsize=(10, 6))\n",
    "plt.plot(max_depth_values, train_auroc, label='Train', marker='o')\n",
    "plt.plot(max_depth_values, test_auroc, label='Test', marker='o')\n",
    "plt.xticks(range(1, 21))\n",
    "plt.xlabel('Profundidad máxima del árbol')\n",
    "plt.ylabel('Área bajo la curva ROC')\n",
    "plt.title('Curva de complejidad para árbol de decisión')\n",
    "plt.legend()\n",
    "plt.show()"
   ]
  },
  {
   "cell_type": "markdown",
   "metadata": {},
   "source": [
    "##### Support Vector Machine:"
   ]
  },
  {
   "cell_type": "code",
   "execution_count": 125,
   "metadata": {},
   "outputs": [
    {
     "data": {
      "image/png": "[encoded data removed]",
      "text/plain": [
       "<Figure size 1000x600 with 1 Axes>"
      ]
     },
     "metadata": {},
     "output_type": "display_data"
    }
   ],
   "source": [
    "c_values = np.arange(1,10, 0.25)\n",
    "\n",
    "# Inicializamos listas para almacenar las puntuaciones de entrenamiento y prueba\n",
    "train_auroc = []\n",
    "test_auroc = []\n",
    "\n",
    "# Calculamos puntuaciones para cada valor de profundidad máxima\n",
    "for C in c_values:\n",
    "    auroc_promedio_train, auroc_promedio_test = auroc_complejidad(svm.SVC, params={'C': C, 'kernel': 'rbf',\"random_state\": 4})\n",
    "    train_auroc.append(auroc_promedio_train)\n",
    "    test_auroc.append(auroc_promedio_test)\n",
    "\n",
    "\n",
    "# Graficamos las curvas de complejidad\n",
    "plt.figure(figsize=(10, 6))\n",
    "plt.plot(c_values, train_auroc, label='Train', marker='o')\n",
    "plt.plot(c_values, test_auroc, label='Test', marker='o')\n",
    "plt.xlabel('Valor del parámetro C')\n",
    "plt.ylabel('Área bajo la curva ROC')\n",
    "plt.title('Curva de complejidad para SVM')\n",
    "plt.xticks(np.arange(1,10, 1))\n",
    "\n",
    "plt.legend()\n",
    "plt.show()"
   ]
  },
  {
   "cell_type": "code",
   "execution_count": 126,
   "metadata": {},
   "outputs": [
    {
     "name": "stdout",
     "output_type": "stream",
     "text": [
      "Podemos ver que el mejor valor de C se alcanza en:  7.0\n"
     ]
    }
   ],
   "source": [
    "print('Podemos ver que el mejor valor de C se alcanza en: ', c_values[np.argmax(test_auroc)])"
   ]
  },
  {
   "cell_type": "markdown",
   "metadata": {},
   "source": [
    "##### 2. Graficamos curvas de aprendizaje para cada modelo"
   ]
  },
  {
   "cell_type": "code",
   "execution_count": 127,
   "metadata": {},
   "outputs": [],
   "source": [
    "from sklearn.model_selection import LearningCurveDisplay"
   ]
  },
  {
   "cell_type": "markdown",
   "metadata": {},
   "source": [
    "##### Árbol de decisión:"
   ]
  },
  {
   "cell_type": "code",
   "execution_count": 128,
   "metadata": {},
   "outputs": [
    {
     "data": {
      "image/png": "[encoded data removed]",
      "text/plain": [
       "<Figure size 640x480 with 1 Axes>"
      ]
     },
     "metadata": {},
     "output_type": "display_data"
    }
   ],
   "source": [
    "\n",
    "arbol = DecisionTreeClassifier(**mejor_modelo_arbol['parametros'].values[0])\n",
    "play = LearningCurveDisplay.from_estimator(arbol, x, y, train_sizes = np.linspace(0.1, 1.0, 50), line_kw = {\"marker\": \"o\"}, cv=skf, scoring='roc_auc')\n",
    "\n",
    "ax = plt.gca()\n",
    "\n",
    "for collection in ax.collections:\n",
    "    collection.set_alpha(0)\n",
    "\n",
    "plt.title('Curva de aprendizaje para árbol de decisión')\n",
    "plt.xlabel('Tamaño del conjunto de entrenamiento')\n",
    "plt.ylabel('Área bajo la curva ROC')\n",
    "plt.show()"
   ]
  },
  {
   "cell_type": "markdown",
   "metadata": {},
   "source": [
    "##### Support Vector Machine:"
   ]
  },
  {
   "cell_type": "code",
   "execution_count": 129,
   "metadata": {},
   "outputs": [
    {
     "data": {
      "image/png": "[encoded data removed]",
      "text/plain": [
       "<Figure size 640x480 with 1 Axes>"
      ]
     },
     "metadata": {},
     "output_type": "display_data"
    }
   ],
   "source": [
    "SVM = svm.SVC(**mejor_modelo_svm['parametros'].values[0])\n",
    "play = LearningCurveDisplay.from_estimator(SVM, x, y, train_sizes = np.linspace(0.1, 1.0, 50), cv=skf, line_kw = {\"marker\": \"o\"}, scoring='roc_auc')\n",
    "\n",
    "ax = plt.gca()\n",
    "\n",
    "for collection in ax.collections:\n",
    "    collection.set_alpha(0)\n",
    "\n",
    "plt.title('Curva de aprendizaje para SVM')\n",
    "plt.xlabel('Tamaño del conjunto de entrenamiento')\n",
    "plt.ylabel('Área bajo la curva ROC')\n",
    "plt.show()"
   ]
  },
  {
   "cell_type": "markdown",
   "metadata": {},
   "source": [
    "##### linear discriminant analysis"
   ]
  },
  {
   "cell_type": "code",
   "execution_count": 130,
   "metadata": {},
   "outputs": [
    {
     "data": {
      "image/png": "[encoded data removed]",
      "text/plain": [
       "<Figure size 640x480 with 1 Axes>"
      ]
     },
     "metadata": {},
     "output_type": "display_data"
    }
   ],
   "source": [
    "LDA = LinearDiscriminantAnalysis(**mejor_modelo_lda['parametros'].values[0])\n",
    "play = LearningCurveDisplay.from_estimator(LDA, x, y, train_sizes = np.linspace(0.1, 1.0, 50), cv=skf, line_kw = {\"marker\": \"o\"}, scoring='roc_auc')\n",
    "\n",
    "ax = plt.gca()\n",
    "\n",
    "for collection in ax.collections:\n",
    "    collection.set_alpha(0)\n",
    "\n",
    "plt.title('Curva de aprendizaje para LDA')\n",
    "plt.xlabel('Tamaño del conjunto de entrenamiento')\n",
    "plt.ylabel('Área bajo la curva ROC')\n",
    "plt.show()"
   ]
  },
  {
   "cell_type": "markdown",
   "metadata": {},
   "source": [
    "##### 3. Construimos un modelo **RandomForest** con 200 árboles. Exploramos para qué sirve el hiperparámetro max_features y cómo afecta a la performance del algoritmo mediante una curva de complejidad. Por último, graficamos una curva de aprendizaje sobre los parámetros elegidos para determinar si sería útil o no conseguir más datos."
   ]
  },
  {
   "cell_type": "code",
   "execution_count": 131,
   "metadata": {},
   "outputs": [],
   "source": [
    "from sklearn.ensemble import RandomForestClassifier"
   ]
  },
  {
   "cell_type": "markdown",
   "metadata": {},
   "source": [
    "Entrenamos el RandomForest con 200 árboles"
   ]
  },
  {
   "cell_type": "code",
   "execution_count": 132,
   "metadata": {},
   "outputs": [
    {
     "data": {
      "text/html": [
       "<style>#sk-container-id-3 {color: black;}#sk-container-id-3 pre{padding: 0;}#sk-container-id-3 div.sk-toggleable {background-color: white;}#sk-container-id-3 label.sk-toggleable__label {cursor: pointer;display: block;width: 100%;margin-bottom: 0;padding: 0.3em;box-sizing: border-box;text-align: center;}#sk-container-id-3 label.sk-toggleable__label-arrow:before {content: \"▸\";float: left;margin-right: 0.25em;color: #696969;}#sk-container-id-3 label.sk-toggleable__label-arrow:hover:before {color: black;}#sk-container-id-3 div.sk-estimator:hover label.sk-toggleable__label-arrow:before {color: black;}#sk-container-id-3 div.sk-toggleable__content {max-height: 0;max-width: 0;overflow: hidden;text-align: left;background-color: #f0f8ff;}#sk-container-id-3 div.sk-toggleable__content pre {margin: 0.2em;color: black;border-radius: 0.25em;background-color: #f0f8ff;}#sk-container-id-3 input.sk-toggleable__control:checked~div.sk-toggleable__content {max-height: 200px;max-width: 100%;overflow: auto;}#sk-container-id-3 input.sk-toggleable__control:checked~label.sk-toggleable__label-arrow:before {content: \"▾\";}#sk-container-id-3 div.sk-estimator input.sk-toggleable__control:checked~label.sk-toggleable__label {background-color: #d4ebff;}#sk-container-id-3 div.sk-label input.sk-toggleable__control:checked~label.sk-toggleable__label {background-color: #d4ebff;}#sk-container-id-3 input.sk-hidden--visually {border: 0;clip: rect(1px 1px 1px 1px);clip: rect(1px, 1px, 1px, 1px);height: 1px;margin: -1px;overflow: hidden;padding: 0;position: absolute;width: 1px;}#sk-container-id-3 div.sk-estimator {font-family: monospace;background-color: #f0f8ff;border: 1px dotted black;border-radius: 0.25em;box-sizing: border-box;margin-bottom: 0.5em;}#sk-container-id-3 div.sk-estimator:hover {background-color: #d4ebff;}#sk-container-id-3 div.sk-parallel-item::after {content: \"\";width: 100%;border-bottom: 1px solid gray;flex-grow: 1;}#sk-container-id-3 div.sk-label:hover label.sk-toggleable__label {background-color: #d4ebff;}#sk-container-id-3 div.sk-serial::before {content: \"\";position: absolute;border-left: 1px solid gray;box-sizing: border-box;top: 0;bottom: 0;left: 50%;z-index: 0;}#sk-container-id-3 div.sk-serial {display: flex;flex-direction: column;align-items: center;background-color: white;padding-right: 0.2em;padding-left: 0.2em;position: relative;}#sk-container-id-3 div.sk-item {position: relative;z-index: 1;}#sk-container-id-3 div.sk-parallel {display: flex;align-items: stretch;justify-content: center;background-color: white;position: relative;}#sk-container-id-3 div.sk-item::before, #sk-container-id-3 div.sk-parallel-item::before {content: \"\";position: absolute;border-left: 1px solid gray;box-sizing: border-box;top: 0;bottom: 0;left: 50%;z-index: -1;}#sk-container-id-3 div.sk-parallel-item {display: flex;flex-direction: column;z-index: 1;position: relative;background-color: white;}#sk-container-id-3 div.sk-parallel-item:first-child::after {align-self: flex-end;width: 50%;}#sk-container-id-3 div.sk-parallel-item:last-child::after {align-self: flex-start;width: 50%;}#sk-container-id-3 div.sk-parallel-item:only-child::after {width: 0;}#sk-container-id-3 div.sk-dashed-wrapped {border: 1px dashed gray;margin: 0 0.4em 0.5em 0.4em;box-sizing: border-box;padding-bottom: 0.4em;background-color: white;}#sk-container-id-3 div.sk-label label {font-family: monospace;font-weight: bold;display: inline-block;line-height: 1.2em;}#sk-container-id-3 div.sk-label-container {text-align: center;}#sk-container-id-3 div.sk-container {/* jupyter's `normalize.less` sets `[hidden] { display: none; }` but bootstrap.min.css set `[hidden] { display: none !important; }` so we also need the `!important` here to be able to override the default hidden behavior on the sphinx rendered scikit-learn.org. See: https://github.com/scikit-learn/scikit-learn/issues/21755 */display: inline-block !important;position: relative;}#sk-container-id-3 div.sk-text-repr-fallback {display: none;}</style><div id=\"sk-container-id-3\" class=\"sk-top-container\"><div class=\"sk-text-repr-fallback\"><pre>RandomForestClassifier(n_estimators=200)</pre><b>In a Jupyter environment, please rerun this cell to show the HTML representation or trust the notebook. <br />On GitHub, the HTML representation is unable to render, please try loading this page with nbviewer.org.</b></div><div class=\"sk-container\" hidden><div class=\"sk-item\"><div class=\"sk-estimator sk-toggleable\"><input class=\"sk-toggleable__control sk-hidden--visually\" id=\"sk-estimator-id-3\" type=\"checkbox\" checked><label for=\"sk-estimator-id-3\" class=\"sk-toggleable__label sk-toggleable__label-arrow\">RandomForestClassifier</label><div class=\"sk-toggleable__content\"><pre>RandomForestClassifier(n_estimators=200)</pre></div></div></div></div></div>"
      ],
      "text/plain": [
       "RandomForestClassifier(n_estimators=200)"
      ]
     },
     "execution_count": 132,
     "metadata": {},
     "output_type": "execute_result"
    }
   ],
   "source": [
    "random_forest = RandomForestClassifier(n_estimators = 200)\n",
    "\n",
    "random_forest.fit(x, y)"
   ]
  },
  {
   "cell_type": "markdown",
   "metadata": {},
   "source": [
    "Veamos la curva de complejidad "
   ]
  },
  {
   "cell_type": "code",
   "execution_count": 133,
   "metadata": {},
   "outputs": [
    {
     "data": {
      "image/png": "[encoded data removed]",
      "text/plain": [
       "<Figure size 1000x600 with 1 Axes>"
      ]
     },
     "metadata": {},
     "output_type": "display_data"
    }
   ],
   "source": [
    "train_auroc_rf = []\n",
    "test_auroc_rf = []\n",
    "cant_features = range(1,201, 10)\n",
    "\n",
    "for feature in cant_features:\n",
    "    train_auroc, test_auroc = auroc_complejidad(RandomForestClassifier, params={\"max_features\": feature, \"n_estimators\": 200})\n",
    "    train_auroc_rf = np.append(train_auroc_rf, train_auroc)\n",
    "    test_auroc_rf = np.append(test_auroc_rf, test_auroc)\n",
    "\n",
    "\n",
    "plt.figure(figsize=(10, 6))\n",
    "plt.plot(cant_features, train_auroc_rf, label='Train', marker='o')\n",
    "plt.plot(cant_features, test_auroc_rf, label='Test', marker='o')\n",
    "plt.xlabel('Cantidad de features considerados en cada nodo')\n",
    "plt.ylabel('Área bajo la curva ROC')\n",
    "plt.title('Curva de complejidad para Random Forest')\n",
    "plt.legend()\n",
    "plt.show()"
   ]
  },
  {
   "cell_type": "code",
   "execution_count": 134,
   "metadata": {},
   "outputs": [
    {
     "name": "stdout",
     "output_type": "stream",
     "text": [
      "Cantidad de max_features donde conseguimos el mejor auroc 21\n"
     ]
    }
   ],
   "source": [
    "print('Cantidad de max_features donde conseguimos el mejor auroc', cant_features[np.argmax(test_auroc_rf)])"
   ]
  },
  {
   "cell_type": "markdown",
   "metadata": {},
   "source": [
    "Veamos la curva de aprendizaje"
   ]
  },
  {
   "cell_type": "code",
   "execution_count": 135,
   "metadata": {},
   "outputs": [
    {
     "data": {
      "image/png": "[encoded data removed]",
      "text/plain": [
       "<Figure size 640x480 with 1 Axes>"
      ]
     },
     "metadata": {},
     "output_type": "display_data"
    }
   ],
   "source": [
    "params = {\"max_features\": cant_features[np.argmin(test_auroc_rf)], \"n_estimators\": 200}\n",
    "RF = RandomForestClassifier(**params)\n",
    "play = LearningCurveDisplay.from_estimator(RF, x, y, train_sizes = np.linspace(0.1, 1.0, 50), cv=skf, line_kw = {\"marker\": \"o\"}, scoring='roc_auc')\n",
    "\n",
    "ax = plt.gca()\n",
    "\n",
    "for collection in ax.collections:\n",
    "    collection.set_alpha(0)\n",
    "\n",
    "plt.title('Curva de aprendizaje para Random Forest')\n",
    "plt.xlabel('Tamaño del conjunto de entrenamiento')\n",
    "plt.ylabel('Área bajo la curva ROC')\n",
    "plt.show()"
   ]
  },
  {
   "cell_type": "markdown",
   "metadata": {},
   "source": [
    "## Ejercicio 5: \n",
    "### Evaluación de performance\n",
    "\n",
    "- La entrega del trabajo estará acompañada de una evaluación en la cual deberán poner a prueba su mejor modelo y sobre todo, su capacidad para estimar sus resultados. \n",
    "\n",
    "- Su tarea será estimar la performance (AUCROC) que tendrá su mejor modelo en datos de evaluación (X_held_out). \n",
    "\n",
    "- Para ello, deberán predecir las **probabilidades** de las distintas instancias con su modelo, enviarnos dichas probabilidades junto a una estimación con 4 decimales de cuál será el AUCROC resultante y calcularemos el resultado real. Consideraremos que el **mejor modelo será el que se encuentre más cerca del valor real que calcularemos luego de la entrega**.\n",
    "\n",
    "- Recomendamos no perder de vista esta evaluación/competencia durante el desarrollo del TP, sobretodo en el momento de separar los datos en los primeros puntos. \n",
    "\n",
    "- Para que podamos evaluar la performance, junto con la entrega del informe, deberán enviar un archivo con el numero de grupo con dos digitos en formato csv con la columna `output` y el valor obtenido con 4 decimales (se subirá un ejemplo cuando se publiquen los datos de la competencia) y un valor esperado de AUCROC: `GG_y_pred_held_out_AUCROC`. \n",
    "\n",
    "    - Ej.: el grupo tres cree que obtuvo un valor de 0.7321 de AUCROC deberá submitear un archivo llamado: `03_y_pred_held_out_7321.csv`.\n",
    "\n",
    "- Los datos podrán encontrarlos en este [link](https://github.com/aprendizaje-automatico-dc-uba-ar/material/tree/main/tp/01_aprendizaje_supervisado/datos).\n",
    "\n",
    "- Las decisiones de este punto pueden desarrollarse hasta en una carilla, aunque con media debería alcanzar.\n"
   ]
  },
  {
   "cell_type": "markdown",
   "metadata": {},
   "source": [
    "Primero revisemos la performance de cada modelo, así vemos cual nos dio mejor"
   ]
  },
  {
   "cell_type": "code",
   "execution_count": 136,
   "metadata": {},
   "outputs": [
    {
     "name": "stdout",
     "output_type": "stream",
     "text": [
      "{'criterion': 'entropy', 'max_depth': 3}\n",
      "AUROC del mejor modelo de arbol de decision: 0.6467624437817306\n",
      "{'C': 4.344, 'degree': 4, 'kernel': 'rbf'}\n",
      "AUROC del mejor modelo de SVM: 0.8919956507332311\n",
      "{}\n",
      "AUROC del mejor modelo de LDA: 0.7534190531852717\n",
      "{'n_neighbors': 6, 'p': 1, 'weights': 'distance'}\n",
      "AUROC del mejor modelo de KNN: 0.842863838977223\n",
      "{'priors': array([0.5, 0.5]), 'var_smoothing': 0.0009184478488708967}\n",
      "AUROC del mejor modelo de Naive Bayes: 0.8227818656223098\n"
     ]
    }
   ],
   "source": [
    "print(mejor_modelo_arbol['parametros'].values[0])\n",
    "print(\"AUROC del mejor modelo de arbol de decision:\", mejor_modelo_arbol['mean_AUROC'].values[0])\n",
    "print(mejor_modelo_svm['parametros'].values[0])\n",
    "print(\"AUROC del mejor modelo de SVM:\",mejor_modelo_svm['mean_AUROC'].values[0])\n",
    "print(mejor_modelo_lda['parametros'].values[0])\n",
    "print(\"AUROC del mejor modelo de LDA:\",mejor_modelo_lda['mean_AUROC'].values[0])\n",
    "print(mejor_modelo_knn['parametros'].values[0])\n",
    "print(\"AUROC del mejor modelo de KNN:\",mejor_modelo_knn['mean_AUROC'].values[0])\n",
    "print(mejor_modelo_bayes['parametros'].values[0])\n",
    "print(\"AUROC del mejor modelo de Naive Bayes:\",mejor_modelo_bayes['mean_AUROC'].values[0])\n"
   ]
  },
  {
   "cell_type": "markdown",
   "metadata": {},
   "source": [
    "Para ver cual es el mejor modelo, nos parece relevante graficar las curvas de complejidad de los mejores modelos de KNN ya que vemos que el mejor modelo dió un valor cercano al de SVM en el valor del área de la curva ROC"
   ]
  },
  {
   "cell_type": "code",
   "execution_count": 137,
   "metadata": {},
   "outputs": [
    {
     "data": {
      "image/png": "[encoded data removed]",
      "text/plain": [
       "<Figure size 1000x600 with 1 Axes>"
      ]
     },
     "metadata": {},
     "output_type": "display_data"
    }
   ],
   "source": [
    "train_auroc_knn = []\n",
    "test_auroc_knn = []\n",
    "cant_features = range(1, 30)\n",
    "\n",
    "for vecino in range(1,30):\n",
    "    train_auroc, test_auroc = auroc_complejidad(KNeighborsClassifier, params={\"n_neighbors\": vecino,'p': 1, 'weights': 'distance'})\n",
    "    train_auroc_knn = np.append(train_auroc_knn, train_auroc)\n",
    "    test_auroc_knn = np.append(test_auroc_knn, test_auroc)\n",
    "\n",
    "\n",
    "plt.figure(figsize=(10, 6))\n",
    "plt.plot(cant_features, train_auroc_knn, label='Train', marker='o')\n",
    "plt.plot(cant_features, test_auroc_knn, label=' Test', marker='o')\n",
    "plt.xlabel('Cantidad de features considerados en cada nodo')\n",
    "plt.ylabel('Área bajo la curva ROC')\n",
    "plt.title('Curva de complejidad para KNN')\n",
    "plt.legend()\n",
    "plt.show()"
   ]
  },
  {
   "cell_type": "code",
   "execution_count": 138,
   "metadata": {},
   "outputs": [
    {
     "name": "stdout",
     "output_type": "stream",
     "text": [
      "Cantidad de vecinos donde se alcanza el mayor valor de AUROC: 11\n",
      "Valor de AUROC para la cantidad de vecinos que maximiza este valor: 0.8521578157755831\n"
     ]
    }
   ],
   "source": [
    "print('Cantidad de vecinos donde se alcanza el mayor valor de AUROC:', np.argmax(test_auroc_knn))\n",
    "print('Valor de AUROC para la cantidad de vecinos que maximiza este valor:', max(test_auroc_knn))"
   ]
  },
  {
   "cell_type": "markdown",
   "metadata": {},
   "source": [
    "Vemos que el modelo con mayor auroc es el de cantidad de vecinos = 12, que no lo habíamos tenido en cuenta cuando hicimos el randomized search. Sin embargo, este valor de AUROC sigue siendo más chico que el de SVM.\n"
   ]
  },
  {
   "cell_type": "markdown",
   "metadata": {},
   "source": [
    "##### Predecimos entonces con nuestro mejor modelo, que es SVM, a todo el conjunto de evaluación separado en el ejercicio 1 "
   ]
  },
  {
   "cell_type": "code",
   "execution_count": 139,
   "metadata": {},
   "outputs": [],
   "source": [
    "eval = pd.read_csv(\"evaluacion.csv\")"
   ]
  },
  {
   "cell_type": "markdown",
   "metadata": {},
   "source": [
    "Entrenamos el modelo con los hiperparámetros previamente encontrados y los datos de entrenamiento y predecimos los de evaluación"
   ]
  },
  {
   "cell_type": "code",
   "execution_count": 140,
   "metadata": {},
   "outputs": [],
   "source": [
    "params_svc = mejor_modelo_svm['parametros'].values[0]\n",
    "params_svc['probability'] = True\n",
    "svm1 = svm.SVC(**params_svc)\n",
    "svm1.fit(x, y)\n",
    "predicciones_eval = svm1.predict(eval.drop('target', axis=1))"
   ]
  },
  {
   "cell_type": "code",
   "execution_count": 141,
   "metadata": {},
   "outputs": [
    {
     "name": "stdout",
     "output_type": "stream",
     "text": [
      "AUROC para los datos de evaluación: 0.8137254901960783\n"
     ]
    }
   ],
   "source": [
    "auroc = roc_auc_score(eval['target'], predicciones_eval)\n",
    "print(\"AUROC para los datos de evaluación:\", auroc)"
   ]
  },
  {
   "cell_type": "markdown",
   "metadata": {},
   "source": [
    "##### Ahora predecimos el conjunto X_held_out"
   ]
  },
  {
   "cell_type": "code",
   "execution_count": 142,
   "metadata": {},
   "outputs": [],
   "source": [
    "x_held = pd.read_csv(\"X_held_out.csv\")"
   ]
  },
  {
   "cell_type": "code",
   "execution_count": 143,
   "metadata": {},
   "outputs": [
    {
     "data": {
      "text/plain": [
       "array([0.5915594 , 0.95735287, 0.57850026, 0.7834533 , 0.87002021,\n",
       "       0.96624467, 0.97011958, 0.851687  , 0.825814  , 0.62614147,\n",
       "       0.95840264, 0.8182531 , 0.99527061, 0.90264951, 0.89105945,\n",
       "       0.96173881, 0.91610468, 0.72186539, 0.78752831, 0.9170671 ,\n",
       "       0.98150394, 0.98611544, 0.97398376, 0.69406528, 0.98753785,\n",
       "       0.01980192, 0.40506849, 0.86521649, 0.94580837, 0.06712093,\n",
       "       0.84340195, 0.09608318, 0.0757468 , 0.80369979, 0.12594646,\n",
       "       0.19068816, 0.6197674 , 0.95561261, 0.19584881, 0.89805636,\n",
       "       0.06718394, 0.73183094, 0.53910221, 0.78245751, 0.9199486 ,\n",
       "       0.7297327 , 0.96926707, 0.98213495, 0.9599936 , 0.93888055,\n",
       "       0.19572804, 0.86013145, 0.73218048, 0.95420197, 0.66805084,\n",
       "       0.53532563, 0.35336783, 0.86762409, 0.06520779, 0.69997945,\n",
       "       0.93998074, 0.9603648 , 0.98886427, 0.80909232, 0.7709536 ,\n",
       "       0.48122222, 0.94723119, 0.76131558, 0.65712168, 0.89225622,\n",
       "       0.73408039, 0.92917378, 0.98085061, 0.48931387, 0.55634739,\n",
       "       0.07806722, 0.79575147, 0.93605325, 0.73660804, 0.92239557,\n",
       "       0.92815572, 0.18607651, 0.96101056, 0.9616734 , 0.98533707,\n",
       "       0.71683392, 0.48828457, 0.79292811, 0.92685629, 0.54899793,\n",
       "       0.93119316, 0.4326987 , 0.96482653, 0.76188171, 0.91219155,\n",
       "       0.17213015, 0.94329419, 0.82835858, 0.8193646 , 0.97829273,\n",
       "       0.87420763, 0.92915579, 0.20263672, 0.89096948, 0.246229  ,\n",
       "       0.94765281, 0.63183515, 0.87289407, 0.91687471, 0.89029281,\n",
       "       0.9502225 , 0.12917654, 0.99699914, 0.57236267, 0.23086048,\n",
       "       0.94683638, 0.15743495, 0.70792242, 0.97933406, 0.3978069 ,\n",
       "       0.99158005, 0.12317617, 0.81923964, 0.70060817, 0.95900848,\n",
       "       0.99675246, 0.81648689, 0.14489267, 0.91502163, 0.1511789 ,\n",
       "       0.5       , 0.85606025, 0.82769727, 0.69566958, 0.72268549,\n",
       "       0.90586198, 0.04946536, 0.53290725, 0.03033208, 0.95983838,\n",
       "       0.71801512, 0.92192525, 0.46584733, 0.8165375 , 0.66134499,\n",
       "       0.06669057, 0.83099081, 0.20728815, 0.96449873, 0.37161221,\n",
       "       0.44392857, 0.98607784, 0.35475186, 0.1059638 , 0.83093498,\n",
       "       0.80248949, 0.76443411, 0.82654276, 0.91666355, 0.8937943 ,\n",
       "       0.69124602, 0.06782124, 0.92646755, 0.90468353, 0.98121078,\n",
       "       0.42449764, 0.26237795, 0.62832403, 0.95237176, 0.27263823,\n",
       "       0.5418225 , 0.64723296, 0.14432078, 0.97974773, 0.98129226,\n",
       "       0.25223833, 0.98454651, 0.93661633, 0.83661703, 0.57741128,\n",
       "       0.87498119, 0.95894382, 0.82945756, 0.33170323, 0.6216433 ,\n",
       "       0.97031964, 0.15086731, 0.55739194, 0.41599748, 0.80704133,\n",
       "       0.7796704 , 0.03909033, 0.14914788, 0.95149827, 0.68995188,\n",
       "       0.84336162, 0.74661015, 0.7754076 , 0.98856026, 0.51912866,\n",
       "       0.71527298, 0.95038754, 0.15848232, 0.43122289, 0.05213918,\n",
       "       0.41309726, 0.93024976, 0.93869758, 0.9273778 , 0.60405317,\n",
       "       0.99506856, 0.50850214, 0.26676331, 0.47826811, 0.1040155 ,\n",
       "       0.16723064, 0.53520699, 0.76553628, 0.73002882, 0.94404645,\n",
       "       0.57491079, 0.98487627, 0.91155657, 0.84506332, 0.08805493,\n",
       "       0.79489803, 0.98785707, 0.37732015, 0.7214579 , 0.40058601,\n",
       "       0.86729212, 0.91094724, 0.34480634, 0.89748351, 0.5       ,\n",
       "       0.96911502, 0.98814811, 0.93944509, 0.94697772, 0.0743096 ,\n",
       "       0.10262269, 0.88018165, 0.85679223, 0.98569198, 0.82162119,\n",
       "       0.05233837, 0.86056046, 0.96461202, 0.84036272, 0.56142321,\n",
       "       0.86375173, 0.78720881, 0.85947333, 0.06477336, 0.65351055,\n",
       "       0.90736415, 0.7221938 , 0.93982115, 0.98767142, 0.05191431,\n",
       "       0.57776373, 0.97827333, 0.71056837, 0.13304834, 0.69125086,\n",
       "       0.98854207, 0.45184119, 0.98697283, 0.40792367, 0.62229921,\n",
       "       0.90753593, 0.97319904, 0.20809489, 0.34738317, 0.9154289 ,\n",
       "       0.60543784, 0.98424159, 0.84476931, 0.79962766, 0.28471015,\n",
       "       0.83741793, 0.90686379, 0.78295301, 0.96079169, 0.66566435,\n",
       "       0.9165187 , 0.76464784, 0.88863902, 0.46734187, 0.92382986,\n",
       "       0.9350899 , 0.53064197, 0.35577568, 0.98593879, 0.62682925,\n",
       "       0.91010244, 0.17832964, 0.98732085, 0.95846386, 0.9910674 ,\n",
       "       0.47619153, 0.87176574, 0.0026203 , 0.80025822, 0.97763506,\n",
       "       0.37666274, 0.84886447, 0.3751901 , 0.49204874, 0.34089073,\n",
       "       0.52661265, 0.68002325, 0.98392442, 0.8874802 , 0.23214013,\n",
       "       0.89482255, 0.64503406, 0.05058943, 0.23882617, 0.97872503,\n",
       "       0.79438819, 0.93512847, 0.72436136, 0.7590101 , 0.39126749,\n",
       "       0.52931076, 0.0046941 , 0.67134298, 0.93973084, 0.89933862,\n",
       "       0.61890488, 0.72684173, 0.96838773, 0.93572288, 0.11270704,\n",
       "       0.91091213, 0.94095841, 0.54491723, 0.76851785, 0.87478273,\n",
       "       0.92088349, 0.80648423, 0.5       , 0.75056822, 0.45670266,\n",
       "       0.90163603, 0.66558806, 0.94975995, 0.86073763, 0.89781972,\n",
       "       0.8905949 , 0.14974736, 0.8144114 , 0.86537994, 0.87163491,\n",
       "       0.88609805, 0.91393948, 0.88799893, 0.93345986, 0.72334402,\n",
       "       0.28007963, 0.91230332, 0.84890571, 0.93253618, 0.85502565,\n",
       "       0.60738248, 0.98050004, 0.88763018, 0.92216149, 0.95042968,\n",
       "       0.15116868, 0.79802511, 0.84929756, 0.78454751, 0.08095097,\n",
       "       0.28407738, 0.35500128, 0.69570283, 0.86197178, 0.81763901,\n",
       "       0.81238433, 0.97602311, 0.8323858 , 0.92350543, 0.5887847 ,\n",
       "       0.95723036, 0.89291344, 0.59180167, 0.82316584, 0.3300657 ,\n",
       "       0.94125593, 0.11915002, 0.9659627 , 0.93972462, 0.87534883,\n",
       "       0.62486647, 0.29338495, 0.43355826, 0.16207998, 0.92647437,\n",
       "       0.86294096, 0.91277644, 0.89578543, 0.6066588 , 0.90363286,\n",
       "       0.67092984, 0.06876475, 0.98020286, 0.26775591, 0.95822799,\n",
       "       0.22823959, 0.37980635, 0.94588681, 0.03231933, 0.84160832,\n",
       "       0.85420951, 0.01312433, 0.97995575, 0.81689893, 0.88718114,\n",
       "       0.40622976, 0.88148124, 0.91935274, 0.8041442 , 0.90252225,\n",
       "       0.89010455, 0.74104554, 0.89368926, 0.99291638, 0.48245486,\n",
       "       0.64531668, 0.97947172, 0.19395705, 0.0439555 , 0.78170344,\n",
       "       0.90530633, 0.96185328, 0.42909219, 0.36945683, 0.87861988,\n",
       "       0.35537484, 0.61605599, 0.97128508, 0.5       , 0.98511326,\n",
       "       0.84546535, 0.13883313, 0.94298838, 0.15913636, 0.71950445,\n",
       "       0.89402948, 0.33323771, 0.67881148, 0.95164991, 0.18029017,\n",
       "       0.96046048, 0.97216313, 0.92152137, 0.84870652, 0.97292201,\n",
       "       0.42061297, 0.79229357, 0.97850212, 0.08001622, 0.9484895 ,\n",
       "       0.42163142, 0.84817822, 0.8420797 , 0.82749965, 0.56947864,\n",
       "       0.9773931 , 0.99143645, 0.8863657 , 0.27632309, 0.95533737,\n",
       "       0.54320616, 0.66305829, 0.93385343, 0.69852711, 0.93101265,\n",
       "       0.9186068 , 0.64465332, 0.94023902, 0.37584434, 0.99018845,\n",
       "       0.97951271, 0.24948628, 0.80322236, 0.8825368 , 0.78789617,\n",
       "       0.95413627, 0.0703546 , 0.9167499 , 0.73606873, 0.79613005,\n",
       "       0.96758844, 0.03198511, 0.37403537, 0.96905976, 0.81608608])"
      ]
     },
     "execution_count": 143,
     "metadata": {},
     "output_type": "execute_result"
    }
   ],
   "source": [
    "probas_held_out = svm1.predict_proba(x_held)[:,0]\n",
    "probas_held_out"
   ]
  },
  {
   "cell_type": "markdown",
   "metadata": {},
   "source": [
    "Guardemoslo en un archivo .csv, donde redondeamos las estimaciones con 4 decimales"
   ]
  },
  {
   "cell_type": "code",
   "execution_count": 144,
   "metadata": {},
   "outputs": [],
   "source": [
    "df_probas_clase_0 = pd.DataFrame(probas_held_out, columns=['output'])\n",
    "\n",
    "df_probas_clase_0.to_csv('02_y_pred_held_out_0.8137.csv', index=False, float_format='%.4f')"
   ]
  },
  {
   "cell_type": "markdown",
   "metadata": {},
   "source": [
    "## Ejercicio 6: \n",
    "### Conclusiones\n",
    "\n",
    "Dar en a lo sumo 2 carillas una conclusión del trabajo realizado, incluyendo problemas encontrados y \n",
    "dimensiones no incluidas en el enunciado que hayan sido abordadas durante el desarrollo."
   ]
  },
  {
   "cell_type": "markdown",
   "metadata": {},
   "source": [
    "---\n",
    "## Entregables\n",
    "- Contarán con un esqueleto en formato Jupyter Notebook en donde podrán intercalar celdas para reportar y responder a los ítems de cada ejercicio. \n",
    "- Los entregrables serán\n",
    "    - Un informe en formato .pdf (**digital**) que responda a los ítems de este enunciado respetando la cantidad de espacio máximo por cada ítem. Nombrarlo siguiendo el formato `GG_Nombre_de_grupo`\n",
    "    - Adjuntar el notebook final en formatos .pdf e .ipynb. Es necesario que los resultados puedan reproducirse al ejecutar todas las celdas en orden (verificarlo haceindo: Kernel -> Restart and Run All). \n",
    "    - Las predicciones del *held out* del punto 5 en formato csv.\n",
    "- Habŕa una entrega intermedia obligatoria que deberán hacer antes del 25 de abril de 2024 a las 23:55hs. Para esta entrega deberán enviar el código que resuelve los primeros 3 ejercicios. \n",
    "- La **fecha** y **hora límite** de entrega está determinada en el campus de la materia.\n",
    "- El trabajo deberá elaborarse en grupos de hasta 4 personas (4 preferentemente).\n",
    "- Se podrán pedir pruebas de integridad y autoría; es decir, verificar que la salida solicitada es fruto del modelo presentado y que el modelo fue construido según lo requerido en este enunciado.\n",
    "- La evaluación será grupal y se basará en la calidad del informe (presentación, claridad, prolijidad); la originalidad, practicidad y coherencia técnica de la solución; la corrección y solidez de las pruebas realizadas.\n"
   ]
  },
  {
   "cell_type": "markdown",
   "metadata": {},
   "source": [
    "### Importante: sobre el uso de ChatGPT y grandes modelos de lenguaje\n",
    "\n",
    "En este trabajo no estará explícitamente prohibido pero si fuertemente desaconsejado, consideramos a este trabajo práctico una importante herramienta de aprendizaje donde el uso de GPT puede ser perjudicial. En caso de usarlo se pide aclararlo en el informe y especificar cómo y en donde se utilizó. Así como expresar su opinión sobre la respuesta generada por el modelo pudiendo estar a favor o en contra de lo propuesto por este. Pueden adjuntar el link a la conversación con el modelo."
   ]
  },
  {
   "cell_type": "markdown",
   "metadata": {},
   "source": [
    "**Nota**: Agradecemos a [Martín García Sola](https://ar.linkedin.com/in/martin-e-garcia-sola) por la asistencia biológica en la confección de este Trabajo Práctico."
   ]
  }
 ],
 "metadata": {
  "kernelspec": {
   "display_name": "Python 3 (ipykernel)",
   "language": "python",
   "name": "python3"
  },
  "language_info": {
   "codemirror_mode": {
    "name": "ipython",
    "version": 3
   },
   "file_extension": ".py",
   "mimetype": "text/x-python",
   "name": "python",
   "nbconvert_exporter": "python",
   "pygments_lexer": "ipython3",
   "version": "3.8.2"
  }
 },
 "nbformat": 4,
 "nbformat_minor": 4
}
