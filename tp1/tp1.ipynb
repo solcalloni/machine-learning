{
 "cells": [
  {
   "cell_type": "code",
   "execution_count": null,
   "metadata": {},
   "outputs": [],
   "source": []
  },
  {
   "cell_type": "code",
   "execution_count": 30,
   "metadata": {},
   "outputs": [],
   "source": [
    "import numpy as np\n",
    "import pandas as pd\n",
    "import matplotlib as plt\n",
    "import random\n",
    "from sklearn import model_selection"
   ]
  },
  {
   "cell_type": "markdown",
   "metadata": {},
   "source": [
    "[![Open In Colab](https://colab.research.google.com/assets/colab-badge.svg)](https://colab.research.google.com/github/aprendizaje-automatico-dc-uba-ar/material/blob/main/tp/01_aprendizaje_supervisado/tp01-enunciado.ipynb)\n",
    "\n",
    "# Trabajo Práctico -  Aprendizaje supervisado\n",
    "### Clasificación de expresiones genómicas\n",
    "\n",
    "<span style=\"color: red;\">**Fecha de entrega: 01 de Mayo del 2024 - hasta las 23:55hs.**\n",
    "\n",
    "<span style=\"color: red;\">**Fecha de entrega intermedia: 25 de Abril del 2024 - hasta las 23:55hs.**\n",
    "</span>\n",
    "\n",
    "## Introducción\n",
    "\n",
    "En el mundo actual, distintas disciplinas científicas empiezan, cada vez más, a interactuar con el fin de potenciar sus descubrimientos. En este caso dos grupos de investigación de [CONICET](https://www.conicet.gov.ar/) se embarcan en la combinación entre biología y informática para abordar la detección temprana y el pronóstico preciso de enfermedades como el cáncer. Este proyecto combina las tecnologías de secuenciación de nueva generación ([_NGS_](https://es.wikipedia.org/wiki/Secuenciaci%C3%B3n_paralela_masiva), por sus siglas en inglés) con la potencia de la inteligencia artificial. El enfoque se centra en un dataset único que abarca mediciones de [_ARN_](https://es.wikipedia.org/wiki/ARN_mensajero) de 200 [_genes_](https://es.wikipedia.org/wiki/Gen), recopiladas de pacientes con lesiones [_pre-tumorales_](https://en.wikipedia.org/wiki/Hyperplasia). Este conjunto de datos se convierte en una valiosa fuente de información para entender cómo las células en estado de hiperplasia pueden evolucionar hacia [_tumores malignos_](https://en.wikipedia.org/wiki/Neoplasm), una transformación que ha desconcertado a la ciencia durante décadas.\n",
    "\n",
    "La hiperplasia, es un fenómeno en el que las células experimentan un crecimiento anormal y descontrolado, es un punto de partida crucial en nuestro análisis. ¿Cómo y por qué algunas células que experimentan hiperplasia se convierten en células cancerosas, mientras que otras no? Esta pregunta es el corazón de nuestra investigación. Para responderla se realizo un estudio donde se obtuvieron muestras de distintos tipos de hiperplasias de pacientes con antecedentes familiares y lesiones pre tumorales. Este grupo de pacientes, o cohorte, fue monitoreado periodicamente durante los siguientes 5 años buscando indicios de neoplasias o nuevas hiperplasias más agresivas. Con las muestras obtenidas en este estudio se realizo un [_biobanco_](https://en.wikipedia.org/wiki/Biobank) con las mediciones que habitualmente se hacen en la construccion de este tipo de [_plataformas_](https://xena.ucsc.edu/). Cada muestra fue etiquetada como **_buen pronostico_**, si no hubo indicios de nuevas hiperplasias o similares; contrariamente se etiquetaron como de **_mal pronostico_** si hubo una recaida.\n",
    "\n",
    "Este trabajo se concentra en un panel de genes, especificamente en la expresion de 200 genes que se creen tienen un papel crucial en la transformacion tumoral y su etiqueta correspondiente.\n",
    "\n",
    "En concreto:\n",
    "\n",
    "Tendrán un archivo `.csv` en donde se almacenan:\n",
    "  - una matriz de datos `X` de $500$ filas en donde cada fila $x^{(i)}$ representa un vector de $200$ características de cada instancia. Es decir, $\\textbf{x}^{(i)} = x_1^{(i)}, \\dots, x_{200}^{(i)}$ con $i$ entre $1$ y $500$.\n",
    "  - una columna llamada `target` que representa un vector de $500$ posiciones con dos posibles valores: `True` (ó 1, es decir, tiene buen pronostico) y `False` (ó 0, tiene mal pronostico).\n",
    "\n",
    "Los datos están en esta [carpeta](https://github.com/aprendizaje-automatico-dc-uba-ar/material/tree/main/tp/01_aprendizaje_supervisado/datos).\n",
    "\n",
    "Por otra parte, tendrán disponibles un conjunto de instancias sin etiquetas, que utilizaremos para comprobar la calidad de sus resultados (ver Ejercicio 5). \n",
    "\n",
    "**Recomendamos fuertemente leer primero todo el enunciado del trabajo antes de empezar a trabajar sobre el problema propuesto.**\n",
    "\n",
    "---\n",
    "\n",
    "### Sobre el informe\n",
    "\n",
    "Para este trabajo deberán entregar, además del código de las pruebas y experimentos que realicen, un informe en el que deberan seleccionar, para cada apartado, sus resultados acompañado de un texto que explique, reflexione, justifique y conluya dicho contenido. \n",
    "\n",
    "Cada ejercicio indica el largo máximo del texto que se puede incluir. Los gráficos no están contados en dicho espacio. \n",
    "Cada gráfico incluido debe contar con:\n",
    "  \n",
    "  - nombres de los ejes,\n",
    "  - título,\n",
    "  - leyenda autocontenida,\n",
    "  - debe ser referenciado desde el texto, ya que su inclusión se da porque aporta a la discusión del trabajo.\n",
    "\n",
    "---"
   ]
  },
  {
   "cell_type": "markdown",
   "metadata": {},
   "source": [
    "## Ejercicio 1 \n",
    "\n",
    "### Separación de datos (máximo 2 carillas del informe)\n",
    "\n",
    "Contarán con una cantidad limitada de datos, por lo cual es importante tomar una buena decisión en el momento de empezar a utilizarlos. \n",
    "\n",
    "Evaluar y justificar cómo separarán sus datos para desarrollo y para evaluación. \n",
    "\n",
    "**Importante**: en este punto no está permitido dividir la base de datos utilizando la función `train_test_split` de sklearn. Deben decidir e implementar la separación."
   ]
  },
  {
   "cell_type": "markdown",
   "metadata": {},
   "source": [
    "Primero cargamos los datos:"
   ]
  },
  {
   "cell_type": "code",
   "execution_count": null,
   "metadata": {},
   "outputs": [],
   "source": [
    "df = pd.read_csv(\"data.csv\")"
   ]
  },
  {
   "cell_type": "markdown",
   "metadata": {},
   "source": [
    "Veamos la proporción de datos que tienen target = 1 y de los que tienen target = 0."
   ]
  },
  {
   "cell_type": "code",
   "execution_count": null,
   "metadata": {},
   "outputs": [],
   "source": [
    "df[\"target\"].value_counts(normalize=True)"
   ]
  },
  {
   "cell_type": "markdown",
   "metadata": {},
   "source": [
    "Elegimos separar los datos con la idea de stratified, es decir, separar los datos pero asegurarnos de que las clases queden balanceadas. Elegimos separar el 85% de los datos para desarrollo (425 datos) y el 15% de los datos (75 datos) para evaluación."
   ]
  },
  {
   "cell_type": "code",
   "execution_count": null,
   "metadata": {},
   "outputs": [],
   "source": [
    "type(round(df[\"target\"].value_counts()[0]*0.85))"
   ]
  },
  {
   "cell_type": "markdown",
   "metadata": {},
   "source": [
    "Implementamos una función que nos separe según lo que queremos:"
   ]
  },
  {
   "cell_type": "code",
   "execution_count": null,
   "metadata": {},
   "outputs": [],
   "source": [
    "def stratified_split(df,prop=0.85):\n",
    "    cant_0 = df[\"target\"].value_counts()[0]\n",
    "    cant_1 = df[\"target\"].value_counts()[1]\n",
    "    df_0_indices = df[df[\"target\"]==0].index.to_list() #me quedo con los indices de los que tienen target = 0\n",
    "    df_1_indices = df[df[\"target\"]==1].index.to_list() #me quedo con los indices de los que tienen target = 1\n",
    "\n",
    "    random.seed(4)\n",
    "    prop_df_0 = random.sample(df_0_indices,round(cant_0*prop)) #292\n",
    "    menos_prop_df_0 = [idx for idx in df_0_indices if idx not in prop_df_0] #51\n",
    "    prop_df_1 = random.sample(df_1_indices,round(cant_1*prop)) #133\n",
    "    menos_prop_df_1 = [idx for idx in df_1_indices if idx not in prop_df_1] #24\n",
    "\n",
    "    desarrollo_indices = prop_df_0+prop_df_1\n",
    "    evaluacion_indices = menos_prop_df_0+menos_prop_df_1\n",
    "\n",
    "    desarrollo = df.loc[desarrollo_indices]\n",
    "    evaluacion = df.loc[evaluacion_indices]\n",
    "    return desarrollo,evaluacion\n"
   ]
  },
  {
   "cell_type": "markdown",
   "metadata": {},
   "source": [
    "Corremos la función:"
   ]
  },
  {
   "cell_type": "code",
   "execution_count": null,
   "metadata": {},
   "outputs": [],
   "source": [
    "dev, eval = stratified_split(df)"
   ]
  },
  {
   "cell_type": "markdown",
   "metadata": {},
   "source": [
    "Veamos la cantidad de datos que quedó en cada uno de los datasets, el de desarrollo y el de evaluación:"
   ]
  },
  {
   "cell_type": "code",
   "execution_count": null,
   "metadata": {},
   "outputs": [],
   "source": [
    "print(len(dev))\n",
    "print(len(eval))"
   ]
  },
  {
   "cell_type": "markdown",
   "metadata": {},
   "source": [
    "Ahora veamos que se respeta la proporción original en cada uno de los datasets:"
   ]
  },
  {
   "cell_type": "code",
   "execution_count": null,
   "metadata": {},
   "outputs": [],
   "source": [
    "print(\"Proporción de datos del dataset de desarrollo: \\n\",dev[\"target\"].value_counts(normalize=True))\n",
    "print(\"Proporción de datos del dataset de evaluación: \\n\",eval[\"target\"].value_counts(normalize=True))"
   ]
  },
  {
   "cell_type": "markdown",
   "metadata": {},
   "source": [
    "Guardamos los datos de desarrollo y evaluación en un nuevo archivo."
   ]
  },
  {
   "cell_type": "code",
   "execution_count": null,
   "metadata": {},
   "outputs": [],
   "source": [
    "eval.to_csv(\"evaluacion.csv\",index=False)"
   ]
  },
  {
   "cell_type": "code",
   "execution_count": null,
   "metadata": {},
   "outputs": [],
   "source": [
    "dev.to_csv(\"desarrollo.csv\",index=False)"
   ]
  },
  {
   "cell_type": "markdown",
   "metadata": {},
   "source": [
    "## Ejercicio 2\n",
    "\n",
    "\n",
    "### Construcción de modelos (máximo 2 carillas del informe)\n",
    "\n",
    "Para este punto, la tarea consiste en construir y evaluar modelos de tipo **árbol de decisión**. Además, obtener una **estimación realista de la performance** de los mismos.\n",
    "\n",
    "1. Entrenar un árbol de decisión con altura máxima 3 y el resto de los hiperparámetros en default.\n",
    "\n",
    "1. Estimar la performance del modelo utilizando _K-fold cross validation_ con `K=5`, con las métricas _Accuracy_, _Area Under the Precision-Recall Curve (AUPRC)_., _Area Under the Receiver Operating Characteristic Curve (AUCROC)_. \n",
    "\n",
    "   En esta oportunidad se va a pedir además de calcular las métricas para cada fold por separado y su promedio, que hagan el cálculo del score global (como vimos en clase), sólo para los folds de validación.\n",
    "   \n",
    "   Reportar el resultado en una tabla similar a:\n",
    "\n",
    "      <table>\n",
    "      <thead>\n",
    "      <tr>\n",
    "      <th align=\"center\">Permutación</th>\n",
    "      <th>Accuracy (training)</th>\n",
    "      <th>Accuracy (validación)</th>\n",
    "      <th>AUPRC (training)</th>\n",
    "      <th>AUPRC (validación)</th>\n",
    "      <th>AUC ROC (training)</th>\n",
    "      <th>AUC ROC (validación)</th>\n",
    "      </tr>\n",
    "      </thead>\n",
    "      <tbody>\n",
    "      <tr>\n",
    "      <td align=\"center\">1</td>\n",
    "      <td></td>\n",
    "      <td></td>\n",
    "      <td></td>\n",
    "      <td></td>\n",
    "      <td></td>\n",
    "      <td></td>\n",
    "      </tr>\n",
    "      <tr>\n",
    "      <td align=\"center\">2</td>\n",
    "      <td></td>\n",
    "      <td></td>\n",
    "      <td></td>\n",
    "      <td></td>\n",
    "      <td></td>\n",
    "      <td></td>\n",
    "      </tr>\n",
    "      <tr>\n",
    "      <td align=\"center\">3</td>\n",
    "      <td></td>\n",
    "      <td></td>\n",
    "      <td></td>\n",
    "      <td></td>\n",
    "      <td></td>\n",
    "      <td></td>\n",
    "      </tr>\n",
    "      <tr>\n",
    "      <td align=\"center\">4</td>\n",
    "      <td></td>\n",
    "      <td></td>\n",
    "      <td></td>\n",
    "      <td></td>\n",
    "      <td></td>\n",
    "      <td></td>\n",
    "      </tr>\n",
    "      <tr>\n",
    "      <td align=\"center\">5</td>\n",
    "      <td></td>\n",
    "      <td></td>\n",
    "      <td></td>\n",
    "      <td></td>\n",
    "      <td></td>\n",
    "      <td></td>\n",
    "      </tr>\n",
    "      <tr>\n",
    "      <td align=\"center\">Promedios</td>\n",
    "      <td></td>\n",
    "      <td></td>\n",
    "      <td></td>\n",
    "      <td></td>\n",
    "      <td></td>\n",
    "      <td></td>\n",
    "      </tr>\n",
    "      <td align=\"center\">Global</td>\n",
    "      <td>(NO) </td>\n",
    "      <td></td>\n",
    "      <td>(NO) </td>\n",
    "      <td></td>\n",
    "      <td>(NO) </td>\n",
    "      <td></td>\n",
    "      </tr>\n",
    "      </tbody>\n",
    "      </table>    \n",
    "  \n",
    "   **Importante**: de acá en más sólamente utilizaremos el score promedio cuando hagamos _K-fold cross-validation_.\n",
    " \n",
    "1. Explorar las siguientes combinaciones de parámetros para  árboles de decisión (siguiendo con $k-fold$ con $k=5$) utilizando [ParameterGrid](https://scikit-learn.org/stable/modules/generated/sklearn.model_selection.ParameterGrid.html) de _scikit learn_. No está permitido utilizar `GridSearchCV` en este ejercicio.\n",
    "\n",
    "   <table>\n",
    "   <thead>\n",
    "   <tr>\n",
    "   <th align=\"center\">Altura máxima</th>\n",
    "   <th align=\"center\">Criterio de corte</th>\n",
    "   <th>Accuracy (training)</th>\n",
    "   <th>Accuracy (validación)</th>\n",
    "   </tr>\n",
    "   </thead>\n",
    "   <tbody><tr>\n",
    "   <td align=\"center\">3</td>\n",
    "   <td align=\"center\">Gini</td>\n",
    "   <td></td>\n",
    "   <td></td>\n",
    "   </tr>\n",
    "   <tr>\n",
    "   <td align=\"center\">5</td>\n",
    "   <td align=\"center\">Gini</td>\n",
    "   <td></td>\n",
    "   <td></td>\n",
    "   </tr>\n",
    "   <tr>\n",
    "   <td align=\"center\">Infinito</td>\n",
    "   <td align=\"center\">Gini</td>\n",
    "   <td></td>\n",
    "   <td></td>\n",
    "   </tr>\n",
    "   <tr>\n",
    "   <td align=\"center\">3</td>\n",
    "   <td align=\"center\">Entropía</td>\n",
    "   <td></td>\n",
    "   <td></td>\n",
    "   </tr>\n",
    "   <tr>\n",
    "   <td align=\"center\">5</td>\n",
    "   <td align=\"center\">Entropía</td>\n",
    "   <td></td>\n",
    "   <td></td>\n",
    "   </tr>\n",
    "   <tr>\n",
    "   <td align=\"center\">Infinito</td>\n",
    "   <td align=\"center\">Entropía</td>\n",
    "   <td></td>\n",
    "   <td></td>\n",
    "   </tr>\n",
    "   </tbody></table>\n",
    "\n",
    "\n",
    "1. ¿Qué conclusiones se pueden sacar de estas tablas?  "
   ]
  },
  {
   "cell_type": "markdown",
   "metadata": {},
   "source": [
    "#### 1. Entrenar un árbol de decisión con altura máxima 3 y el resto de los hiperparámetros en default."
   ]
  },
  {
   "cell_type": "markdown",
   "metadata": {},
   "source": [
    "Separamos los datos de desarollo en train y test."
   ]
  },
  {
   "cell_type": "code",
   "execution_count": null,
   "metadata": {},
   "outputs": [],
   "source": [
    "data = pd.read_csv(\"desarrollo.csv\")"
   ]
  },
  {
   "cell_type": "code",
   "execution_count": null,
   "metadata": {},
   "outputs": [],
   "source": [
    "x_train, x_test, y_train, y_test = model_selection.train_test_split(\n",
    "                    data[data.columns.difference(['target'])],\n",
    "                    data['target'],\n",
    "                    random_state=4,\n",
    "                    test_size=0.1)"
   ]
  },
  {
   "cell_type": "code",
   "execution_count": null,
   "metadata": {},
   "outputs": [],
   "source": [
    "from sklearn.tree import DecisionTreeClassifier\n",
    "arbol = DecisionTreeClassifier(max_depth=3)"
   ]
  },
  {
   "cell_type": "code",
   "execution_count": null,
   "metadata": {},
   "outputs": [],
   "source": [
    "arbol.fit(x_train, y_train)"
   ]
  },
  {
   "cell_type": "code",
   "execution_count": null,
   "metadata": {},
   "outputs": [],
   "source": [
    "arbol.score(x_train, y_train)\n",
    "arbol.score(x_test, y_test)"
   ]
  },
  {
   "cell_type": "markdown",
   "metadata": {},
   "source": [
    "#### 2. Estimar la performance del modelo utilizando _K-fold cross validation_ con `K=5`, con las métricas _Accuracy_, _Area Under the Precision-Recall Curve (AUPRC)_., _Area Under the Receiver Operating Characteristic Curve (AUCROC)_. "
   ]
  },
  {
   "cell_type": "code",
   "execution_count": null,
   "metadata": {},
   "outputs": [],
   "source": [
    "from sklearn.model_selection import StratifiedKFold\n",
    "from sklearn.metrics import accuracy_score, auc, precision_recall_curve, roc_auc_score"
   ]
  },
  {
   "cell_type": "code",
   "execution_count": null,
   "metadata": {},
   "outputs": [],
   "source": [
    "def train_tree(X_tr: np.ndarray, y_tr: np.ndarray, tree_params={}) -> DecisionTreeClassifier:\n",
    "    arbol = DecisionTreeClassifier(**tree_params) #crea el arbol con ciertos hiperparametros que le pasas: la altura maxima \n",
    "    arbol.fit(X_tr, y_tr)\n",
    "\n",
    "    return arbol\n",
    "\n",
    "def tree_predict(ab: DecisionTreeClassifier, X_test: np.ndarray) -> np.ndarray:\n",
    "    predictions = ab.predict(X_test) #le pasas el arbol ya entrenado y te devuelve las predicciones del test\n",
    "    return predictions\n",
    "\n",
    "def metricas_seleccionadas(y_pred, y_real):\n",
    "    precision, recall, _ = precision_recall_curve(y_real,y_pred)\n",
    "    return accuracy_score(y_real, y_pred), auc(precision, recall), roc_auc_score(y_real, y_pred)"
   ]
  },
  {
   "cell_type": "code",
   "execution_count": null,
   "metadata": {},
   "outputs": [],
   "source": [
    "#juntar x_train y x_test\n",
    "x = pd.concat([x_train, x_test])\n",
    "y = pd.concat([y_train, y_test])"
   ]
  },
  {
   "cell_type": "code",
   "execution_count": null,
   "metadata": {},
   "outputs": [],
   "source": [
    "y_pred = np.empty(y.shape) #creamos las predicciones globales\n",
    "y_pred.fill(np.nan)\n",
    "accuracy_folds_train = np.array([])\n",
    "aupcr_folds_train = np.array([])\n",
    "aucroc_folds_train = np.array([])\n",
    "accuracy_folds_test = np.array([])\n",
    "aupcr_folds_test = np.array([])\n",
    "aucroc_folds_test = np.array([])\n",
    "\n",
    "skf = StratifiedKFold(n_splits=5, shuffle=True, random_state=4)\n",
    "\n",
    "for train_index, test_index in skf.split(x, y):\n",
    "    #en train_index estan los indices de los datos que estan en los 5 folds que pertenecen a training\n",
    "    #en test_index estan los indices de los datos que estan en el unico fold que es el test\n",
    "    \n",
    "    #saco el fold que no uso para entrenar\n",
    "    kf_X_train, kf_X_test = x.iloc[train_index], x.iloc[test_index]\n",
    "    kf_y_train, kf_y_test = y.iloc[train_index], y.iloc[test_index]\n",
    "\n",
    "    current_tree = train_tree(kf_X_train, kf_y_train,\n",
    "                                tree_params={\"max_depth\":3})\n",
    "    predictions_train = tree_predict(current_tree, kf_X_train)\n",
    "    predictions_test = tree_predict(current_tree, kf_X_test)\n",
    "    y_pred[test_index] = predictions_test #quedan algunos vacios (con NAs) en cada iteracion pero finalmente se llena todo\n",
    "    \n",
    "    accuracy_fold_train, aupcr_fold_train, aucroc_fold_train = metricas_seleccionadas(predictions_train, kf_y_train)\n",
    "    accuracy_fold_test, aupcr_fold_test, aucroc_fold_test = metricas_seleccionadas(predictions_test, kf_y_test)\n",
    "    \n",
    "    accuracy_folds_train = np.append(accuracy_folds_train, accuracy_fold_train)\n",
    "    accuracy_folds_test = np.append(accuracy_folds_test,accuracy_fold_test)\n",
    "    aupcr_folds_train = np.append(aupcr_folds_train, aupcr_fold_train)\n",
    "    aupcr_folds_test = np.append(aupcr_folds_test,aupcr_fold_test)\n",
    "    aucroc_folds_train = np.append(aucroc_folds_train, aucroc_fold_train) \n",
    "    aucroc_folds_test = np.append(aucroc_folds_test, aucroc_fold_test)\n",
    "\n",
    "accuracy_global, aupcr_global, aucroc_global = metricas_seleccionadas(y_pred, y) #mido que tan bien me fue con las predicciones"
   ]
  },
  {
   "cell_type": "code",
   "execution_count": null,
   "metadata": {},
   "outputs": [],
   "source": [
    "#crear un dataframe con las metricas\n",
    "df_metrics = pd.DataFrame({\n",
    "    \"fold\": np.arange(1,6),\n",
    "    \"accuracy_train\": accuracy_folds_train,\n",
    "    \"accuracy_test\": accuracy_folds_test,\n",
    "    \"aupcr_train\": aupcr_folds_train,\n",
    "    \"aupcr_test\": aupcr_folds_test,\n",
    "    \"aucroc_train\": aucroc_folds_train,\n",
    "    \"aucroc_test\": aucroc_folds_test\n",
    "})\n",
    "\n",
    "promedios = np.array([\"promedio\"])\n",
    "for column in df_metrics.columns[1:]:\n",
    "    promedio = df_metrics[column].mean()\n",
    "    promedios = np.append(promedios, round(promedio,6))\n",
    "\n",
    "\n",
    "df_metrics.loc[5] = promedios\n",
    "#agregar las metricas globales\n",
    "df_metrics.loc[6] = [\"global\", np.nan, accuracy_global, np.nan, aupcr_global, np.nan, aucroc_global]"
   ]
  },
  {
   "cell_type": "code",
   "execution_count": null,
   "metadata": {},
   "outputs": [],
   "source": [
    "df_metrics"
   ]
  },
  {
   "cell_type": "markdown",
   "metadata": {},
   "source": [
    "#### 3. Explorar las siguientes combinaciones de parámetros para  árboles de decisión (siguiendo con $k-fold$ con $k=5$) utilizando [ParameterGrid](https://scikit-learn.org/stable/modules/generated/sklearn.model_selection.ParameterGrid.html) de _scikit learn_. No está permitido utilizar `GridSearchCV` en este ejercicio."
   ]
  },
  {
   "cell_type": "code",
   "execution_count": null,
   "metadata": {},
   "outputs": [],
   "source": [
    "def grid_search(params):\n",
    "    y_pred = np.empty(y.shape) #creamos las predicciones globales\n",
    "    y_pred.fill(np.nan)\n",
    "    accuracy_folds_train = np.array([])\n",
    "    accuracy_folds_test = np.array([])\n",
    "    \n",
    "    skf = StratifiedKFold(n_splits=5, shuffle=True, random_state=4)\n",
    "\n",
    "    for train_index, test_index in skf.split(x, y):\n",
    "        #en train_index estan los indices de los datos que estan en los 5 folds que pertenecen a training\n",
    "        #en test_index estan los indices de los datos que estan en el unico fold que es el test\n",
    "        \n",
    "        #saco el fold que no uso para entrenar\n",
    "        kf_X_train, kf_X_test = x.iloc[train_index], x.iloc[test_index]\n",
    "        kf_y_train, kf_y_test = y.iloc[train_index], y.iloc[test_index]\n",
    "\n",
    "        current_tree = train_tree(kf_X_train, kf_y_train,\n",
    "                                    tree_params=params)\n",
    "        predictions_train = tree_predict(current_tree, kf_X_train)\n",
    "        predictions_test = tree_predict(current_tree, kf_X_test)\n",
    "        y_pred[test_index] = predictions_test #quedan algunos vacios (con NAs) en cada iteracion pero finalmente se llena todo\n",
    "        \n",
    "        accuracy_fold_train = accuracy_score(kf_y_train, predictions_train)\n",
    "        accuracy_fold_test = accuracy_score(kf_y_test, predictions_test)\n",
    "        \n",
    "        accuracy_folds_train = np.append(accuracy_folds_train, accuracy_fold_train)\n",
    "        accuracy_folds_test = np.append(accuracy_folds_test,accuracy_fold_test)\n",
    "    return np.mean(accuracy_folds_train), np.mean(accuracy_folds_test)"
   ]
  },
  {
   "cell_type": "code",
   "execution_count": null,
   "metadata": {},
   "outputs": [],
   "source": [
    "from sklearn.model_selection import ParameterGrid\n",
    "\n",
    "profundidades = [3,5,None]\n",
    "metricas = [\"gini\", \"entropy\"]\n",
    "\n",
    "def crear_grilla(profundidades, metricas):\n",
    "    parametros = {\n",
    "        'max_depth': profundidades,\n",
    "        'criterion': metricas\n",
    "    }\n",
    "    grilla = list(ParameterGrid(parametros))\n",
    "    return grilla\n",
    "\n",
    "grilla_parametros = crear_grilla(profundidades, metricas)\n",
    "\n",
    "\n",
    "# Crear un DataFrame para almacenar los resultados\n",
    "resultados = pd.DataFrame(columns=['Altura máxima', 'Criterio de corte', 'Accuracy (training)', 'Accuracy (validación)'])\n",
    "i = 1\n",
    "for params in grilla_parametros:\n",
    "    max_depth = params['max_depth']\n",
    "    criterion = params['criterion']\n",
    "    accuracy_train, accuracy_val = grid_search(params)\n",
    "    resultados.loc[i, 'Altura máxima'] = str(max_depth) if max_depth is not None else 'Infinito'\n",
    "    resultados.loc[i, 'Criterio de corte'] = criterion.capitalize()\n",
    "    resultados.loc[i, 'Accuracy (training)'] = accuracy_train\n",
    "    resultados.loc[i, 'Accuracy (validación)'] = accuracy_val\n",
    "    i = i + 1"
   ]
  },
  {
   "cell_type": "code",
   "execution_count": null,
   "metadata": {},
   "outputs": [],
   "source": [
    "resultados"
   ]
  },
  {
   "cell_type": "markdown",
   "metadata": {},
   "source": [
    "#### 4. ¿Qué conclusiones se pueden sacar de estas tablas? "
   ]
  },
  {
   "cell_type": "markdown",
   "metadata": {},
   "source": [
    "Observaciones de la primera tabla:\n",
    "Primero, es importante decir que para las tres métricas siempre dió mejor en el set de training que en el de test. Esto se debe a que al modelo le resulta más fácil predecir datos que usó para entrenarse.\n",
    "* El accuracy global y el promedio dieron iguales.\n",
    "* El auroc y el aupcr globales y promedios también dieron muy similares, pero con una leve mejora en el global.\n",
    "* El aupcr para training para todos los folds dió siempre debajo de 0.35, es decir, muy mal. Lo mismo para aupcr test, dieron todos muy cercanos a 0.46. Esto nos da el indicio de que en general no logramos que tanto precision como recall sean altos al mismo tiempo, pero como estamos en el caso particular de clasificar tumores malignos de benignos, nos interesa especialmente minimizar los falsos positivos (clasificar como benigno cuando en realidad era maligno), es decir maximizar precision. Sería conveniente ver los gráficos.\n",
    "* El auroc para training dió muy parecido para todos los folds, al rededor de 0.78. Sin embargo, para test podemos ver que hay bastante variabilidad, el mayor tiene 0.711367 y el menor 0.543677. Vemos que nos dió mucho mejor que la aupcr. Como tenemos un dataset desbalanceado, el auroc es mejor métrica al momento de elegir un modelo.\n",
    "\n",
    "Precision: de las instancias predichas como positivas, ¿qué porcentaje eran positivas?: TP/(TP+FP)\n",
    "Recall: De las instancias positivas, ¿qué porcentaje fueron predichas como tal?: TP/(TP+FN)\n",
    "\n",
    "Observaciones de la segunda tabla:\n",
    "* Podemos ver que en la segunda tabla, cuando hacemos altura = 3 y criterio de corte = 'gini' los valores son de accuracy son iguales que accuracy promedio en la primera tabla (tanto para training como para evaluación), lo cual tiene sentido porque usamos la misma semilla y entonces los folds son los mismos. Además, porque en la primera tabla entrenamos un árbol de altura máxima = 3 y el paramétro por default de criterio es 'gini'.\n",
    "* Vemos que a medida que aumentamos la altura máxima de los árboles, aumenta el accuracy en el set de training para ambos criterios. Esto se debe a que mientras mayor altura, más se ajusta el modelo a los datos training.\n",
    "* Se puede observar que el accuracy de validación dió muy parecido para los distintos modelos, a diferencia del de training. Sin embargo, vemos que a diferencia del accuracy de training, no aumenta a medida que aumentamos la altura máxima del árbol. Esto se puede deber a que aumentar la altura del árbol no me ayuda a explicar la relación entre las instancias y la etiqueta, sino que lo que está pasando es que se está ajustando a los datos observados."
   ]
  },
  {
   "cell_type": "markdown",
   "metadata": {},
   "source": [
    "## Ejercicio 3\n",
    "\n",
    "### Comparación de algoritmos \n",
    "\n",
    "Se pide explorar distintas combinaciones de algoritmos de aprendizaje con diferentes configuraciones con el objetivo de encontrar el mejor modelo de cada familia de buscar la performance óptima. Para este ejercicio realizar una experimentación utilizando [`RandomizedSearchCV`](https://scikit-learn.org/stable/modules/generated/sklearn.model_selection.RandomizedSearchCV.html). Como métrica de performance usar AUCROC resultante de 5-fold cross-validation. \n",
    "\n",
    "Algoritmos a probar: \n",
    "  - Árboles de decisión\n",
    "  - KNN (k-vecinos más cercanos)\n",
    "  - SVM (Support vector machine)\n",
    "  - LDA (Linear discriminant analysis)\n",
    "  - Naïve Bayes\n",
    "  \n",
    "_Hiperparámetros_: Revisar la documentación de cada uno para la búsqueda de combinaciones prometedoras. \n",
    "\n",
    "Documentación extra sobre [`Tuning hyper-parameters`](https://scikit-learn.org/stable/modules/grid_search.html), leer hasta 3.2.2.\n",
    "\n",
    "Para este ejercicio se pide generar un reporte que contenga: \n",
    "\n",
    "1. Una descripción de las distintas combinaciones consideradas y su performance asociada (las que consideren relevantes, con al menos la mejor combinación para cada algoritmo). \n",
    "\n",
    "1. Una breve explicación de los factores que creen que produjeron dicho resultado. \n",
    "\n",
    "Para cada método pueden incluir hasta media carilla de texto y los gráficos que considere relevantes."
   ]
  },
  {
   "cell_type": "code",
   "execution_count": 43,
   "metadata": {},
   "outputs": [],
   "source": [
    "from sklearn.model_selection import RandomizedSearchCV\n",
    "from sklearn.neighbors import KNeighborsClassifier\n",
    "from sklearn import svm\n",
    "from sklearn.discriminant_analysis import LinearDiscriminantAnalysis\n",
    "from sklearn.naive_bayes import GaussianNB\n",
    "from scipy.stats import uniform, randint"
   ]
  },
  {
   "cell_type": "code",
   "execution_count": 64,
   "metadata": {},
   "outputs": [],
   "source": [
    "#arbol\n",
    "arbol = DecisionTreeClassifier()\n",
    "dic_arbol = {\n",
    "    'max_depth': randint(1, 10 + 1), #equivale a una uniforme pero para enteros\n",
    "    'criterion': ['gini', 'entropy']\n",
    "}\n",
    "\n",
    "#knn\n",
    "knn_classifier = KNeighborsClassifier()\n",
    "\n",
    "\n",
    "#svm\n",
    "svm_classifier = svm.SVC()\n",
    "dic_svm\n",
    "#lda\n",
    "lda_classifier = LinearDiscriminantAnalysis()\n",
    "#naive bayes\n",
    "naive_bayes_classifier = GaussianNB()"
   ]
  },
  {
   "cell_type": "code",
   "execution_count": 65,
   "metadata": {},
   "outputs": [
    {
     "data": {
      "text/plain": [
       "2"
      ]
     },
     "execution_count": 65,
     "metadata": {},
     "output_type": "execute_result"
    }
   ],
   "source": [
    "uniform(loc = 1, scale = 10)\n",
    "\n",
    "np.random.randint(1, 10 + 1)"
   ]
  },
  {
   "cell_type": "code",
   "execution_count": 66,
   "metadata": {},
   "outputs": [],
   "source": [
    "def m(modelo, parametros,x,y):\n",
    "    random_search = RandomizedSearchCV(estimator=modelo, param_distributions=parametros, n_iter=10,\n",
    "                                    scoring='roc_auc', cv=StratifiedKFold(n_splits=5, shuffle=True, random_state=42), \n",
    "                                    verbose=2, random_state=42, n_jobs=-1)\n",
    "    return random_search.fit(x, y)"
   ]
  },
  {
   "cell_type": "markdown",
   "metadata": {},
   "source": [
    "Árbol:"
   ]
  },
  {
   "cell_type": "code",
   "execution_count": 71,
   "metadata": {},
   "outputs": [
    {
     "name": "stdout",
     "output_type": "stream",
     "text": [
      "Fitting 5 folds for each of 10 candidates, totalling 50 fits\n",
      "\n",
      "Mejores Parámetros:\n",
      "{'criterion': 'gini', 'max_depth': 2}\n"
     ]
    }
   ],
   "source": [
    "modelos = [arbol, knn_classifier, svm_classifier, lda_classifier, naive_bayes_classifier]\n",
    "dic = [dic_arbol, dic_knn, dic_svm, dic_lda, dic_naive_bayes]\n",
    "for modelo in modelos:\n",
    "    random = m(modelo, dic_arbol,x,y)\n",
    "    print(\"\\nMejores Parámetros:\")\n",
    "    print(random.best_params_)"
   ]
  },
  {
   "cell_type": "markdown",
   "metadata": {},
   "source": [
    "## Ejercicio 4: \n",
    "### Diagnóstico Sesgo-Varianza.\n",
    "\n",
    "<span style=\"color: red;\">(no realizar hasta la clase _Sesgo y Varianza_)</span>\n",
    "\n",
    "En este punto, se pide inspeccionar **tres** de sus mejores modelos encontrados hasta ahora de cada familia de modelos: la mejor configuración para el árbol de decisión, la mejor configuración para LDA y la mejor configuración para SVM. Para ello:\n",
    "\n",
    "1. Graficar curvas de complejidad para cada modelo (excepto para LDA), variando la profundidad en el caso de árboles, y el hiperparámetro C en el caso de SVM. Diagnosticar cómo afectan al sesgo y a la varianza esos dos hiperparámetros.\n",
    "2. Graficar curvas de aprendizaje para cada modelo. En base a estas curvas, sacar conclusiones sobre si los algoritmos parecen haber alcanzado su límite, o bien si aumentar la cantidad de datos debería ayudar.\n",
    "3. Construir un modelo **RandomForest** con 200 árboles. Explorar para qué sirve el hiperparámetro max_features y cómo afecta a la performance del algoritmo mediante una curva de complejidad. Explicar por qué creen que se dieron los resultados obtenidos. Por último, graficar una curva de aprendizaje sobre los parámetros elegidos para determinar si sería útil o no conseguir más datos.\n",
    "\n",
    "\n",
    "**Atención**: Tener en cuenta que debemos seguir utilizando AUC ROC como métrica para estas curvas.\n",
    "\n",
    "Para cada método pueden incluir hasta una carilla de texto y los gráficos que considere relevantes.\n"
   ]
  },
  {
   "cell_type": "markdown",
   "metadata": {},
   "source": [
    "## Ejercicio 5: \n",
    "### Evaluación de performance\n",
    "\n",
    "- La entrega del trabajo estará acompañada de una evaluación en la cual deberán poner a prueba su mejor modelo y sobre todo, su capacidad para estimar sus resultados. \n",
    "\n",
    "- Su tarea será estimar la performance (AUCROC) que tendrá su mejor modelo en datos de evaluación (X_held_out). \n",
    "\n",
    "- Para ello, deberán predecir las **probabilidades** de las distintas instancias con su modelo, enviarnos dichas probabilidades junto a una estimación con 4 decimales de cuál será el AUCROC resultante y calcularemos el resultado real. Consideraremos que el **mejor modelo será el que se encuentre más cerca del valor real que calcularemos luego de la entrega**.\n",
    "\n",
    "- Recomendamos no perder de vista esta evaluación/competencia durante el desarrollo del TP, sobretodo en el momento de separar los datos en los primeros puntos. \n",
    "\n",
    "- Para que podamos evaluar la performance, junto con la entrega del informe, deberán enviar un archivo con el numero de grupo con dos digitos en formato csv con la columna `output` y el valor obtenido con 4 decimales (se subirá un ejemplo cuando se publiquen los datos de la competencia) y un valor esperado de AUCROC: `GG_y_pred_held_out_AUCROC`. \n",
    "\n",
    "    - Ej.: el grupo tres cree que obtuvo un valor de 0.7321 de AUCROC deberá submitear un archivo llamado: `03_y_pred_held_out_7321.csv`.\n",
    "\n",
    "- Los datos podrán encontrarlos en este [link](https://github.com/aprendizaje-automatico-dc-uba-ar/material/tree/main/tp/01_aprendizaje_supervisado/datos).\n",
    "\n",
    "- Las decisiones de este punto pueden desarrollarse hasta en una carilla, aunque con media debería alcanzar.\n"
   ]
  },
  {
   "cell_type": "markdown",
   "metadata": {},
   "source": [
    "## Ejercicio 6: \n",
    "### Conclusiones\n",
    "\n",
    "Dar en a lo sumo 2 carillas una conclusión del trabajo realizado, incluyendo problemas encontrados y \n",
    "dimensiones no incluidas en el enunciado que hayan sido abordadas durante el desarrollo."
   ]
  },
  {
   "cell_type": "markdown",
   "metadata": {},
   "source": [
    "---\n",
    "## Entregables\n",
    "- Contarán con un esqueleto en formato Jupyter Notebook en donde podrán intercalar celdas para reportar y responder a los ítems de cada ejercicio. \n",
    "- Los entregrables serán\n",
    "    - Un informe en formato .pdf (**digital**) que responda a los ítems de este enunciado respetando la cantidad de espacio máximo por cada ítem. Nombrarlo siguiendo el formato `GG_Nombre_de_grupo`\n",
    "    - Adjuntar el notebook final en formatos .pdf e .ipynb. Es necesario que los resultados puedan reproducirse al ejecutar todas las celdas en orden (verificarlo haceindo: Kernel -> Restart and Run All). \n",
    "    - Las predicciones del *held out* del punto 5 en formato csv.\n",
    "- Habŕa una entrega intermedia obligatoria que deberán hacer antes del 25 de abril de 2024 a las 23:55hs. Para esta entrega deberán enviar el código que resuelve los primeros 3 ejercicios. \n",
    "- La **fecha** y **hora límite** de entrega está determinada en el campus de la materia.\n",
    "- El trabajo deberá elaborarse en grupos de hasta 4 personas (4 preferentemente).\n",
    "- Se podrán pedir pruebas de integridad y autoría; es decir, verificar que la salida solicitada es fruto del modelo presentado y que el modelo fue construido según lo requerido en este enunciado.\n",
    "- La evaluación será grupal y se basará en la calidad del informe (presentación, claridad, prolijidad); la originalidad, practicidad y coherencia técnica de la solución; la corrección y solidez de las pruebas realizadas.\n"
   ]
  },
  {
   "cell_type": "markdown",
   "metadata": {},
   "source": [
    "### Importante: sobre el uso de ChatGPT y grandes modelos de lenguaje\n",
    "\n",
    "En este trabajo no estará explícitamente prohibido pero si fuertemente desaconsejado, consideramos a este trabajo práctico una importante herramienta de aprendizaje donde el uso de GPT puede ser perjudicial. En caso de usarlo se pide aclararlo en el informe y especificar cómo y en donde se utilizó. Así como expresar su opinión sobre la respuesta generada por el modelo pudiendo estar a favor o en contra de lo propuesto por este. Pueden adjuntar el link a la conversación con el modelo."
   ]
  },
  {
   "cell_type": "markdown",
   "metadata": {},
   "source": [
    "**Nota**: Agradecemos a [Martín García Sola](https://ar.linkedin.com/in/martin-e-garcia-sola) por la asistencia biológica en la confección de este Trabajo Práctico."
   ]
  }
 ],
 "metadata": {
  "kernelspec": {
   "display_name": "Python 3 (ipykernel)",
   "language": "python",
   "name": "python3"
  },
  "language_info": {
   "codemirror_mode": {
    "name": "ipython",
    "version": 3
   },
   "file_extension": ".py",
   "mimetype": "text/x-python",
   "name": "python",
   "nbconvert_exporter": "python",
   "pygments_lexer": "ipython3",
   "version": "3.12.3"
  }
 },
 "nbformat": 4,
 "nbformat_minor": 4
}
