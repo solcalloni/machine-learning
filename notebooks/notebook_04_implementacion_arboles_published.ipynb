{
  "cells": [
    {
      "cell_type": "markdown",
      "metadata": {
        "id": "u0ppV8C7TS9h"
      },
      "source": [
        "[![Open In Colab](https://colab.research.google.com/assets/colab-badge.svg)](https://colab.research.google.com/github/aprendizaje-automatico-dc-uba-ar/material/blob/main/notebooks/notebook_04_implementacion_arboles-published.ipynb)\n",
        "\n",
        "## Árboles de decisión\n",
        "\n",
        "### Metiendonos debajo del capot\n",
        "\n",
        "En esta notebook exploraremos el funcionamiento de un árbol de decisión construido aquí mismo.\n",
        "\n",
        "Para eso contaremos con algunas partes de código resueltas y otras que se deberán completar.\n",
        "\n",
        "El objetivo será comprender la esencia de cómo se comportan los árboles a medida que le vamos agregando funcionalidad (o introduciendo _bugs_) para entender mejor su funcionamiento."
      ]
    },
    {
      "cell_type": "code",
      "execution_count": 1,
      "metadata": {
        "id": "E1TyERvLTS9o"
      },
      "outputs": [],
      "source": [
        "# Puede ser necesario instalar graphviz\n",
        "#!pip install graphviz"
      ]
    },
    {
      "cell_type": "code",
      "execution_count": 2,
      "metadata": {
        "id": "t7cRrlkDTS9q"
      },
      "outputs": [],
      "source": [
        "# Cargamos bibliotecas necesarias\n",
        "import numpy as np\n",
        "import pandas as pd\n",
        "\n",
        "from collections import Counter\n",
        "import operator # Trae los operadores de Python como funciones y no infix\n",
        "from IPython.display import Image, display\n",
        "\n",
        "from graphviz import Digraph\n",
        "import pydotplus"
      ]
    },
    {
      "cell_type": "markdown",
      "metadata": {
        "id": "OUcXDqZiTS9q"
      },
      "source": [
        "A lo largo de este NoteBook usaremos objetos de distintos tipos de datos. Por simplicidad diremos que en todos los casos usaremos asumiremos que los parámetros pasados para cada función serán de los siguientes tipos:\n",
        "\n",
        "   - el parámetro `instancias` será un `DataFrame` de `pandas`\n",
        "   - el parámetro `etiquetas` será un `array` de `numpy` con valores `'Si'`, `'No'` (mismo para `etiquetas_rama_izquierda` y `etiquetas_rama_derecha`)\n",
        "   - el parámetro `pregunta` será un objeto de la clase `Decision` que es definida en este mismo archivo\n",
        "\n",
        "\n",
        "La clase Árbol la definiremos a continuación. Consta de:\n",
        "\n",
        "   - un constructor\n",
        "   - el método `fit` para entrenarlo (a modo de sklearn)\n",
        "   - el método `predict` para dada una instancia predecir su etiqueta\n",
        "   - el método `score` no se encuentra implementada aún\n",
        "   - métodos para visualizar y explorar el árbol\n",
        "\n"
      ]
    },
    {
      "cell_type": "code",
      "execution_count": 3,
      "metadata": {
        "id": "pPFiJqxRTS9r"
      },
      "outputs": [],
      "source": [
        "# Definición de la clase árbol\n",
        "from typing import Optional, Tuple\n",
        "\n",
        "\n",
        "class Tree:\n",
        "    def __init__(\n",
        "        self,\n",
        "        decision=None,  # Esto va a tener tipo Decision, una clase que vamos a definir más adelante\n",
        "        left: Optional[\"Tree\"] = None,\n",
        "        right: Optional[\"Tree\"] = None,\n",
        "        labels: Optional[np.ndarray] = None,\n",
        "    ):\n",
        "        self.decision = decision\n",
        "        self.left = left\n",
        "        self.right = right\n",
        "\n",
        "        self.data = Counter(labels) if labels is not None else None\n",
        "\n",
        "    def fit(self, instancias: pd.DataFrame, etiquetas: np.ndarray):\n",
        "        # ALGORITMO RECURSIVO para construcción de un árbol de decisión binario.\n",
        "\n",
        "        # Suponemos que estamos parados en la raiz del árbol y tenemos que decidir cómo construirlo.\n",
        "        gain, decision = encontrar_mejor_atributo_y_corte(instancias, etiquetas)\n",
        "\n",
        "        # Criterio de corte: ¿Hay ganancia?\n",
        "        if gain <= 0:\n",
        "            #  Si no hay ganancia en separar, no separamos.\n",
        "            self.data = Counter(etiquetas)\n",
        "        else:\n",
        "            # Si hay ganancia en partir el conjunto en 2\n",
        "            (\n",
        "                instancias_cumplen,\n",
        "                etiquetas_cumplen,\n",
        "                instancias_no_cumplen,\n",
        "                etiquetas_no_cumplen,\n",
        "            ) = partir_segun(decision, instancias, etiquetas)\n",
        "            # partir devuelve instancias y etiquetas que caen en cada rama (izquierda y derecha)\n",
        "\n",
        "            # Paso recursivo (consultar con el computadorX más cercano)\n",
        "            sub_arbol_izquierdo = Tree()\n",
        "            sub_arbol_izquierdo.fit(instancias_cumplen, etiquetas_cumplen)\n",
        "            sub_arbol_derecho = Tree()\n",
        "            sub_arbol_derecho.fit(instancias_no_cumplen, etiquetas_no_cumplen)\n",
        "            # los pasos anteriores crean todo lo que necesitemos de sub-árbol izquierdo y sub-árbol derecho\n",
        "\n",
        "            self.decision = decision\n",
        "            self.left = sub_arbol_izquierdo\n",
        "            self.right = sub_arbol_derecho\n",
        "            self.data = Counter(etiquetas)\n",
        "\n",
        "    def predict(self, x_t: pd.Series) -> str:\n",
        "        if self.decision is None:\n",
        "            if self.data[\"Si\"] > self.data[\"No\"]:\n",
        "                return \"Si\"\n",
        "            else:\n",
        "                return \"No\"\n",
        "        else:\n",
        "            if self.decision.test(x_t):\n",
        "                return self.left.predict(x_t)\n",
        "            else:\n",
        "                return self.right.predict(x_t)\n",
        "\n",
        "    def score(self, X_test: pd.DataFrame, y_test: np.ndarray) -> float:\n",
        "        # COMPLETAR\n",
        "        pass\n",
        "\n",
        "    def __repr__(self) -> str:\n",
        "        return self._imprimir_arbol()\n",
        "\n",
        "    def _imprimir_arbol(self, spacing: str = \"\") -> str:\n",
        "        res = []\n",
        "        if self.decision is None:\n",
        "            res.append(spacing + f\"Hoja: {dict(self.data)}\")\n",
        "        else:\n",
        "            res.append(spacing + f\"{str(self.decision)} - {dict(self.data)}\")\n",
        "\n",
        "        if self.left is not None:\n",
        "            res.append(spacing + \"--> True:\")\n",
        "            res.append(self.left._imprimir_arbol(spacing + \"  \"))\n",
        "\n",
        "        if self.right is not None:\n",
        "            res.append(spacing + \"--> False:\")\n",
        "            res.append(self.right._imprimir_arbol(spacing + \"  \"))\n",
        "\n",
        "        return \"\\n\".join(res)\n",
        "\n",
        "    def render(self) -> Digraph:\n",
        "        dot = Digraph()\n",
        "\n",
        "        self.dot_tree_aux(self, dot, prefix=\"\")\n",
        "\n",
        "        return dot\n",
        "\n",
        "    def dot_tree_aux(self, subtree: \"Tree\", dot: Digraph, prefix: str):\n",
        "        label = [\n",
        "            (\n",
        "                f\"{subtree.decision.feature}: {subtree.decision.value}\"\n",
        "                if subtree.decision is not None\n",
        "                else \"\"\n",
        "            ),\n",
        "            f\"n={sum(subtree.data.values())}\",\n",
        "            str(dict(subtree.data)),\n",
        "        ]\n",
        "        label = \"\\n\".join(label)\n",
        "        col = \"#029E3980\" if subtree.data.most_common(1)[0][0] == \"Si\" else \"#EA080080\"\n",
        "        dot.node(prefix + \"n\", label=label, shape=\"box\", fillcolor=col, style=\"filled\")\n",
        "\n",
        "        if subtree.left:\n",
        "            self.dot_tree_aux(subtree.left, dot, prefix + \"l\")\n",
        "            dot.edge(prefix + \"n\", prefix + \"ln\", label=\"True\")\n",
        "\n",
        "        if subtree.right:\n",
        "            self.dot_tree_aux(subtree.right, dot, prefix + \"r\")\n",
        "            dot.edge(prefix + \"n\", prefix + \"rn\", label=\"False\")"
      ]
    },
    {
      "cell_type": "markdown",
      "metadata": {
        "id": "JfDyy32hTS9t"
      },
      "source": [
        "Para las decisiones en cada nodo tendremos la siguiente clase. Actualmente funciona comparando por igualdad, pero podría ser extendida en el futuro."
      ]
    },
    {
      "cell_type": "code",
      "execution_count": 4,
      "metadata": {
        "id": "vuG8PnzXTS9u"
      },
      "outputs": [],
      "source": [
        "from typing import Any\n",
        "\n",
        "class Decision:\n",
        "    def __init__(self, feature: str, value: Any, test_function=operator.eq): #constructor\n",
        "        self.feature = feature #atributo del corte\n",
        "        self.value = value #valor del atributo del ccorte\n",
        "        self.test_function = test_function #testea si el nuevo tributo cumple con el corte\n",
        "\n",
        "    def test(self, x: pd.Series) -> bool:\n",
        "        # Devuelve verdadero si la instancia cumple con la pregunta\n",
        "        return self.test_function(self.value, x[self.feature])\n",
        "\n",
        "    def __repr__(self):\n",
        "        return \"¿Es el valor para {} igual a {}?\".format(self.feature, self.value)"
      ]
    },
    {
      "cell_type": "markdown",
      "metadata": {
        "id": "f-0pdm65TS9w"
      },
      "source": [
        "## Funciones a completar\n",
        "\n",
        "Primero definir la función `gini`, que dado unas etiquetas dan el grado de impureza (ver definición en la teórica), se espera que devuelva un `float`."
      ]
    },
    {
      "cell_type": "code",
      "execution_count": 5,
      "metadata": {
        "id": "DPXDWztiTS9x"
      },
      "outputs": [],
      "source": [
        "def gini(etiquetas: np.ndarray) -> float: #etiquetas es un array con valores si/no\n",
        "    impureza = 0\n",
        "    cant_etiquetas_distintas = Counter(etiquetas)\n",
        "    for etiqueta in set(etiquetas):\n",
        "        proporcion = cant_etiquetas_distintas[etiqueta] / len(etiquetas)\n",
        "        impureza += proporcion**2\n",
        "\n",
        "    impureza = 1 - impureza\n",
        "\n",
        "    return impureza"
      ]
    },
    {
      "cell_type": "markdown",
      "metadata": {
        "id": "5caXOuNzTS9z"
      },
      "source": [
        "Definir la función `ganancia_gini` que dadas ciertas instancias y una posible separación entre dos ramas nos de la mejora que obtendremos al separar de esta manera. Devuelve un `float`."
      ]
    },
    {
      "cell_type": "code",
      "execution_count": 6,
      "metadata": {
        "id": "ZBmYdz8GTS90"
      },
      "outputs": [],
      "source": [
        "def ganancia_gini(etiquetas_rama_izquierda: np.ndarray, etiquetas_rama_derecha: np.ndarray) -> float:\n",
        "    etiquetas = np.concatenate([etiquetas_rama_izquierda, etiquetas_rama_derecha])\n",
        "    gini_total = gini(etiquetas)\n",
        "\n",
        "    prop_izquierda = len(etiquetas_rama_izquierda) / len(etiquetas)\n",
        "    prop_derecha = len(etiquetas_rama_derecha) / len(etiquetas)\n",
        "\n",
        "    ganancia_gini = gini_total - ( prop_izquierda * gini(etiquetas_rama_izquierda) + prop_derecha * gini(etiquetas_rama_derecha) )\n",
        "    return ganancia_gini"
      ]
    },
    {
      "cell_type": "markdown",
      "metadata": {
        "id": "nw10ueCxTS91"
      },
      "source": [
        "Definir `partir_segun` que debe separar instancias y etiquetas según si cada instancia cumple o no con condición (ver método `test` de la clase `Decision`).\n",
        "\n",
        "Para este punto se recomienda la utilizacion de máscaras de pandas (ver Notebook 01 - Herramientas).\n",
        "\n",
        "Siguiendo con lo mencionado al inicio del NoteBook, la función debe devolver:\n",
        "\n",
        "   - 2 `DataFrame` de `pandas` con las instancias que cumplen (`instancias_cumplen`) y las que no `instancias_no_cumplen`\n",
        "   - 2 `array` de `numpy` con valores `'Si'`, `'No'`, uno con el valor de la etiqueta para las intancias que cumplen con la pregunta (`etiquetas_cumplen`) y otro con las etiquetas de las que no cumple (`etiquetas_no_cumplen`)\n"
      ]
    },
    {
      "cell_type": "code",
      "execution_count": 7,
      "metadata": {
        "id": "oJUdmuylTS91"
      },
      "outputs": [],
      "source": [
        "def partir_segun(\n",
        "    pregunta: Decision, #el corte\n",
        "    instancias: pd.DataFrame,\n",
        "    etiquetas: np.ndarray\n",
        ") -> Tuple[pd.DataFrame, np.ndarray, pd.DataFrame, np.ndarray]:\n",
        "    # Esta función debe separar instancias y etiquetas según si cada instancia cumple o no\n",
        "    (etiquetas_cumplen,\n",
        "        instancias_cumplen,\n",
        "        instancias_no_cumplen,\n",
        "        etiquetas_no_cumplen) = [], [], [], []\n",
        "\n",
        "    for i in range(0,len(instancias)):\n",
        "        if pregunta.test(instancias.iloc[i]):\n",
        "            instancias_cumplen.append(instancias.iloc[i])\n",
        "            etiquetas_cumplen.append(etiquetas[i])\n",
        "        else:\n",
        "            instancias_no_cumplen.append(instancias.iloc[i])\n",
        "            etiquetas_no_cumplen.append(etiquetas[i])\n",
        "\n",
        "    instancias_cumplen = pd.DataFrame(instancias_cumplen, columns=instancias.columns)\n",
        "    instancias_no_cumplen = pd.DataFrame(instancias_no_cumplen, columns=instancias.columns)\n",
        "\n",
        "    return instancias_cumplen, etiquetas_cumplen, instancias_no_cumplen, etiquetas_no_cumplen\n"
      ]
    },
    {
      "cell_type": "markdown",
      "metadata": {
        "id": "1vwyRLXTTS92"
      },
      "source": [
        "A continuación se propone una implementación para poder encontrar el mejor atributo y corte posible. Esta función devuelve un `float` y una `Decision` correspondientes al mejor atributo y corte."
      ]
    },
    {
      "cell_type": "code",
      "execution_count": 8,
      "metadata": {
        "id": "AqNE3O60TS92"
      },
      "outputs": [],
      "source": [
        "def encontrar_mejor_atributo_y_corte(\n",
        "    instancias: pd.DataFrame, etiquetas: np.ndarray\n",
        ") -> Tuple[float, Decision]:\n",
        "    # Implementación Gini Gain.\n",
        "    max_ganancia = 0\n",
        "    mejor_pregunta = None\n",
        "    for columna in instancias.columns:\n",
        "        for valor in set(instancias[columna]):\n",
        "            # Probando corte para atributo y valor\n",
        "            pregunta = Decision(columna, valor)\n",
        "            _, etiquetas_rama_izquierda, _, etiquetas_rama_derecha = partir_segun(\n",
        "                pregunta, instancias, etiquetas\n",
        "            )\n",
        "            if len(etiquetas_rama_izquierda) == 0 or len(etiquetas_rama_derecha) == 0:\n",
        "                continue\n",
        "\n",
        "            ganancia = ganancia_gini(etiquetas_rama_izquierda, etiquetas_rama_derecha)\n",
        "\n",
        "            if ganancia > max_ganancia:\n",
        "                max_ganancia = ganancia\n",
        "                mejor_pregunta = pregunta\n",
        "\n",
        "    return max_ganancia, mejor_pregunta"
      ]
    },
    {
      "cell_type": "markdown",
      "metadata": {
        "id": "IUTHcwSVTS93"
      },
      "source": [
        "Dado el siguiente dataset (el mismo que visto en clase):"
      ]
    },
    {
      "cell_type": "code",
      "execution_count": 9,
      "metadata": {
        "colab": {
          "base_uri": "https://localhost:8080/",
          "height": 523
        },
        "id": "6GeZ0Lp7TS93",
        "outputId": "f96b46e1-68c5-4f7f-8468-af579cfea361"
      },
      "outputs": [
        {
          "output_type": "display_data",
          "data": {
            "text/plain": [
              "      Cielo Temperatura Humedad  Viento\n",
              "0       Sol       Calor    Alta   Debil\n",
              "1       Sol       Calor    Alta  Fuerte\n",
              "2   Nublado       Calor    Alta   Debil\n",
              "3    Lluvia    Templado    Alta   Debil\n",
              "4    Lluvia        Frio  Normal   Debil\n",
              "5    Lluvia        Frio  Normal  Fuerte\n",
              "6   Nublado        Frio  Normal  Fuerte\n",
              "7       Sol    Templado    Alta   Debil\n",
              "8       Sol        Frio  Normal   Debil\n",
              "9    Lluvia    Templado  Normal   Debil\n",
              "10      Sol    Templado  Normal  Fuerte\n",
              "11  Nublado    Templado    Alta  Fuerte\n",
              "12  Nublado       Calor  Normal   Debil\n",
              "13   Lluvia    Templado    Alta  Fuerte"
            ],
            "text/html": [
              "\n",
              "  <div id=\"df-c82a4eb0-14f6-4795-94d5-271bc720bc61\" class=\"colab-df-container\">\n",
              "    <div>\n",
              "<style scoped>\n",
              "    .dataframe tbody tr th:only-of-type {\n",
              "        vertical-align: middle;\n",
              "    }\n",
              "\n",
              "    .dataframe tbody tr th {\n",
              "        vertical-align: top;\n",
              "    }\n",
              "\n",
              "    .dataframe thead th {\n",
              "        text-align: right;\n",
              "    }\n",
              "</style>\n",
              "<table border=\"1\" class=\"dataframe\">\n",
              "  <thead>\n",
              "    <tr style=\"text-align: right;\">\n",
              "      <th></th>\n",
              "      <th>Cielo</th>\n",
              "      <th>Temperatura</th>\n",
              "      <th>Humedad</th>\n",
              "      <th>Viento</th>\n",
              "    </tr>\n",
              "  </thead>\n",
              "  <tbody>\n",
              "    <tr>\n",
              "      <th>0</th>\n",
              "      <td>Sol</td>\n",
              "      <td>Calor</td>\n",
              "      <td>Alta</td>\n",
              "      <td>Debil</td>\n",
              "    </tr>\n",
              "    <tr>\n",
              "      <th>1</th>\n",
              "      <td>Sol</td>\n",
              "      <td>Calor</td>\n",
              "      <td>Alta</td>\n",
              "      <td>Fuerte</td>\n",
              "    </tr>\n",
              "    <tr>\n",
              "      <th>2</th>\n",
              "      <td>Nublado</td>\n",
              "      <td>Calor</td>\n",
              "      <td>Alta</td>\n",
              "      <td>Debil</td>\n",
              "    </tr>\n",
              "    <tr>\n",
              "      <th>3</th>\n",
              "      <td>Lluvia</td>\n",
              "      <td>Templado</td>\n",
              "      <td>Alta</td>\n",
              "      <td>Debil</td>\n",
              "    </tr>\n",
              "    <tr>\n",
              "      <th>4</th>\n",
              "      <td>Lluvia</td>\n",
              "      <td>Frio</td>\n",
              "      <td>Normal</td>\n",
              "      <td>Debil</td>\n",
              "    </tr>\n",
              "    <tr>\n",
              "      <th>5</th>\n",
              "      <td>Lluvia</td>\n",
              "      <td>Frio</td>\n",
              "      <td>Normal</td>\n",
              "      <td>Fuerte</td>\n",
              "    </tr>\n",
              "    <tr>\n",
              "      <th>6</th>\n",
              "      <td>Nublado</td>\n",
              "      <td>Frio</td>\n",
              "      <td>Normal</td>\n",
              "      <td>Fuerte</td>\n",
              "    </tr>\n",
              "    <tr>\n",
              "      <th>7</th>\n",
              "      <td>Sol</td>\n",
              "      <td>Templado</td>\n",
              "      <td>Alta</td>\n",
              "      <td>Debil</td>\n",
              "    </tr>\n",
              "    <tr>\n",
              "      <th>8</th>\n",
              "      <td>Sol</td>\n",
              "      <td>Frio</td>\n",
              "      <td>Normal</td>\n",
              "      <td>Debil</td>\n",
              "    </tr>\n",
              "    <tr>\n",
              "      <th>9</th>\n",
              "      <td>Lluvia</td>\n",
              "      <td>Templado</td>\n",
              "      <td>Normal</td>\n",
              "      <td>Debil</td>\n",
              "    </tr>\n",
              "    <tr>\n",
              "      <th>10</th>\n",
              "      <td>Sol</td>\n",
              "      <td>Templado</td>\n",
              "      <td>Normal</td>\n",
              "      <td>Fuerte</td>\n",
              "    </tr>\n",
              "    <tr>\n",
              "      <th>11</th>\n",
              "      <td>Nublado</td>\n",
              "      <td>Templado</td>\n",
              "      <td>Alta</td>\n",
              "      <td>Fuerte</td>\n",
              "    </tr>\n",
              "    <tr>\n",
              "      <th>12</th>\n",
              "      <td>Nublado</td>\n",
              "      <td>Calor</td>\n",
              "      <td>Normal</td>\n",
              "      <td>Debil</td>\n",
              "    </tr>\n",
              "    <tr>\n",
              "      <th>13</th>\n",
              "      <td>Lluvia</td>\n",
              "      <td>Templado</td>\n",
              "      <td>Alta</td>\n",
              "      <td>Fuerte</td>\n",
              "    </tr>\n",
              "  </tbody>\n",
              "</table>\n",
              "</div>\n",
              "    <div class=\"colab-df-buttons\">\n",
              "\n",
              "  <div class=\"colab-df-container\">\n",
              "    <button class=\"colab-df-convert\" onclick=\"convertToInteractive('df-c82a4eb0-14f6-4795-94d5-271bc720bc61')\"\n",
              "            title=\"Convert this dataframe to an interactive table.\"\n",
              "            style=\"display:none;\">\n",
              "\n",
              "  <svg xmlns=\"http://www.w3.org/2000/svg\" height=\"24px\" viewBox=\"0 -960 960 960\">\n",
              "    <path d=\"M120-120v-720h720v720H120Zm60-500h600v-160H180v160Zm220 220h160v-160H400v160Zm0 220h160v-160H400v160ZM180-400h160v-160H180v160Zm440 0h160v-160H620v160ZM180-180h160v-160H180v160Zm440 0h160v-160H620v160Z\"/>\n",
              "  </svg>\n",
              "    </button>\n",
              "\n",
              "  <style>\n",
              "    .colab-df-container {\n",
              "      display:flex;\n",
              "      gap: 12px;\n",
              "    }\n",
              "\n",
              "    .colab-df-convert {\n",
              "      background-color: #E8F0FE;\n",
              "      border: none;\n",
              "      border-radius: 50%;\n",
              "      cursor: pointer;\n",
              "      display: none;\n",
              "      fill: #1967D2;\n",
              "      height: 32px;\n",
              "      padding: 0 0 0 0;\n",
              "      width: 32px;\n",
              "    }\n",
              "\n",
              "    .colab-df-convert:hover {\n",
              "      background-color: #E2EBFA;\n",
              "      box-shadow: 0px 1px 2px rgba(60, 64, 67, 0.3), 0px 1px 3px 1px rgba(60, 64, 67, 0.15);\n",
              "      fill: #174EA6;\n",
              "    }\n",
              "\n",
              "    .colab-df-buttons div {\n",
              "      margin-bottom: 4px;\n",
              "    }\n",
              "\n",
              "    [theme=dark] .colab-df-convert {\n",
              "      background-color: #3B4455;\n",
              "      fill: #D2E3FC;\n",
              "    }\n",
              "\n",
              "    [theme=dark] .colab-df-convert:hover {\n",
              "      background-color: #434B5C;\n",
              "      box-shadow: 0px 1px 3px 1px rgba(0, 0, 0, 0.15);\n",
              "      filter: drop-shadow(0px 1px 2px rgba(0, 0, 0, 0.3));\n",
              "      fill: #FFFFFF;\n",
              "    }\n",
              "  </style>\n",
              "\n",
              "    <script>\n",
              "      const buttonEl =\n",
              "        document.querySelector('#df-c82a4eb0-14f6-4795-94d5-271bc720bc61 button.colab-df-convert');\n",
              "      buttonEl.style.display =\n",
              "        google.colab.kernel.accessAllowed ? 'block' : 'none';\n",
              "\n",
              "      async function convertToInteractive(key) {\n",
              "        const element = document.querySelector('#df-c82a4eb0-14f6-4795-94d5-271bc720bc61');\n",
              "        const dataTable =\n",
              "          await google.colab.kernel.invokeFunction('convertToInteractive',\n",
              "                                                    [key], {});\n",
              "        if (!dataTable) return;\n",
              "\n",
              "        const docLinkHtml = 'Like what you see? Visit the ' +\n",
              "          '<a target=\"_blank\" href=https://colab.research.google.com/notebooks/data_table.ipynb>data table notebook</a>'\n",
              "          + ' to learn more about interactive tables.';\n",
              "        element.innerHTML = '';\n",
              "        dataTable['output_type'] = 'display_data';\n",
              "        await google.colab.output.renderOutput(dataTable, element);\n",
              "        const docLink = document.createElement('div');\n",
              "        docLink.innerHTML = docLinkHtml;\n",
              "        element.appendChild(docLink);\n",
              "      }\n",
              "    </script>\n",
              "  </div>\n",
              "\n",
              "\n",
              "<div id=\"df-5e9b5b16-19a8-45f4-9ec7-85d02b751d16\">\n",
              "  <button class=\"colab-df-quickchart\" onclick=\"quickchart('df-5e9b5b16-19a8-45f4-9ec7-85d02b751d16')\"\n",
              "            title=\"Suggest charts\"\n",
              "            style=\"display:none;\">\n",
              "\n",
              "<svg xmlns=\"http://www.w3.org/2000/svg\" height=\"24px\"viewBox=\"0 0 24 24\"\n",
              "     width=\"24px\">\n",
              "    <g>\n",
              "        <path d=\"M19 3H5c-1.1 0-2 .9-2 2v14c0 1.1.9 2 2 2h14c1.1 0 2-.9 2-2V5c0-1.1-.9-2-2-2zM9 17H7v-7h2v7zm4 0h-2V7h2v10zm4 0h-2v-4h2v4z\"/>\n",
              "    </g>\n",
              "</svg>\n",
              "  </button>\n",
              "\n",
              "<style>\n",
              "  .colab-df-quickchart {\n",
              "      --bg-color: #E8F0FE;\n",
              "      --fill-color: #1967D2;\n",
              "      --hover-bg-color: #E2EBFA;\n",
              "      --hover-fill-color: #174EA6;\n",
              "      --disabled-fill-color: #AAA;\n",
              "      --disabled-bg-color: #DDD;\n",
              "  }\n",
              "\n",
              "  [theme=dark] .colab-df-quickchart {\n",
              "      --bg-color: #3B4455;\n",
              "      --fill-color: #D2E3FC;\n",
              "      --hover-bg-color: #434B5C;\n",
              "      --hover-fill-color: #FFFFFF;\n",
              "      --disabled-bg-color: #3B4455;\n",
              "      --disabled-fill-color: #666;\n",
              "  }\n",
              "\n",
              "  .colab-df-quickchart {\n",
              "    background-color: var(--bg-color);\n",
              "    border: none;\n",
              "    border-radius: 50%;\n",
              "    cursor: pointer;\n",
              "    display: none;\n",
              "    fill: var(--fill-color);\n",
              "    height: 32px;\n",
              "    padding: 0;\n",
              "    width: 32px;\n",
              "  }\n",
              "\n",
              "  .colab-df-quickchart:hover {\n",
              "    background-color: var(--hover-bg-color);\n",
              "    box-shadow: 0 1px 2px rgba(60, 64, 67, 0.3), 0 1px 3px 1px rgba(60, 64, 67, 0.15);\n",
              "    fill: var(--button-hover-fill-color);\n",
              "  }\n",
              "\n",
              "  .colab-df-quickchart-complete:disabled,\n",
              "  .colab-df-quickchart-complete:disabled:hover {\n",
              "    background-color: var(--disabled-bg-color);\n",
              "    fill: var(--disabled-fill-color);\n",
              "    box-shadow: none;\n",
              "  }\n",
              "\n",
              "  .colab-df-spinner {\n",
              "    border: 2px solid var(--fill-color);\n",
              "    border-color: transparent;\n",
              "    border-bottom-color: var(--fill-color);\n",
              "    animation:\n",
              "      spin 1s steps(1) infinite;\n",
              "  }\n",
              "\n",
              "  @keyframes spin {\n",
              "    0% {\n",
              "      border-color: transparent;\n",
              "      border-bottom-color: var(--fill-color);\n",
              "      border-left-color: var(--fill-color);\n",
              "    }\n",
              "    20% {\n",
              "      border-color: transparent;\n",
              "      border-left-color: var(--fill-color);\n",
              "      border-top-color: var(--fill-color);\n",
              "    }\n",
              "    30% {\n",
              "      border-color: transparent;\n",
              "      border-left-color: var(--fill-color);\n",
              "      border-top-color: var(--fill-color);\n",
              "      border-right-color: var(--fill-color);\n",
              "    }\n",
              "    40% {\n",
              "      border-color: transparent;\n",
              "      border-right-color: var(--fill-color);\n",
              "      border-top-color: var(--fill-color);\n",
              "    }\n",
              "    60% {\n",
              "      border-color: transparent;\n",
              "      border-right-color: var(--fill-color);\n",
              "    }\n",
              "    80% {\n",
              "      border-color: transparent;\n",
              "      border-right-color: var(--fill-color);\n",
              "      border-bottom-color: var(--fill-color);\n",
              "    }\n",
              "    90% {\n",
              "      border-color: transparent;\n",
              "      border-bottom-color: var(--fill-color);\n",
              "    }\n",
              "  }\n",
              "</style>\n",
              "\n",
              "  <script>\n",
              "    async function quickchart(key) {\n",
              "      const quickchartButtonEl =\n",
              "        document.querySelector('#' + key + ' button');\n",
              "      quickchartButtonEl.disabled = true;  // To prevent multiple clicks.\n",
              "      quickchartButtonEl.classList.add('colab-df-spinner');\n",
              "      try {\n",
              "        const charts = await google.colab.kernel.invokeFunction(\n",
              "            'suggestCharts', [key], {});\n",
              "      } catch (error) {\n",
              "        console.error('Error during call to suggestCharts:', error);\n",
              "      }\n",
              "      quickchartButtonEl.classList.remove('colab-df-spinner');\n",
              "      quickchartButtonEl.classList.add('colab-df-quickchart-complete');\n",
              "    }\n",
              "    (() => {\n",
              "      let quickchartButtonEl =\n",
              "        document.querySelector('#df-5e9b5b16-19a8-45f4-9ec7-85d02b751d16 button');\n",
              "      quickchartButtonEl.style.display =\n",
              "        google.colab.kernel.accessAllowed ? 'block' : 'none';\n",
              "    })();\n",
              "  </script>\n",
              "</div>\n",
              "\n",
              "  <div id=\"id_7763af7b-4334-43ac-9aa8-5a5c2b9f38d5\">\n",
              "    <style>\n",
              "      .colab-df-generate {\n",
              "        background-color: #E8F0FE;\n",
              "        border: none;\n",
              "        border-radius: 50%;\n",
              "        cursor: pointer;\n",
              "        display: none;\n",
              "        fill: #1967D2;\n",
              "        height: 32px;\n",
              "        padding: 0 0 0 0;\n",
              "        width: 32px;\n",
              "      }\n",
              "\n",
              "      .colab-df-generate:hover {\n",
              "        background-color: #E2EBFA;\n",
              "        box-shadow: 0px 1px 2px rgba(60, 64, 67, 0.3), 0px 1px 3px 1px rgba(60, 64, 67, 0.15);\n",
              "        fill: #174EA6;\n",
              "      }\n",
              "\n",
              "      [theme=dark] .colab-df-generate {\n",
              "        background-color: #3B4455;\n",
              "        fill: #D2E3FC;\n",
              "      }\n",
              "\n",
              "      [theme=dark] .colab-df-generate:hover {\n",
              "        background-color: #434B5C;\n",
              "        box-shadow: 0px 1px 3px 1px rgba(0, 0, 0, 0.15);\n",
              "        filter: drop-shadow(0px 1px 2px rgba(0, 0, 0, 0.3));\n",
              "        fill: #FFFFFF;\n",
              "      }\n",
              "    </style>\n",
              "    <button class=\"colab-df-generate\" onclick=\"generateWithVariable('X')\"\n",
              "            title=\"Generate code using this dataframe.\"\n",
              "            style=\"display:none;\">\n",
              "\n",
              "  <svg xmlns=\"http://www.w3.org/2000/svg\" height=\"24px\"viewBox=\"0 0 24 24\"\n",
              "       width=\"24px\">\n",
              "    <path d=\"M7,19H8.4L18.45,9,17,7.55,7,17.6ZM5,21V16.75L18.45,3.32a2,2,0,0,1,2.83,0l1.4,1.43a1.91,1.91,0,0,1,.58,1.4,1.91,1.91,0,0,1-.58,1.4L9.25,21ZM18.45,9,17,7.55Zm-12,3A5.31,5.31,0,0,0,4.9,8.1,5.31,5.31,0,0,0,1,6.5,5.31,5.31,0,0,0,4.9,4.9,5.31,5.31,0,0,0,6.5,1,5.31,5.31,0,0,0,8.1,4.9,5.31,5.31,0,0,0,12,6.5,5.46,5.46,0,0,0,6.5,12Z\"/>\n",
              "  </svg>\n",
              "    </button>\n",
              "    <script>\n",
              "      (() => {\n",
              "      const buttonEl =\n",
              "        document.querySelector('#id_7763af7b-4334-43ac-9aa8-5a5c2b9f38d5 button.colab-df-generate');\n",
              "      buttonEl.style.display =\n",
              "        google.colab.kernel.accessAllowed ? 'block' : 'none';\n",
              "\n",
              "      buttonEl.onclick = () => {\n",
              "        google.colab.notebook.generateWithVariable('X');\n",
              "      }\n",
              "      })();\n",
              "    </script>\n",
              "  </div>\n",
              "\n",
              "    </div>\n",
              "  </div>\n"
            ],
            "application/vnd.google.colaboratory.intrinsic+json": {
              "type": "dataframe",
              "variable_name": "X",
              "summary": "{\n  \"name\": \"X\",\n  \"rows\": 14,\n  \"fields\": [\n    {\n      \"column\": \"Cielo\",\n      \"properties\": {\n        \"dtype\": \"category\",\n        \"num_unique_values\": 3,\n        \"samples\": [\n          \"Sol\",\n          \"Nublado\",\n          \"Lluvia\"\n        ],\n        \"semantic_type\": \"\",\n        \"description\": \"\"\n      }\n    },\n    {\n      \"column\": \"Temperatura\",\n      \"properties\": {\n        \"dtype\": \"category\",\n        \"num_unique_values\": 3,\n        \"samples\": [\n          \"Calor\",\n          \"Templado\",\n          \"Frio\"\n        ],\n        \"semantic_type\": \"\",\n        \"description\": \"\"\n      }\n    },\n    {\n      \"column\": \"Humedad\",\n      \"properties\": {\n        \"dtype\": \"category\",\n        \"num_unique_values\": 2,\n        \"samples\": [\n          \"Normal\",\n          \"Alta\"\n        ],\n        \"semantic_type\": \"\",\n        \"description\": \"\"\n      }\n    },\n    {\n      \"column\": \"Viento\",\n      \"properties\": {\n        \"dtype\": \"category\",\n        \"num_unique_values\": 2,\n        \"samples\": [\n          \"Fuerte\",\n          \"Debil\"\n        ],\n        \"semantic_type\": \"\",\n        \"description\": \"\"\n      }\n    }\n  ]\n}"
            }
          },
          "metadata": {}
        },
        {
          "output_type": "display_data",
          "data": {
            "text/plain": [
              "array(['No', 'No', 'Si', 'Si', 'Si', 'No', 'Si', 'No', 'Si', 'Si', 'Si',\n",
              "       'Si', 'Si', 'No'], dtype='<U2')"
            ]
          },
          "metadata": {}
        }
      ],
      "source": [
        "X = pd.DataFrame([[\"Sol\",\"Calor\",\"Alta\",\"Debil\"],\n",
        "                [\"Sol\",\"Calor\",\"Alta\",\"Fuerte\"],\n",
        "                [\"Nublado\",\"Calor\",\"Alta\",\"Debil\"],\n",
        "                [\"Lluvia\",\"Templado\",\"Alta\",\"Debil\"],\n",
        "                [\"Lluvia\",\"Frio\",\"Normal\",\"Debil\"],\n",
        "                [\"Lluvia\",\"Frio\",\"Normal\",\"Fuerte\"],\n",
        "                [\"Nublado\",\"Frio\",\"Normal\",\"Fuerte\"],\n",
        "                [\"Sol\",\"Templado\",\"Alta\",\"Debil\"],\n",
        "                [\"Sol\",\"Frio\",\"Normal\",\"Debil\"],\n",
        "                [\"Lluvia\",\"Templado\",\"Normal\",\"Debil\"],\n",
        "                [\"Sol\",\"Templado\",\"Normal\",\"Fuerte\"],\n",
        "                [\"Nublado\",\"Templado\",\"Alta\",\"Fuerte\"],\n",
        "                [\"Nublado\",\"Calor\",\"Normal\",\"Debil\"],\n",
        "                [\"Lluvia\",\"Templado\",\"Alta\",\"Fuerte\"]],\n",
        "                columns = ['Cielo', 'Temperatura', 'Humedad', 'Viento'])\n",
        "\n",
        "y = np.array(['No', 'No', 'Si', 'Si', 'Si', 'No', 'Si', 'No', 'Si', 'Si', 'Si', 'Si', 'Si', 'No'])\n",
        "\n",
        "display(X)\n",
        "display(y)"
      ]
    },
    {
      "cell_type": "code",
      "execution_count": 10,
      "metadata": {
        "id": "CBPY2iRITS95"
      },
      "outputs": [],
      "source": [
        "instancias_cumplen = pd.DataFrame(columns=X.columns)\n",
        "instancias_cumplen.loc[len(instancias_cumplen)] = X.loc[0].to_numpy()"
      ]
    },
    {
      "cell_type": "markdown",
      "metadata": {
        "id": "MqC3DmNZTS95"
      },
      "source": [
        "Completar las funciones previas, entrenar y visualizar un Árbol de Decisión."
      ]
    },
    {
      "cell_type": "code",
      "execution_count": 11,
      "metadata": {
        "colab": {
          "base_uri": "https://localhost:8080/",
          "height": 1000
        },
        "id": "Xyt_W_x5TS95",
        "outputId": "f2a10694-f6ed-4da4-cd28-25fa1c16b685"
      },
      "outputs": [
        {
          "output_type": "stream",
          "name": "stdout",
          "text": [
            "¿Es el valor para Cielo igual a Nublado? - {'No': 5, 'Si': 9}\n",
            "--> True:\n",
            "  Hoja: {'Si': 4}\n",
            "--> False:\n",
            "  ¿Es el valor para Humedad igual a Normal? - {'No': 5, 'Si': 5}\n",
            "  --> True:\n",
            "    ¿Es el valor para Viento igual a Debil? - {'Si': 4, 'No': 1}\n",
            "    --> True:\n",
            "      Hoja: {'Si': 3}\n",
            "    --> False:\n",
            "      ¿Es el valor para Cielo igual a Lluvia? - {'No': 1, 'Si': 1}\n",
            "      --> True:\n",
            "        Hoja: {'No': 1}\n",
            "      --> False:\n",
            "        Hoja: {'Si': 1}\n",
            "  --> False:\n",
            "    ¿Es el valor para Cielo igual a Lluvia? - {'No': 4, 'Si': 1}\n",
            "    --> True:\n",
            "      ¿Es el valor para Viento igual a Debil? - {'Si': 1, 'No': 1}\n",
            "      --> True:\n",
            "        Hoja: {'Si': 1}\n",
            "      --> False:\n",
            "        Hoja: {'No': 1}\n",
            "    --> False:\n",
            "      Hoja: {'No': 3}\n"
          ]
        },
        {
          "output_type": "execute_result",
          "data": {
            "image/svg+xml": "<?xml version=\"1.0\" encoding=\"UTF-8\" standalone=\"no\"?>\n<!DOCTYPE svg PUBLIC \"-//W3C//DTD SVG 1.1//EN\"\n \"http://www.w3.org/Graphics/SVG/1.1/DTD/svg11.dtd\">\n<!-- Generated by graphviz version 2.43.0 (0)\n -->\n<!-- Title: %3 Pages: 1 -->\n<svg width=\"394pt\" height=\"480pt\"\n viewBox=\"0.00 0.00 393.50 480.00\" xmlns=\"http://www.w3.org/2000/svg\" xmlns:xlink=\"http://www.w3.org/1999/xlink\">\n<g id=\"graph0\" class=\"graph\" transform=\"scale(1 1) rotate(0) translate(4 476)\">\n<title>%3</title>\n<polygon fill=\"white\" stroke=\"transparent\" points=\"-4,4 -4,-476 389.5,-476 389.5,4 -4,4\"/>\n<!-- n -->\n<g id=\"node1\" class=\"node\">\n<title>n</title>\n<polygon fill=\"#029e39\" fill-opacity=\"0.501961\" stroke=\"black\" points=\"166.5,-472 63.5,-472 63.5,-419 166.5,-419 166.5,-472\"/>\n<text text-anchor=\"middle\" x=\"115\" y=\"-456.8\" font-family=\"Times,serif\" font-size=\"14.00\">Cielo: Nublado</text>\n<text text-anchor=\"middle\" x=\"115\" y=\"-441.8\" font-family=\"Times,serif\" font-size=\"14.00\">n=14</text>\n<text text-anchor=\"middle\" x=\"115\" y=\"-426.8\" font-family=\"Times,serif\" font-size=\"14.00\">{&#39;No&#39;: 5, &#39;Si&#39;: 9}</text>\n</g>\n<!-- ln -->\n<g id=\"node2\" class=\"node\">\n<title>ln</title>\n<polygon fill=\"#029e39\" fill-opacity=\"0.501961\" stroke=\"black\" points=\"121,-368 61,-368 61,-314 121,-314 121,-368\"/>\n<text text-anchor=\"middle\" x=\"91\" y=\"-336.8\" font-family=\"Times,serif\" font-size=\"14.00\">n=4</text>\n<text text-anchor=\"middle\" x=\"91\" y=\"-321.8\" font-family=\"Times,serif\" font-size=\"14.00\">{&#39;Si&#39;: 4}</text>\n</g>\n<!-- n&#45;&gt;ln -->\n<g id=\"edge1\" class=\"edge\">\n<title>n&#45;&gt;ln</title>\n<path fill=\"none\" stroke=\"black\" d=\"M109.01,-418.9C106.13,-406.61 102.63,-391.68 99.49,-378.25\"/>\n<polygon fill=\"black\" stroke=\"black\" points=\"102.86,-377.28 97.17,-368.34 96.04,-378.88 102.86,-377.28\"/>\n<text text-anchor=\"middle\" x=\"118\" y=\"-389.8\" font-family=\"Times,serif\" font-size=\"14.00\">True</text>\n</g>\n<!-- rn -->\n<g id=\"node3\" class=\"node\">\n<title>rn</title>\n<polygon fill=\"#ea0800\" fill-opacity=\"0.501961\" stroke=\"black\" points=\"258.5,-367.5 139.5,-367.5 139.5,-314.5 258.5,-314.5 258.5,-367.5\"/>\n<text text-anchor=\"middle\" x=\"199\" y=\"-352.3\" font-family=\"Times,serif\" font-size=\"14.00\">Humedad: Normal</text>\n<text text-anchor=\"middle\" x=\"199\" y=\"-337.3\" font-family=\"Times,serif\" font-size=\"14.00\">n=10</text>\n<text text-anchor=\"middle\" x=\"199\" y=\"-322.3\" font-family=\"Times,serif\" font-size=\"14.00\">{&#39;No&#39;: 5, &#39;Si&#39;: 5}</text>\n</g>\n<!-- n&#45;&gt;rn -->\n<g id=\"edge12\" class=\"edge\">\n<title>n&#45;&gt;rn</title>\n<path fill=\"none\" stroke=\"black\" d=\"M135.98,-418.9C146.7,-405.81 159.89,-389.72 171.43,-375.65\"/>\n<polygon fill=\"black\" stroke=\"black\" points=\"174.36,-377.58 178,-367.63 168.95,-373.15 174.36,-377.58\"/>\n<text text-anchor=\"middle\" x=\"177.5\" y=\"-389.8\" font-family=\"Times,serif\" font-size=\"14.00\">False</text>\n</g>\n<!-- rln -->\n<g id=\"node4\" class=\"node\">\n<title>rln</title>\n<polygon fill=\"#029e39\" fill-opacity=\"0.501961\" stroke=\"black\" points=\"181.5,-263 78.5,-263 78.5,-210 181.5,-210 181.5,-263\"/>\n<text text-anchor=\"middle\" x=\"130\" y=\"-247.8\" font-family=\"Times,serif\" font-size=\"14.00\">Viento: Debil</text>\n<text text-anchor=\"middle\" x=\"130\" y=\"-232.8\" font-family=\"Times,serif\" font-size=\"14.00\">n=5</text>\n<text text-anchor=\"middle\" x=\"130\" y=\"-217.8\" font-family=\"Times,serif\" font-size=\"14.00\">{&#39;Si&#39;: 4, &#39;No&#39;: 1}</text>\n</g>\n<!-- rn&#45;&gt;rln -->\n<g id=\"edge6\" class=\"edge\">\n<title>rn&#45;&gt;rln</title>\n<path fill=\"none\" stroke=\"black\" d=\"M181.77,-314.4C173.04,-301.44 162.33,-285.52 152.92,-271.54\"/>\n<polygon fill=\"black\" stroke=\"black\" points=\"155.74,-269.47 147.25,-263.13 149.93,-273.38 155.74,-269.47\"/>\n<text text-anchor=\"middle\" x=\"182\" y=\"-284.8\" font-family=\"Times,serif\" font-size=\"14.00\">True</text>\n</g>\n<!-- rrn -->\n<g id=\"node9\" class=\"node\">\n<title>rrn</title>\n<polygon fill=\"#ea0800\" fill-opacity=\"0.501961\" stroke=\"black\" points=\"302.5,-263 199.5,-263 199.5,-210 302.5,-210 302.5,-263\"/>\n<text text-anchor=\"middle\" x=\"251\" y=\"-247.8\" font-family=\"Times,serif\" font-size=\"14.00\">Cielo: Lluvia</text>\n<text text-anchor=\"middle\" x=\"251\" y=\"-232.8\" font-family=\"Times,serif\" font-size=\"14.00\">n=5</text>\n<text text-anchor=\"middle\" x=\"251\" y=\"-217.8\" font-family=\"Times,serif\" font-size=\"14.00\">{&#39;No&#39;: 4, &#39;Si&#39;: 1}</text>\n</g>\n<!-- rn&#45;&gt;rrn -->\n<g id=\"edge11\" class=\"edge\">\n<title>rn&#45;&gt;rrn</title>\n<path fill=\"none\" stroke=\"black\" d=\"M211.99,-314.4C218.44,-301.68 226.33,-286.12 233.33,-272.33\"/>\n<polygon fill=\"black\" stroke=\"black\" points=\"236.59,-273.63 238,-263.13 230.35,-270.46 236.59,-273.63\"/>\n<text text-anchor=\"middle\" x=\"243.5\" y=\"-284.8\" font-family=\"Times,serif\" font-size=\"14.00\">False</text>\n</g>\n<!-- rlln -->\n<g id=\"node5\" class=\"node\">\n<title>rlln</title>\n<polygon fill=\"#029e39\" fill-opacity=\"0.501961\" stroke=\"black\" points=\"60,-159 0,-159 0,-105 60,-105 60,-159\"/>\n<text text-anchor=\"middle\" x=\"30\" y=\"-127.8\" font-family=\"Times,serif\" font-size=\"14.00\">n=3</text>\n<text text-anchor=\"middle\" x=\"30\" y=\"-112.8\" font-family=\"Times,serif\" font-size=\"14.00\">{&#39;Si&#39;: 3}</text>\n</g>\n<!-- rln&#45;&gt;rlln -->\n<g id=\"edge2\" class=\"edge\">\n<title>rln&#45;&gt;rlln</title>\n<path fill=\"none\" stroke=\"black\" d=\"M105.02,-209.9C92.22,-196.77 76.46,-180.62 62.69,-166.51\"/>\n<polygon fill=\"black\" stroke=\"black\" points=\"65.19,-164.06 55.7,-159.34 60.18,-168.95 65.19,-164.06\"/>\n<text text-anchor=\"middle\" x=\"99\" y=\"-180.8\" font-family=\"Times,serif\" font-size=\"14.00\">True</text>\n</g>\n<!-- rlrn -->\n<g id=\"node6\" class=\"node\">\n<title>rlrn</title>\n<polygon fill=\"#ea0800\" fill-opacity=\"0.501961\" stroke=\"black\" points=\"181.5,-158.5 78.5,-158.5 78.5,-105.5 181.5,-105.5 181.5,-158.5\"/>\n<text text-anchor=\"middle\" x=\"130\" y=\"-143.3\" font-family=\"Times,serif\" font-size=\"14.00\">Cielo: Lluvia</text>\n<text text-anchor=\"middle\" x=\"130\" y=\"-128.3\" font-family=\"Times,serif\" font-size=\"14.00\">n=2</text>\n<text text-anchor=\"middle\" x=\"130\" y=\"-113.3\" font-family=\"Times,serif\" font-size=\"14.00\">{&#39;No&#39;: 1, &#39;Si&#39;: 1}</text>\n</g>\n<!-- rln&#45;&gt;rlrn -->\n<g id=\"edge5\" class=\"edge\">\n<title>rln&#45;&gt;rlrn</title>\n<path fill=\"none\" stroke=\"black\" d=\"M130,-209.9C130,-197.42 130,-182.22 130,-168.63\"/>\n<polygon fill=\"black\" stroke=\"black\" points=\"133.5,-168.63 130,-158.63 126.5,-168.63 133.5,-168.63\"/>\n<text text-anchor=\"middle\" x=\"144.5\" y=\"-180.8\" font-family=\"Times,serif\" font-size=\"14.00\">False</text>\n</g>\n<!-- rlrln -->\n<g id=\"node7\" class=\"node\">\n<title>rlrln</title>\n<polygon fill=\"#ea0800\" fill-opacity=\"0.501961\" stroke=\"black\" points=\"92.5,-54 27.5,-54 27.5,0 92.5,0 92.5,-54\"/>\n<text text-anchor=\"middle\" x=\"60\" y=\"-22.8\" font-family=\"Times,serif\" font-size=\"14.00\">n=1</text>\n<text text-anchor=\"middle\" x=\"60\" y=\"-7.8\" font-family=\"Times,serif\" font-size=\"14.00\">{&#39;No&#39;: 1}</text>\n</g>\n<!-- rlrn&#45;&gt;rlrln -->\n<g id=\"edge3\" class=\"edge\">\n<title>rlrn&#45;&gt;rlrln</title>\n<path fill=\"none\" stroke=\"black\" d=\"M112.52,-105.27C103.73,-92.35 92.96,-76.5 83.46,-62.53\"/>\n<polygon fill=\"black\" stroke=\"black\" points=\"86.26,-60.42 77.75,-54.11 80.47,-64.35 86.26,-60.42\"/>\n<text text-anchor=\"middle\" x=\"113\" y=\"-75.8\" font-family=\"Times,serif\" font-size=\"14.00\">True</text>\n</g>\n<!-- rlrrn -->\n<g id=\"node8\" class=\"node\">\n<title>rlrrn</title>\n<polygon fill=\"#029e39\" fill-opacity=\"0.501961\" stroke=\"black\" points=\"171,-54 111,-54 111,0 171,0 171,-54\"/>\n<text text-anchor=\"middle\" x=\"141\" y=\"-22.8\" font-family=\"Times,serif\" font-size=\"14.00\">n=1</text>\n<text text-anchor=\"middle\" x=\"141\" y=\"-7.8\" font-family=\"Times,serif\" font-size=\"14.00\">{&#39;Si&#39;: 1}</text>\n</g>\n<!-- rlrn&#45;&gt;rlrrn -->\n<g id=\"edge4\" class=\"edge\">\n<title>rlrn&#45;&gt;rlrrn</title>\n<path fill=\"none\" stroke=\"black\" d=\"M132.75,-105.27C134.08,-92.83 135.69,-77.69 137.14,-64.12\"/>\n<polygon fill=\"black\" stroke=\"black\" points=\"140.63,-64.43 138.21,-54.11 133.67,-63.68 140.63,-64.43\"/>\n<text text-anchor=\"middle\" x=\"151.5\" y=\"-75.8\" font-family=\"Times,serif\" font-size=\"14.00\">False</text>\n</g>\n<!-- rrln -->\n<g id=\"node10\" class=\"node\">\n<title>rrln</title>\n<polygon fill=\"#029e39\" fill-opacity=\"0.501961\" stroke=\"black\" points=\"302.5,-158.5 199.5,-158.5 199.5,-105.5 302.5,-105.5 302.5,-158.5\"/>\n<text text-anchor=\"middle\" x=\"251\" y=\"-143.3\" font-family=\"Times,serif\" font-size=\"14.00\">Viento: Debil</text>\n<text text-anchor=\"middle\" x=\"251\" y=\"-128.3\" font-family=\"Times,serif\" font-size=\"14.00\">n=2</text>\n<text text-anchor=\"middle\" x=\"251\" y=\"-113.3\" font-family=\"Times,serif\" font-size=\"14.00\">{&#39;Si&#39;: 1, &#39;No&#39;: 1}</text>\n</g>\n<!-- rrn&#45;&gt;rrln -->\n<g id=\"edge9\" class=\"edge\">\n<title>rrn&#45;&gt;rrln</title>\n<path fill=\"none\" stroke=\"black\" d=\"M251,-209.9C251,-197.42 251,-182.22 251,-168.63\"/>\n<polygon fill=\"black\" stroke=\"black\" points=\"254.5,-168.63 251,-158.63 247.5,-168.63 254.5,-168.63\"/>\n<text text-anchor=\"middle\" x=\"264\" y=\"-180.8\" font-family=\"Times,serif\" font-size=\"14.00\">True</text>\n</g>\n<!-- rrrn -->\n<g id=\"node13\" class=\"node\">\n<title>rrrn</title>\n<polygon fill=\"#ea0800\" fill-opacity=\"0.501961\" stroke=\"black\" points=\"385.5,-159 320.5,-159 320.5,-105 385.5,-105 385.5,-159\"/>\n<text text-anchor=\"middle\" x=\"353\" y=\"-127.8\" font-family=\"Times,serif\" font-size=\"14.00\">n=3</text>\n<text text-anchor=\"middle\" x=\"353\" y=\"-112.8\" font-family=\"Times,serif\" font-size=\"14.00\">{&#39;No&#39;: 3}</text>\n</g>\n<!-- rrn&#45;&gt;rrrn -->\n<g id=\"edge10\" class=\"edge\">\n<title>rrn&#45;&gt;rrrn</title>\n<path fill=\"none\" stroke=\"black\" d=\"M276.48,-209.9C289.54,-196.77 305.62,-180.62 319.65,-166.51\"/>\n<polygon fill=\"black\" stroke=\"black\" points=\"322.21,-168.9 326.78,-159.34 317.25,-163.96 322.21,-168.9\"/>\n<text text-anchor=\"middle\" x=\"323.5\" y=\"-180.8\" font-family=\"Times,serif\" font-size=\"14.00\">False</text>\n</g>\n<!-- rrlln -->\n<g id=\"node11\" class=\"node\">\n<title>rrlln</title>\n<polygon fill=\"#029e39\" fill-opacity=\"0.501961\" stroke=\"black\" points=\"270,-54 210,-54 210,0 270,0 270,-54\"/>\n<text text-anchor=\"middle\" x=\"240\" y=\"-22.8\" font-family=\"Times,serif\" font-size=\"14.00\">n=1</text>\n<text text-anchor=\"middle\" x=\"240\" y=\"-7.8\" font-family=\"Times,serif\" font-size=\"14.00\">{&#39;Si&#39;: 1}</text>\n</g>\n<!-- rrln&#45;&gt;rrlln -->\n<g id=\"edge7\" class=\"edge\">\n<title>rrln&#45;&gt;rrlln</title>\n<path fill=\"none\" stroke=\"black\" d=\"M248.25,-105.27C246.92,-92.83 245.31,-77.69 243.86,-64.12\"/>\n<polygon fill=\"black\" stroke=\"black\" points=\"247.33,-63.68 242.79,-54.11 240.37,-64.43 247.33,-63.68\"/>\n<text text-anchor=\"middle\" x=\"260\" y=\"-75.8\" font-family=\"Times,serif\" font-size=\"14.00\">True</text>\n</g>\n<!-- rrlrn -->\n<g id=\"node12\" class=\"node\">\n<title>rrlrn</title>\n<polygon fill=\"#ea0800\" fill-opacity=\"0.501961\" stroke=\"black\" points=\"353.5,-54 288.5,-54 288.5,0 353.5,0 353.5,-54\"/>\n<text text-anchor=\"middle\" x=\"321\" y=\"-22.8\" font-family=\"Times,serif\" font-size=\"14.00\">n=1</text>\n<text text-anchor=\"middle\" x=\"321\" y=\"-7.8\" font-family=\"Times,serif\" font-size=\"14.00\">{&#39;No&#39;: 1}</text>\n</g>\n<!-- rrln&#45;&gt;rrlrn -->\n<g id=\"edge8\" class=\"edge\">\n<title>rrln&#45;&gt;rrlrn</title>\n<path fill=\"none\" stroke=\"black\" d=\"M268.48,-105.27C277.27,-92.35 288.04,-76.5 297.54,-62.53\"/>\n<polygon fill=\"black\" stroke=\"black\" points=\"300.53,-64.35 303.25,-54.11 294.74,-60.42 300.53,-64.35\"/>\n<text text-anchor=\"middle\" x=\"305.5\" y=\"-75.8\" font-family=\"Times,serif\" font-size=\"14.00\">False</text>\n</g>\n</g>\n</svg>\n",
            "text/plain": [
              "<graphviz.graphs.Digraph at 0x7af7e5e8a920>"
            ]
          },
          "metadata": {},
          "execution_count": 11
        }
      ],
      "source": [
        "arbol = Tree()\n",
        "arbol.fit(X, y)\n",
        "print(arbol)\n",
        "arbol.render()"
      ]
    },
    {
      "cell_type": "markdown",
      "metadata": {
        "id": "1t9-6v6iTS96"
      },
      "source": [
        "Para evaluar instancias en el árbol podemos construirlas y evaluarlas de la siguiente manera:"
      ]
    },
    {
      "cell_type": "code",
      "execution_count": 12,
      "metadata": {
        "colab": {
          "base_uri": "https://localhost:8080/"
        },
        "id": "XsYy5lfbTS96",
        "outputId": "3f2634a5-e72c-4946-9279-92baa500dcf5"
      },
      "outputs": [
        {
          "output_type": "stream",
          "name": "stdout",
          "text": [
            "Para un día {'Cielo': 'Sol', 'Temperatura': 'Calor', 'Humedad': 'Alta', 'Viento': 'Debil'} obtuve No\n",
            "Para un día {'Cielo': 'Nublado', 'Temperatura': 'Calor', 'Humedad': 'Alta', 'Viento': 'Debil'} obtuve Si\n"
          ]
        }
      ],
      "source": [
        "xs_nuevo = [{'Cielo': 'Sol', 'Temperatura': 'Calor', 'Humedad': 'Alta', 'Viento': 'Debil'},\n",
        "            {'Cielo': 'Nublado', 'Temperatura': 'Calor', 'Humedad': 'Alta', 'Viento': 'Debil'}]\n",
        "\n",
        "for instancia in xs_nuevo:\n",
        "    res = arbol.predict(instancia)\n",
        "    print(f\"Para un día {instancia} obtuve {res}\")"
      ]
    },
    {
      "cell_type": "markdown",
      "metadata": {
        "id": "JbTTH3RcTS97"
      },
      "source": [
        "¿Se obtuvieron los valores esperados? Explorar al menos 1 caso por cada rama del árbol."
      ]
    },
    {
      "cell_type": "markdown",
      "source": [
        "Viendo el árbol de arriba, vemos que ambos dieron bien."
      ],
      "metadata": {
        "id": "t7iC0nzSUXSu"
      }
    },
    {
      "cell_type": "markdown",
      "metadata": {
        "id": "u85jn4IWTS97"
      },
      "source": [
        "# Opcional: Atributos continuos"
      ]
    },
    {
      "cell_type": "markdown",
      "metadata": {
        "id": "BfrRzZKlTS97"
      },
      "source": [
        "La implementación anterior permite construir árboles partiendo de un dataset cuyos atributos no son continuos. Modificar dicha implementación para que soporte este tipo de atributos.\n",
        "¿Qué funciones hay que modificar?"
      ]
    }
  ],
  "metadata": {
    "kernelspec": {
      "display_name": "Python 3",
      "language": "python",
      "name": "python3"
    },
    "language_info": {
      "codemirror_mode": {
        "name": "ipython",
        "version": 3
      },
      "file_extension": ".py",
      "mimetype": "text/x-python",
      "name": "python",
      "nbconvert_exporter": "python",
      "pygments_lexer": "ipython3",
      "version": "3.9.6"
    },
    "colab": {
      "provenance": []
    }
  },
  "nbformat": 4,
  "nbformat_minor": 0
}
